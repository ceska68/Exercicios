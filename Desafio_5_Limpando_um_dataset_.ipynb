{
  "cells": [
    {
      "cell_type": "markdown",
      "metadata": {
        "id": "view-in-github",
        "colab_type": "text"
      },
      "source": [
        "<a href=\"https://colab.research.google.com/github/ceska68/Exercicios/blob/main/Desafio_5_Limpando_um_dataset_.ipynb\" target=\"_parent\"><img src=\"https://colab.research.google.com/assets/colab-badge.svg\" alt=\"Open In Colab\"/></a>"
      ]
    },
    {
      "cell_type": "markdown",
      "metadata": {
        "id": "6xP-b4V4ob2Y"
      },
      "source": [
        "<div>\n",
        "    <p style=\"float: right;\"><img src=\"https://media.swipepages.com/2021/2/sirius-logo-principal-tag-1-300.png\" height=\"80px\"border=\"1px\"></p>\n",
        "    \n",
        "</div>\n",
        "<h1>Nano Desafio</h1>\n",
        "<h2>Pandas </h2>\n",
        "\n",
        "Aluno: \n",
        "\n",
        "Data:"
      ]
    },
    {
      "cell_type": "markdown",
      "metadata": {
        "id": "EmKQ7k-Wob2a"
      },
      "source": [
        "###### Estima-se em torno de 70-80% do tempo e esforço total de um projeto de análise de dados é o pré-processamento.Uma das partes do processamento é o que chamamos de \"data cleaning\" que é  limpeza de dados e o processo de detecção e correção de registros corrompidos ou imprecisos. Isso é importante  para deixar os dados prontos para análises posteriores!\n",
        "###### Por isso, chegou sua vez de ver um pouco como isso tudo acontece!"
      ]
    },
    {
      "cell_type": "markdown",
      "metadata": {
        "id": "BfowTv9-ob2b"
      },
      "source": [
        "[Acesse o csv chamado Churn](https://drive.google.com/file/d/1jQYxZTvOa7qQMdF1-PNHx9_Io_rT5X9S/view?usp=sharing). Você deve limpar e deixar esse dataset pronto para análises. Não se preocupe tanto em analisar o dataset agora. Seu objetivo, por hora, é encontrar possíveis erros de input, discutir com a área de negócios e tomar algumas decisões que serão comuns quando você receber um dataset:\n",
        " - Excluir ou não uma informação;\n",
        " - inputar um valor faltante;\n",
        " - substituir valores, etc"
      ]
    },
    {
      "cell_type": "markdown",
      "metadata": {
        "id": "FWf_VBkUob2b"
      },
      "source": [
        "**Obs.: churn, em poucas palavras,são os casos onde um cliente ou usuário para de comprar ou usar o produto ou serviço de uma empresa.**"
      ]
    },
    {
      "cell_type": "markdown",
      "metadata": {
        "id": "_oP2YUrHob2c"
      },
      "source": [
        "1 - sua primeira tarefa é importar alguns pacotes importantes para seu trabalho:\n",
        "\n",
        "- importe os pacotes pandas e seaborn\n",
        "    "
      ]
    },
    {
      "cell_type": "code",
      "execution_count": null,
      "metadata": {
        "id": "qRWmWoSPob2c"
      },
      "outputs": [],
      "source": []
    },
    {
      "cell_type": "markdown",
      "metadata": {
        "id": "VulrXa0Gob2c"
      },
      "source": [
        "2 - para trabalhar com os dados você precisa trazê-los para o Python. Faça isso:"
      ]
    },
    {
      "cell_type": "code",
      "execution_count": null,
      "metadata": {
        "id": "_X_VkfNcob2d"
      },
      "outputs": [],
      "source": [
        "\n"
      ]
    },
    {
      "cell_type": "markdown",
      "metadata": {
        "id": "74zTi604ob2j"
      },
      "source": [
        "3 - agora que você trouxe os dados para o mundo maravilhoso do Python, visualize algumas linhas desse conjunto de dados, afinal você precisa conhecer esses dados não é?!!"
      ]
    },
    {
      "cell_type": "code",
      "execution_count": null,
      "metadata": {
        "id": "QIxl9C6gob2j"
      },
      "outputs": [],
      "source": []
    },
    {
      "cell_type": "markdown",
      "metadata": {
        "id": "htVn2z9Job2k"
      },
      "source": [
        "4 - Notou algo estranho? Apesar de você saber do que se trata  o problema e os dados, parece que falta alguma coisa, não é?\n",
        "\n",
        "Você não sabe quem são suas variáveis pois as colunas não estão nomeadas!! Bem Vindo ao mundo da análise de dados!!!\n",
        "\n"
      ]
    },
    {
      "cell_type": "markdown",
      "metadata": {
        "id": "zgepn4dCob2k"
      },
      "source": [
        "5 - Essa é a hora que você deveria procurar a área de negócios para descobrir o que é cada coluna!\n",
        "\n",
        "Faça isso! Lembre-se que no dia-dia de trabalho você terá contato com várias áreas e é de suma importancia ser proativo!!!\n",
        "\n",
        "Consulte um tutor, abra um ticket!!( ele é a sua área de negócios hoje!!) e peça a para ele te ajudar a identificar nome das colunas desse dataset!"
      ]
    },
    {
      "cell_type": "markdown",
      "metadata": {
        "id": "5W7rm_0Qob2k"
      },
      "source": []
    },
    {
      "cell_type": "markdown",
      "metadata": {
        "id": "um7TiNolob2k"
      },
      "source": [
        "6 - Agora que você tem os nomes das colunas, dê os nomes correspondentes:"
      ]
    },
    {
      "cell_type": "code",
      "execution_count": null,
      "metadata": {
        "id": "pPLT5YSyob2k"
      },
      "outputs": [],
      "source": []
    },
    {
      "cell_type": "markdown",
      "metadata": {
        "id": "rGyMw7qDob2l"
      },
      "source": [
        "7 - visualize novamente algumas linhas do seu conjunto de dados"
      ]
    },
    {
      "cell_type": "code",
      "execution_count": null,
      "metadata": {
        "id": "mwWANG61ob2l"
      },
      "outputs": [],
      "source": []
    },
    {
      "cell_type": "markdown",
      "metadata": {
        "id": "ZeLX76mKob2l"
      },
      "source": [
        "8 - Agora que você conhece um pouco melhor os dados, veja o tamanho desse conjunto de dados."
      ]
    },
    {
      "cell_type": "code",
      "execution_count": null,
      "metadata": {
        "id": "rizdnGR5ob2l"
      },
      "outputs": [],
      "source": []
    },
    {
      "cell_type": "code",
      "execution_count": null,
      "metadata": {
        "id": "gxFY2t6-ob2l"
      },
      "outputs": [],
      "source": []
    },
    {
      "cell_type": "markdown",
      "metadata": {
        "id": "gKmxDquHob2l"
      },
      "source": [
        "9 - Antes de continuar sua análise, salve  esse dataset com as colunas renomeadas em um arquivo csv:"
      ]
    },
    {
      "cell_type": "code",
      "execution_count": null,
      "metadata": {
        "id": "H8y40DxLob2m"
      },
      "outputs": [],
      "source": []
    },
    {
      "cell_type": "markdown",
      "metadata": {
        "id": "VM9H0XmAob2m"
      },
      "source": [
        "10 - No mundo da análise de dados as colunas(que são as variáveis) podem ser numéricas ou categóricas. Você verá isso com mais precisão no curso de estatística, porém aqui variaveis categóricas serão representadas por letras, por exemplo cor dos olhos(preto, azul, verde, castanho) e variáveis numéricas serão representadas por números, por exemplo quantidade de filhos(1,2,3,4,etc).\n",
        "\n",
        "Disto isso vamos explorar as variáveis categóricas:"
      ]
    },
    {
      "cell_type": "markdown",
      "metadata": {
        "id": "Fka7sk-iob2m"
      },
      "source": [
        "11 - Explore a variável *Estado* vendo como as pessoas estão distribuídas nos estados!"
      ]
    },
    {
      "cell_type": "code",
      "execution_count": null,
      "metadata": {
        "id": "0_YxIFnuob2m"
      },
      "outputs": [],
      "source": []
    },
    {
      "cell_type": "markdown",
      "metadata": {
        "id": "QvsuVoglob2m"
      },
      "source": [
        "12 - Não é obrigatório, mas não menos importante, você conseguiria fazer um gráfico de barras com a contagem que fez acima?\n",
        "\n",
        "Você pode consultar aqui a documentação do pandas e gráficos de barras:\n",
        "    \n",
        "https://pandas.pydata.org/docs/reference/api/pandas.DataFrame.plot.bar.html"
      ]
    },
    {
      "cell_type": "code",
      "execution_count": null,
      "metadata": {
        "id": "wGQcfHk1ob2n"
      },
      "outputs": [],
      "source": []
    },
    {
      "cell_type": "markdown",
      "metadata": {
        "id": "c7pOqzXvob2n"
      },
      "source": [
        "13 - Você chegou até aqui? Consulte novamente a área de negócios pois eles tem uma informação importante para te passar.\n",
        "\n"
      ]
    },
    {
      "cell_type": "code",
      "execution_count": null,
      "metadata": {
        "id": "ACYhPfVcob2n"
      },
      "outputs": [],
      "source": []
    },
    {
      "cell_type": "code",
      "execution_count": null,
      "metadata": {
        "id": "mXxNNadZob2n"
      },
      "outputs": [],
      "source": []
    },
    {
      "cell_type": "code",
      "execution_count": null,
      "metadata": {
        "id": "T9bBKcrwob2n"
      },
      "outputs": [],
      "source": []
    },
    {
      "cell_type": "markdown",
      "metadata": {
        "id": "bZuPb1oaob2n"
      },
      "source": [
        "14 - Explore a variável *genero* vendo como essa variável está distribuida!"
      ]
    },
    {
      "cell_type": "code",
      "execution_count": null,
      "metadata": {
        "id": "dJLBhffeob2o"
      },
      "outputs": [],
      "source": []
    },
    {
      "cell_type": "markdown",
      "metadata": {
        "id": "zK2WB70lob2o"
      },
      "source": [
        "15 - Consegue ver a mesma informação graficamente?"
      ]
    },
    {
      "cell_type": "code",
      "execution_count": null,
      "metadata": {
        "id": "z4tj2nuRob2o"
      },
      "outputs": [],
      "source": []
    },
    {
      "cell_type": "markdown",
      "metadata": {
        "id": "uDuUSCn_ob2o"
      },
      "source": [
        "16 - Notou algo estranho? Acho que seu grupo precisa tomar uma decisão em relação a essa variável, o que farão?\n",
        "Pode consultar a área de negócios se quiser ampliar a discussão!!"
      ]
    },
    {
      "cell_type": "code",
      "execution_count": null,
      "metadata": {
        "id": "cIDOi8KUob2o"
      },
      "outputs": [],
      "source": []
    },
    {
      "cell_type": "code",
      "execution_count": null,
      "metadata": {
        "id": "kD0sF9pRob2o"
      },
      "outputs": [],
      "source": []
    },
    {
      "cell_type": "markdown",
      "metadata": {
        "id": "de9OhdEUob2o"
      },
      "source": [
        "17 - Ainda na variável genero, veja se há dados faltantes:"
      ]
    },
    {
      "cell_type": "code",
      "execution_count": null,
      "metadata": {
        "id": "5RysA70rob2p"
      },
      "outputs": [],
      "source": []
    },
    {
      "cell_type": "markdown",
      "metadata": {
        "id": "h3wjh38Hob2p"
      },
      "source": [
        "18 - Decida o que irá fazer com esses dados e faça as alterações no dataset:"
      ]
    },
    {
      "cell_type": "code",
      "execution_count": null,
      "metadata": {
        "id": "4oSouqneob2p"
      },
      "outputs": [],
      "source": []
    },
    {
      "cell_type": "code",
      "execution_count": null,
      "metadata": {
        "id": "seZa7GWNob2p"
      },
      "outputs": [],
      "source": []
    },
    {
      "cell_type": "markdown",
      "metadata": {
        "id": "oHJ_8KP_ob2p"
      },
      "source": [
        "19- Vamos agora explorar um pouco as variáveis numéricas! Veja algumas estatísticas da variável(coluna) 'Score':\n",
        "\n",
        "Maximo, minimo, média etc\n"
      ]
    },
    {
      "cell_type": "code",
      "execution_count": null,
      "metadata": {
        "id": "zMqdb3vvob2q"
      },
      "outputs": [],
      "source": []
    },
    {
      "cell_type": "markdown",
      "metadata": {
        "id": "DB6ADwVuob2q"
      },
      "source": [
        "20 - Conseguiria fazer um boxplot desssa variável"
      ]
    },
    {
      "cell_type": "markdown",
      "metadata": {
        "id": "wMjzFh0Aob2q"
      },
      "source": [
        "Pode consultar a documentação:\n",
        "\n",
        "- Usando pandas: https://pandas.pydata.org/docs/reference/api/pandas.DataFrame.boxplot.html\n",
        "- Usando seaborn: https://seaborn.pydata.org/generated/seaborn.boxplot.html\n"
      ]
    },
    {
      "cell_type": "code",
      "execution_count": null,
      "metadata": {
        "id": "2BYqkuwfob2q"
      },
      "outputs": [],
      "source": []
    },
    {
      "cell_type": "code",
      "execution_count": null,
      "metadata": {
        "id": "od-u56vjob2q"
      },
      "outputs": [],
      "source": []
    },
    {
      "cell_type": "code",
      "execution_count": null,
      "metadata": {
        "id": "Uwn3O2Nxob2q"
      },
      "outputs": [],
      "source": []
    },
    {
      "cell_type": "markdown",
      "metadata": {
        "id": "eGTX6V9Hob2q"
      },
      "source": [
        "21 - Uma forma de verificar a distribuição de uma variável continua é fazendo um histograma. Você poderia fazer um?"
      ]
    },
    {
      "cell_type": "code",
      "execution_count": null,
      "metadata": {
        "id": "i7M7kmv7ob2r"
      },
      "outputs": [],
      "source": []
    },
    {
      "cell_type": "markdown",
      "metadata": {
        "id": "4_wDdwKRob2r"
      },
      "source": [
        "Documentação:\n",
        "- https://pandas.pydata.org/docs/reference/api/pandas.DataFrame.hist.html\n",
        "- https://seaborn.pydata.org/generated/seaborn.histplot.html"
      ]
    },
    {
      "cell_type": "code",
      "execution_count": null,
      "metadata": {
        "id": "zIt2B8Ajob2r"
      },
      "outputs": [],
      "source": []
    },
    {
      "cell_type": "code",
      "execution_count": null,
      "metadata": {
        "id": "Pqku2TlLob2r"
      },
      "outputs": [],
      "source": []
    },
    {
      "cell_type": "markdown",
      "metadata": {
        "id": "j4fk3-Etob2r"
      },
      "source": [
        "22 - Veja algumas estatísticas da variável(coluna) 'Idade':"
      ]
    },
    {
      "cell_type": "code",
      "execution_count": null,
      "metadata": {
        "id": "CXjxsw57ob2r"
      },
      "outputs": [],
      "source": []
    },
    {
      "cell_type": "markdown",
      "metadata": {
        "id": "sXNjR__Kob2s"
      },
      "source": [
        "23 - Notou algo estranho? Discuta com seu grupo!! "
      ]
    },
    {
      "cell_type": "markdown",
      "metadata": {
        "id": "qySav-vUob2s"
      },
      "source": [
        "24 - Como sugestão faça novamente um boxplot ou um histograma dessa variável."
      ]
    },
    {
      "cell_type": "code",
      "execution_count": null,
      "metadata": {
        "id": "s6fPoo_iob2s"
      },
      "outputs": [],
      "source": []
    },
    {
      "cell_type": "code",
      "execution_count": null,
      "metadata": {
        "id": "eA3gMTB1ob2s"
      },
      "outputs": [],
      "source": []
    },
    {
      "cell_type": "code",
      "execution_count": null,
      "metadata": {
        "id": "EbYZxP8gob2s"
      },
      "outputs": [],
      "source": []
    },
    {
      "cell_type": "code",
      "execution_count": null,
      "metadata": {
        "id": "EYrclHIJob2s"
      },
      "outputs": [],
      "source": []
    },
    {
      "cell_type": "markdown",
      "metadata": {
        "id": "JD0udn6Sob2s"
      },
      "source": [
        "25 - Que decisão seu grupo irá tomar em relação a variável idade? Implemente as mudança que vocês dicutiram."
      ]
    },
    {
      "cell_type": "code",
      "execution_count": null,
      "metadata": {
        "id": "yWj2BiAoob2s"
      },
      "outputs": [],
      "source": []
    },
    {
      "cell_type": "code",
      "execution_count": null,
      "metadata": {
        "id": "cy3ujUeCob2t"
      },
      "outputs": [],
      "source": []
    },
    {
      "cell_type": "code",
      "execution_count": null,
      "metadata": {
        "id": "ITuIwrL7ob2t"
      },
      "outputs": [],
      "source": []
    },
    {
      "cell_type": "code",
      "execution_count": null,
      "metadata": {
        "id": "55WXJK3kob2t"
      },
      "outputs": [],
      "source": []
    },
    {
      "cell_type": "markdown",
      "metadata": {
        "id": "nnnHJTXaob2t"
      },
      "source": [
        "26 - Verifique a variável saldo, ou seja exiba algumas estatísticas"
      ]
    },
    {
      "cell_type": "code",
      "execution_count": null,
      "metadata": {
        "id": "_xRl-hJ2ob2t"
      },
      "outputs": [],
      "source": []
    },
    {
      "cell_type": "markdown",
      "metadata": {
        "id": "vIKTweQoob2t"
      },
      "source": [
        "27 - Faça um boxplot da variável saldo"
      ]
    },
    {
      "cell_type": "code",
      "execution_count": null,
      "metadata": {
        "id": "R4G3bbJAob2t"
      },
      "outputs": [],
      "source": []
    },
    {
      "cell_type": "code",
      "execution_count": null,
      "metadata": {
        "id": "fssBVuwoob2u"
      },
      "outputs": [],
      "source": []
    },
    {
      "cell_type": "code",
      "execution_count": null,
      "metadata": {
        "id": "3Mf7-Ws5ob2u"
      },
      "outputs": [],
      "source": []
    },
    {
      "cell_type": "markdown",
      "metadata": {
        "id": "IINm4mcSob2u"
      },
      "source": [
        "28 - Examine a variável salário fazendo algumas estatísticas"
      ]
    },
    {
      "cell_type": "code",
      "execution_count": null,
      "metadata": {
        "id": "RZEqQz2Yob2u"
      },
      "outputs": [],
      "source": []
    },
    {
      "cell_type": "markdown",
      "metadata": {
        "id": "PAZQnZ_nob2u"
      },
      "source": [
        "29 -  Não deu para ver muita coisa, não é? Use agora o poder da visualização! Faça um boxplot!"
      ]
    },
    {
      "cell_type": "code",
      "execution_count": null,
      "metadata": {
        "id": "xRddpnVXob2u"
      },
      "outputs": [],
      "source": []
    },
    {
      "cell_type": "code",
      "execution_count": null,
      "metadata": {
        "id": "w---hBLSob2u"
      },
      "outputs": [],
      "source": []
    },
    {
      "cell_type": "markdown",
      "metadata": {
        "id": "Pama8SG6ob2u"
      },
      "source": [
        "30 - O que você acha que aconteceu? Por quê não aparece o boxplot! Tente um histograma!!"
      ]
    },
    {
      "cell_type": "code",
      "execution_count": null,
      "metadata": {
        "id": "OhE_nDYZob2v"
      },
      "outputs": [],
      "source": []
    },
    {
      "cell_type": "markdown",
      "metadata": {
        "id": "sVSFNIX7ob2v"
      },
      "source": [
        "31 - Discuta com o grupo! Consulte a área de negócio! Os dados estão corretos?"
      ]
    },
    {
      "cell_type": "code",
      "execution_count": null,
      "metadata": {
        "id": "xCPZ-_Lkob2v"
      },
      "outputs": [],
      "source": [
        "#Supondo que são outliers! O que é isso:\n",
        "##Os outliers são dados que se diferenciam drasticamente de todos os outros.\n",
        "#Em outras palavras, um outlier é um valor que foge da normalidade e que pode (e provavelmente irá)\n",
        "#causar anomalias nos resultados obtidos por meio de algoritmos e sistemas de análise."
      ]
    },
    {
      "cell_type": "markdown",
      "metadata": {
        "id": "gZEqFT2Aob2v"
      },
      "source": [
        "32 - A área de negocio informou que o valor salario não pode passar  de R$1061159976.6. E agora, como resolver! Discuta com o grupo!"
      ]
    },
    {
      "cell_type": "code",
      "execution_count": null,
      "metadata": {
        "id": "bALArQSXob2v"
      },
      "outputs": [],
      "source": []
    },
    {
      "cell_type": "code",
      "execution_count": null,
      "metadata": {
        "id": "FqDpvFyOob2v"
      },
      "outputs": [],
      "source": []
    },
    {
      "cell_type": "code",
      "execution_count": null,
      "metadata": {
        "id": "0f7DzT0Sob2v"
      },
      "outputs": [],
      "source": []
    },
    {
      "cell_type": "code",
      "execution_count": null,
      "metadata": {
        "id": "HUOPMjKMob2w"
      },
      "outputs": [],
      "source": []
    },
    {
      "cell_type": "markdown",
      "metadata": {
        "id": "wir0Ylkrob2w"
      },
      "source": [
        "33 - Agora veja se o dataset tem algum valor nulo!"
      ]
    },
    {
      "cell_type": "code",
      "execution_count": null,
      "metadata": {
        "id": "8JmKiAIkob2w"
      },
      "outputs": [],
      "source": []
    },
    {
      "cell_type": "markdown",
      "metadata": {
        "id": "vRmW-roNob2w"
      },
      "source": [
        "34 - Há alguns nulos na variável salário. Discuta com o grupo o que fazer!!"
      ]
    },
    {
      "cell_type": "code",
      "execution_count": null,
      "metadata": {
        "id": "0WnNt9_qob2w"
      },
      "outputs": [],
      "source": []
    },
    {
      "cell_type": "code",
      "execution_count": null,
      "metadata": {
        "id": "HN0GtTJOob2w",
        "outputId": "82da9e9e-fdc3-4e6b-a854-e51494c5a1c3"
      },
      "outputs": [
        {
          "data": {
            "text/plain": [
              "0"
            ]
          },
          "execution_count": 125,
          "metadata": {},
          "output_type": "execute_result"
        }
      ],
      "source": []
    },
    {
      "cell_type": "markdown",
      "metadata": {
        "id": "u_Svl_ftob2x"
      },
      "source": [
        "35 -Parabéns por ter chegado até aqui!!"
      ]
    },
    {
      "cell_type": "code",
      "execution_count": null,
      "metadata": {
        "id": "Yafbw-XEob2x"
      },
      "outputs": [],
      "source": []
    }
  ],
  "metadata": {
    "hide_input": false,
    "kernelspec": {
      "display_name": "Python 3 (ipykernel)",
      "language": "python",
      "name": "python3"
    },
    "language_info": {
      "codemirror_mode": {
        "name": "ipython",
        "version": 3
      },
      "file_extension": ".py",
      "mimetype": "text/x-python",
      "name": "python",
      "nbconvert_exporter": "python",
      "pygments_lexer": "ipython3",
      "version": "3.9.7"
    },
    "colab": {
      "provenance": [],
      "include_colab_link": true
    }
  },
  "nbformat": 4,
  "nbformat_minor": 0
}