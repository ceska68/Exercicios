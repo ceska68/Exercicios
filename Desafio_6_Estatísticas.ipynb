{
  "cells": [
    {
      "cell_type": "markdown",
      "metadata": {
        "id": "view-in-github",
        "colab_type": "text"
      },
      "source": [
        "<a href=\"https://colab.research.google.com/github/ceska68/Exercicios/blob/main/Desafio_6_Estat%C3%ADsticas.ipynb\" target=\"_parent\"><img src=\"https://colab.research.google.com/assets/colab-badge.svg\" alt=\"Open In Colab\"/></a>"
      ]
    },
    {
      "cell_type": "markdown",
      "id": "7e4f5ae4",
      "metadata": {
        "id": "7e4f5ae4"
      },
      "source": [
        "<div>\n",
        "    <p style=\"float: right;\"><img src=\"https://media.swipepages.com/2021/2/sirius-logo-principal-tag-1-300.png\" height=\"80px\"border=\"1px\"></p>\n",
        "    \n",
        "</div>\n",
        "<h1>Nano Desafio 6 </h1>\n",
        "<h2>Pandas - estatísticas </h2>\n",
        "\n",
        "Aluno: Bastien\n",
        "\n",
        "Data: 23/04/2023"
      ]
    },
    {
      "cell_type": "markdown",
      "id": "48c084d7",
      "metadata": {
        "id": "48c084d7"
      },
      "source": [
        "##### Introdução"
      ]
    },
    {
      "cell_type": "markdown",
      "id": "025060d1",
      "metadata": {
        "id": "025060d1"
      },
      "source": [
        "Já conhecemos o pandas e um pouco do seu poder para analisar dados! Agora vamos fazer alguns calculos estatísticos usando essa ferramenta já no ritmo de despedida e também como uma  prévia do que esta por vir. Afinal você está crescendo e sua jornada de Introdução ao Python está chegando ao fim!!! \n",
        "\n",
        "A Estatística já está batendo a porta e dando boas vindas!!"
      ]
    },
    {
      "cell_type": "markdown",
      "id": "92351feb",
      "metadata": {
        "id": "92351feb"
      },
      "source": [
        "##### Estatísticas\n",
        "Estatísticas resumo, para que servem? Adivinhe? - elas \"resumem\" muitos números!!!. Por exemplo, média, mediana, mínimo, máximo e desvio padrão são estatísticas resumidas. O cálculo de estatísticas resumidas permitem que você tenha uma noção melhor de seus dados, mesmo que você tenha milhares ou milhões!!"
      ]
    },
    {
      "cell_type": "markdown",
      "id": "564c22c9",
      "metadata": {
        "id": "564c22c9"
      },
      "source": [
        "##### O conjunto de dados\n",
        "A Walt Disney Studios já produziu mais de 600 filmes desde seu filme de estreia, Branca de Neve e os Sete Anões, em 1937. Vamos, explorar um conjunto de dados de filmes da Disney !! Esses dados foram compilados por <a href=\"https://data.world/kgarrett/disney-character-success-00-16\">Kelly Garrett</a>. Os dados contêm 579 filmes da Disney com seis características: título do filme, data de lançamento, gênero, classificação MPAA, bilheteria bruta  e bilheteria ajustada pela inflação. </p>"
      ]
    },
    {
      "cell_type": "markdown",
      "id": "af2ea7e4",
      "metadata": {
        "id": "af2ea7e4"
      },
      "source": []
    },
    {
      "cell_type": "markdown",
      "id": "51f2b192",
      "metadata": {
        "id": "51f2b192"
      },
      "source": [
        "1 -Importe o  [dataset disney_movies_total_gross.csv](https://drive.google.com/file/d/1WtNcv-0XV5j954UNDkf2GW60vZHpqpzl/view?usp=sharing) e salvar com o nome dados."
      ]
    },
    {
      "cell_type": "code",
      "execution_count": 1,
      "id": "2750f558",
      "metadata": {
        "id": "2750f558"
      },
      "outputs": [],
      "source": [
        "import pandas as pd\n",
        "# Leia o arquivo \n",
        "dados = pd.read_csv('disney_movies_total_gross.csv', parse_dates =['release_date'])"
      ]
    },
    {
      "cell_type": "markdown",
      "id": "97272379",
      "metadata": {
        "id": "97272379"
      },
      "source": []
    },
    {
      "cell_type": "code",
      "execution_count": null,
      "id": "748b642e",
      "metadata": {
        "id": "748b642e"
      },
      "outputs": [],
      "source": []
    },
    {
      "cell_type": "markdown",
      "id": "b230e93c",
      "metadata": {
        "id": "b230e93c"
      },
      "source": [
        "2 -  Imprima as primeiras linhas desse dataset"
      ]
    },
    {
      "cell_type": "code",
      "execution_count": 2,
      "id": "59ce51cc",
      "metadata": {
        "id": "59ce51cc",
        "colab": {
          "base_uri": "https://localhost:8080/",
          "height": 206
        },
        "outputId": "3e928865-c760-4c05-bac4-ef86132605f8"
      },
      "outputs": [
        {
          "output_type": "execute_result",
          "data": {
            "text/plain": [
              "                       movie_title release_date      genre mpaa_rating  \\\n",
              "0  Snow White and the Seven Dwarfs   1937-12-21    Musical           G   \n",
              "1                        Pinocchio   1940-02-09  Adventure           G   \n",
              "2                         Fantasia   1940-11-13    Musical           G   \n",
              "3                Song of the South   1946-11-12  Adventure           G   \n",
              "4                       Cinderella   1950-02-15      Drama           G   \n",
              "\n",
              "   total_gross  inflation_adjusted_gross  \n",
              "0    184925485                5228953251  \n",
              "1     84300000                2188229052  \n",
              "2     83320000                2187090808  \n",
              "3     65000000                1078510579  \n",
              "4     85000000                 920608730  "
            ],
            "text/html": [
              "\n",
              "  <div id=\"df-09aa3b60-d1d3-4919-9b77-384aacc20fe3\">\n",
              "    <div class=\"colab-df-container\">\n",
              "      <div>\n",
              "<style scoped>\n",
              "    .dataframe tbody tr th:only-of-type {\n",
              "        vertical-align: middle;\n",
              "    }\n",
              "\n",
              "    .dataframe tbody tr th {\n",
              "        vertical-align: top;\n",
              "    }\n",
              "\n",
              "    .dataframe thead th {\n",
              "        text-align: right;\n",
              "    }\n",
              "</style>\n",
              "<table border=\"1\" class=\"dataframe\">\n",
              "  <thead>\n",
              "    <tr style=\"text-align: right;\">\n",
              "      <th></th>\n",
              "      <th>movie_title</th>\n",
              "      <th>release_date</th>\n",
              "      <th>genre</th>\n",
              "      <th>mpaa_rating</th>\n",
              "      <th>total_gross</th>\n",
              "      <th>inflation_adjusted_gross</th>\n",
              "    </tr>\n",
              "  </thead>\n",
              "  <tbody>\n",
              "    <tr>\n",
              "      <th>0</th>\n",
              "      <td>Snow White and the Seven Dwarfs</td>\n",
              "      <td>1937-12-21</td>\n",
              "      <td>Musical</td>\n",
              "      <td>G</td>\n",
              "      <td>184925485</td>\n",
              "      <td>5228953251</td>\n",
              "    </tr>\n",
              "    <tr>\n",
              "      <th>1</th>\n",
              "      <td>Pinocchio</td>\n",
              "      <td>1940-02-09</td>\n",
              "      <td>Adventure</td>\n",
              "      <td>G</td>\n",
              "      <td>84300000</td>\n",
              "      <td>2188229052</td>\n",
              "    </tr>\n",
              "    <tr>\n",
              "      <th>2</th>\n",
              "      <td>Fantasia</td>\n",
              "      <td>1940-11-13</td>\n",
              "      <td>Musical</td>\n",
              "      <td>G</td>\n",
              "      <td>83320000</td>\n",
              "      <td>2187090808</td>\n",
              "    </tr>\n",
              "    <tr>\n",
              "      <th>3</th>\n",
              "      <td>Song of the South</td>\n",
              "      <td>1946-11-12</td>\n",
              "      <td>Adventure</td>\n",
              "      <td>G</td>\n",
              "      <td>65000000</td>\n",
              "      <td>1078510579</td>\n",
              "    </tr>\n",
              "    <tr>\n",
              "      <th>4</th>\n",
              "      <td>Cinderella</td>\n",
              "      <td>1950-02-15</td>\n",
              "      <td>Drama</td>\n",
              "      <td>G</td>\n",
              "      <td>85000000</td>\n",
              "      <td>920608730</td>\n",
              "    </tr>\n",
              "  </tbody>\n",
              "</table>\n",
              "</div>\n",
              "      <button class=\"colab-df-convert\" onclick=\"convertToInteractive('df-09aa3b60-d1d3-4919-9b77-384aacc20fe3')\"\n",
              "              title=\"Convert this dataframe to an interactive table.\"\n",
              "              style=\"display:none;\">\n",
              "        \n",
              "  <svg xmlns=\"http://www.w3.org/2000/svg\" height=\"24px\"viewBox=\"0 0 24 24\"\n",
              "       width=\"24px\">\n",
              "    <path d=\"M0 0h24v24H0V0z\" fill=\"none\"/>\n",
              "    <path d=\"M18.56 5.44l.94 2.06.94-2.06 2.06-.94-2.06-.94-.94-2.06-.94 2.06-2.06.94zm-11 1L8.5 8.5l.94-2.06 2.06-.94-2.06-.94L8.5 2.5l-.94 2.06-2.06.94zm10 10l.94 2.06.94-2.06 2.06-.94-2.06-.94-.94-2.06-.94 2.06-2.06.94z\"/><path d=\"M17.41 7.96l-1.37-1.37c-.4-.4-.92-.59-1.43-.59-.52 0-1.04.2-1.43.59L10.3 9.45l-7.72 7.72c-.78.78-.78 2.05 0 2.83L4 21.41c.39.39.9.59 1.41.59.51 0 1.02-.2 1.41-.59l7.78-7.78 2.81-2.81c.8-.78.8-2.07 0-2.86zM5.41 20L4 18.59l7.72-7.72 1.47 1.35L5.41 20z\"/>\n",
              "  </svg>\n",
              "      </button>\n",
              "      \n",
              "  <style>\n",
              "    .colab-df-container {\n",
              "      display:flex;\n",
              "      flex-wrap:wrap;\n",
              "      gap: 12px;\n",
              "    }\n",
              "\n",
              "    .colab-df-convert {\n",
              "      background-color: #E8F0FE;\n",
              "      border: none;\n",
              "      border-radius: 50%;\n",
              "      cursor: pointer;\n",
              "      display: none;\n",
              "      fill: #1967D2;\n",
              "      height: 32px;\n",
              "      padding: 0 0 0 0;\n",
              "      width: 32px;\n",
              "    }\n",
              "\n",
              "    .colab-df-convert:hover {\n",
              "      background-color: #E2EBFA;\n",
              "      box-shadow: 0px 1px 2px rgba(60, 64, 67, 0.3), 0px 1px 3px 1px rgba(60, 64, 67, 0.15);\n",
              "      fill: #174EA6;\n",
              "    }\n",
              "\n",
              "    [theme=dark] .colab-df-convert {\n",
              "      background-color: #3B4455;\n",
              "      fill: #D2E3FC;\n",
              "    }\n",
              "\n",
              "    [theme=dark] .colab-df-convert:hover {\n",
              "      background-color: #434B5C;\n",
              "      box-shadow: 0px 1px 3px 1px rgba(0, 0, 0, 0.15);\n",
              "      filter: drop-shadow(0px 1px 2px rgba(0, 0, 0, 0.3));\n",
              "      fill: #FFFFFF;\n",
              "    }\n",
              "  </style>\n",
              "\n",
              "      <script>\n",
              "        const buttonEl =\n",
              "          document.querySelector('#df-09aa3b60-d1d3-4919-9b77-384aacc20fe3 button.colab-df-convert');\n",
              "        buttonEl.style.display =\n",
              "          google.colab.kernel.accessAllowed ? 'block' : 'none';\n",
              "\n",
              "        async function convertToInteractive(key) {\n",
              "          const element = document.querySelector('#df-09aa3b60-d1d3-4919-9b77-384aacc20fe3');\n",
              "          const dataTable =\n",
              "            await google.colab.kernel.invokeFunction('convertToInteractive',\n",
              "                                                     [key], {});\n",
              "          if (!dataTable) return;\n",
              "\n",
              "          const docLinkHtml = 'Like what you see? Visit the ' +\n",
              "            '<a target=\"_blank\" href=https://colab.research.google.com/notebooks/data_table.ipynb>data table notebook</a>'\n",
              "            + ' to learn more about interactive tables.';\n",
              "          element.innerHTML = '';\n",
              "          dataTable['output_type'] = 'display_data';\n",
              "          await google.colab.output.renderOutput(dataTable, element);\n",
              "          const docLink = document.createElement('div');\n",
              "          docLink.innerHTML = docLinkHtml;\n",
              "          element.appendChild(docLink);\n",
              "        }\n",
              "      </script>\n",
              "    </div>\n",
              "  </div>\n",
              "  "
            ]
          },
          "metadata": {},
          "execution_count": 2
        }
      ],
      "source": [
        "dados.head()"
      ]
    },
    {
      "cell_type": "markdown",
      "id": "eab3247c",
      "metadata": {
        "id": "eab3247c"
      },
      "source": [
        "Obs.: Motion Picture Association of America (MPAA) - é uma associação que tem por objetivo original garantir a viabilidade da indústria cinematográfica norte-americana. Além disso, a MPA estabeleceu diretrizes para o conteúdo de filmes que resultaram na criação do Código de Produção em 1930. \n",
        "Por exemplo, a classificação de filmes segundo essa associação é:"
      ]
    },
    {
      "cell_type": "markdown",
      "id": "b8ad1e28",
      "metadata": {
        "id": "b8ad1e28"
      },
      "source": [
        "![wikipedia](mpaa_rating.png)\n",
        "\n",
        "fonte:https://pt.wikipedia.org/wiki/Motion_Picture_Association"
      ]
    },
    {
      "cell_type": "markdown",
      "id": "d52ae9ee",
      "metadata": {
        "id": "d52ae9ee"
      },
      "source": [
        "Agora, antes de mais nada vamos renomear as colunas para ficar mais fácil o entendimento?"
      ]
    },
    {
      "cell_type": "markdown",
      "id": "e5e4a2f6",
      "metadata": {
        "id": "e5e4a2f6"
      },
      "source": [
        "['tit_do_filme','dt_lancamento','genero','classificacao_mpaa','bilheteria_bruta','bilheteria_ajustada_inflacao']"
      ]
    },
    {
      "cell_type": "markdown",
      "id": "17fce58e",
      "metadata": {
        "id": "17fce58e"
      },
      "source": [
        "3 - Veja o dataset agora:"
      ]
    },
    {
      "cell_type": "code",
      "execution_count": 3,
      "id": "4c510b9c",
      "metadata": {
        "id": "4c510b9c"
      },
      "outputs": [],
      "source": [
        "dados.columns = ['tit_do_filme','dt_lancamento','genero','classificacao_mpaa','bilheteria_bruta','bilheteria_ajustada_inflacao']"
      ]
    },
    {
      "cell_type": "code",
      "source": [
        "dados.head()"
      ],
      "metadata": {
        "id": "5_gTLOrHdZ5X",
        "outputId": "2af0b96d-5372-41a3-8499-cab8b4700d8e",
        "colab": {
          "base_uri": "https://localhost:8080/",
          "height": 206
        }
      },
      "id": "5_gTLOrHdZ5X",
      "execution_count": 4,
      "outputs": [
        {
          "output_type": "execute_result",
          "data": {
            "text/plain": [
              "                      tit_do_filme dt_lancamento     genero  \\\n",
              "0  Snow White and the Seven Dwarfs    1937-12-21    Musical   \n",
              "1                        Pinocchio    1940-02-09  Adventure   \n",
              "2                         Fantasia    1940-11-13    Musical   \n",
              "3                Song of the South    1946-11-12  Adventure   \n",
              "4                       Cinderella    1950-02-15      Drama   \n",
              "\n",
              "  classificacao_mpaa  bilheteria_bruta  bilheteria_ajustada_inflacao  \n",
              "0                  G         184925485                    5228953251  \n",
              "1                  G          84300000                    2188229052  \n",
              "2                  G          83320000                    2187090808  \n",
              "3                  G          65000000                    1078510579  \n",
              "4                  G          85000000                     920608730  "
            ],
            "text/html": [
              "\n",
              "  <div id=\"df-8dc98652-8724-4f80-9a35-e0ffaff375a3\">\n",
              "    <div class=\"colab-df-container\">\n",
              "      <div>\n",
              "<style scoped>\n",
              "    .dataframe tbody tr th:only-of-type {\n",
              "        vertical-align: middle;\n",
              "    }\n",
              "\n",
              "    .dataframe tbody tr th {\n",
              "        vertical-align: top;\n",
              "    }\n",
              "\n",
              "    .dataframe thead th {\n",
              "        text-align: right;\n",
              "    }\n",
              "</style>\n",
              "<table border=\"1\" class=\"dataframe\">\n",
              "  <thead>\n",
              "    <tr style=\"text-align: right;\">\n",
              "      <th></th>\n",
              "      <th>tit_do_filme</th>\n",
              "      <th>dt_lancamento</th>\n",
              "      <th>genero</th>\n",
              "      <th>classificacao_mpaa</th>\n",
              "      <th>bilheteria_bruta</th>\n",
              "      <th>bilheteria_ajustada_inflacao</th>\n",
              "    </tr>\n",
              "  </thead>\n",
              "  <tbody>\n",
              "    <tr>\n",
              "      <th>0</th>\n",
              "      <td>Snow White and the Seven Dwarfs</td>\n",
              "      <td>1937-12-21</td>\n",
              "      <td>Musical</td>\n",
              "      <td>G</td>\n",
              "      <td>184925485</td>\n",
              "      <td>5228953251</td>\n",
              "    </tr>\n",
              "    <tr>\n",
              "      <th>1</th>\n",
              "      <td>Pinocchio</td>\n",
              "      <td>1940-02-09</td>\n",
              "      <td>Adventure</td>\n",
              "      <td>G</td>\n",
              "      <td>84300000</td>\n",
              "      <td>2188229052</td>\n",
              "    </tr>\n",
              "    <tr>\n",
              "      <th>2</th>\n",
              "      <td>Fantasia</td>\n",
              "      <td>1940-11-13</td>\n",
              "      <td>Musical</td>\n",
              "      <td>G</td>\n",
              "      <td>83320000</td>\n",
              "      <td>2187090808</td>\n",
              "    </tr>\n",
              "    <tr>\n",
              "      <th>3</th>\n",
              "      <td>Song of the South</td>\n",
              "      <td>1946-11-12</td>\n",
              "      <td>Adventure</td>\n",
              "      <td>G</td>\n",
              "      <td>65000000</td>\n",
              "      <td>1078510579</td>\n",
              "    </tr>\n",
              "    <tr>\n",
              "      <th>4</th>\n",
              "      <td>Cinderella</td>\n",
              "      <td>1950-02-15</td>\n",
              "      <td>Drama</td>\n",
              "      <td>G</td>\n",
              "      <td>85000000</td>\n",
              "      <td>920608730</td>\n",
              "    </tr>\n",
              "  </tbody>\n",
              "</table>\n",
              "</div>\n",
              "      <button class=\"colab-df-convert\" onclick=\"convertToInteractive('df-8dc98652-8724-4f80-9a35-e0ffaff375a3')\"\n",
              "              title=\"Convert this dataframe to an interactive table.\"\n",
              "              style=\"display:none;\">\n",
              "        \n",
              "  <svg xmlns=\"http://www.w3.org/2000/svg\" height=\"24px\"viewBox=\"0 0 24 24\"\n",
              "       width=\"24px\">\n",
              "    <path d=\"M0 0h24v24H0V0z\" fill=\"none\"/>\n",
              "    <path d=\"M18.56 5.44l.94 2.06.94-2.06 2.06-.94-2.06-.94-.94-2.06-.94 2.06-2.06.94zm-11 1L8.5 8.5l.94-2.06 2.06-.94-2.06-.94L8.5 2.5l-.94 2.06-2.06.94zm10 10l.94 2.06.94-2.06 2.06-.94-2.06-.94-.94-2.06-.94 2.06-2.06.94z\"/><path d=\"M17.41 7.96l-1.37-1.37c-.4-.4-.92-.59-1.43-.59-.52 0-1.04.2-1.43.59L10.3 9.45l-7.72 7.72c-.78.78-.78 2.05 0 2.83L4 21.41c.39.39.9.59 1.41.59.51 0 1.02-.2 1.41-.59l7.78-7.78 2.81-2.81c.8-.78.8-2.07 0-2.86zM5.41 20L4 18.59l7.72-7.72 1.47 1.35L5.41 20z\"/>\n",
              "  </svg>\n",
              "      </button>\n",
              "      \n",
              "  <style>\n",
              "    .colab-df-container {\n",
              "      display:flex;\n",
              "      flex-wrap:wrap;\n",
              "      gap: 12px;\n",
              "    }\n",
              "\n",
              "    .colab-df-convert {\n",
              "      background-color: #E8F0FE;\n",
              "      border: none;\n",
              "      border-radius: 50%;\n",
              "      cursor: pointer;\n",
              "      display: none;\n",
              "      fill: #1967D2;\n",
              "      height: 32px;\n",
              "      padding: 0 0 0 0;\n",
              "      width: 32px;\n",
              "    }\n",
              "\n",
              "    .colab-df-convert:hover {\n",
              "      background-color: #E2EBFA;\n",
              "      box-shadow: 0px 1px 2px rgba(60, 64, 67, 0.3), 0px 1px 3px 1px rgba(60, 64, 67, 0.15);\n",
              "      fill: #174EA6;\n",
              "    }\n",
              "\n",
              "    [theme=dark] .colab-df-convert {\n",
              "      background-color: #3B4455;\n",
              "      fill: #D2E3FC;\n",
              "    }\n",
              "\n",
              "    [theme=dark] .colab-df-convert:hover {\n",
              "      background-color: #434B5C;\n",
              "      box-shadow: 0px 1px 3px 1px rgba(0, 0, 0, 0.15);\n",
              "      filter: drop-shadow(0px 1px 2px rgba(0, 0, 0, 0.3));\n",
              "      fill: #FFFFFF;\n",
              "    }\n",
              "  </style>\n",
              "\n",
              "      <script>\n",
              "        const buttonEl =\n",
              "          document.querySelector('#df-8dc98652-8724-4f80-9a35-e0ffaff375a3 button.colab-df-convert');\n",
              "        buttonEl.style.display =\n",
              "          google.colab.kernel.accessAllowed ? 'block' : 'none';\n",
              "\n",
              "        async function convertToInteractive(key) {\n",
              "          const element = document.querySelector('#df-8dc98652-8724-4f80-9a35-e0ffaff375a3');\n",
              "          const dataTable =\n",
              "            await google.colab.kernel.invokeFunction('convertToInteractive',\n",
              "                                                     [key], {});\n",
              "          if (!dataTable) return;\n",
              "\n",
              "          const docLinkHtml = 'Like what you see? Visit the ' +\n",
              "            '<a target=\"_blank\" href=https://colab.research.google.com/notebooks/data_table.ipynb>data table notebook</a>'\n",
              "            + ' to learn more about interactive tables.';\n",
              "          element.innerHTML = '';\n",
              "          dataTable['output_type'] = 'display_data';\n",
              "          await google.colab.output.renderOutput(dataTable, element);\n",
              "          const docLink = document.createElement('div');\n",
              "          docLink.innerHTML = docLinkHtml;\n",
              "          element.appendChild(docLink);\n",
              "        }\n",
              "      </script>\n",
              "    </div>\n",
              "  </div>\n",
              "  "
            ]
          },
          "metadata": {},
          "execution_count": 4
        }
      ]
    },
    {
      "cell_type": "markdown",
      "id": "dbcc6abc",
      "metadata": {
        "id": "dbcc6abc"
      },
      "source": [
        "4 -Imprima informações básicas sobre o DataFrame"
      ]
    },
    {
      "cell_type": "code",
      "execution_count": 8,
      "id": "2947b71b",
      "metadata": {
        "id": "2947b71b",
        "colab": {
          "base_uri": "https://localhost:8080/"
        },
        "outputId": "53bccd39-2b51-4932-91d4-b7e110919902"
      },
      "outputs": [
        {
          "output_type": "stream",
          "name": "stdout",
          "text": [
            "Informações básicas:\n"
          ]
        },
        {
          "output_type": "execute_result",
          "data": {
            "text/plain": [
              "<bound method DataFrame.info of                         tit_do_filme dt_lancamento     genero  \\\n",
              "0    Snow White and the Seven Dwarfs    1937-12-21    Musical   \n",
              "1                          Pinocchio    1940-02-09  Adventure   \n",
              "2                           Fantasia    1940-11-13    Musical   \n",
              "3                  Song of the South    1946-11-12  Adventure   \n",
              "4                         Cinderella    1950-02-15      Drama   \n",
              "..                               ...           ...        ...   \n",
              "574         The Light Between Oceans    2016-09-02      Drama   \n",
              "575                   Queen of Katwe    2016-09-23      Drama   \n",
              "576                   Doctor Strange    2016-11-04  Adventure   \n",
              "577                            Moana    2016-11-23  Adventure   \n",
              "578     Rogue One: A Star Wars Story    2016-12-16  Adventure   \n",
              "\n",
              "    classificacao_mpaa  bilheteria_bruta  bilheteria_ajustada_inflacao  \n",
              "0                    G         184925485                    5228953251  \n",
              "1                    G          84300000                    2188229052  \n",
              "2                    G          83320000                    2187090808  \n",
              "3                    G          65000000                    1078510579  \n",
              "4                    G          85000000                     920608730  \n",
              "..                 ...               ...                           ...  \n",
              "574              PG-13          12545979                      12545979  \n",
              "575                 PG           8874389                       8874389  \n",
              "576              PG-13         232532923                     232532923  \n",
              "577                 PG         246082029                     246082029  \n",
              "578              PG-13         529483936                     529483936  \n",
              "\n",
              "[579 rows x 6 columns]>"
            ]
          },
          "metadata": {},
          "execution_count": 8
        }
      ],
      "source": [
        "print(\"Informações básicas:\")\n",
        "\n",
        "dados.info"
      ]
    },
    {
      "cell_type": "markdown",
      "id": "99cf10a8",
      "metadata": {
        "id": "99cf10a8"
      },
      "source": [
        "5 - Calcule a média da bilheteria ajustada"
      ]
    },
    {
      "cell_type": "code",
      "execution_count": 16,
      "id": "911d11c6",
      "metadata": {
        "id": "911d11c6",
        "colab": {
          "base_uri": "https://localhost:8080/"
        },
        "outputId": "72aab0a3-4bf9-4f17-e579-5d4dce52a627"
      },
      "outputs": [
        {
          "output_type": "stream",
          "name": "stdout",
          "text": [
            "118762523.31088082\n"
          ]
        }
      ],
      "source": [
        "print(dados['bilheteria_ajustada_inflacao'].mean())"
      ]
    },
    {
      "cell_type": "markdown",
      "id": "80f0ce0c",
      "metadata": {
        "id": "80f0ce0c"
      },
      "source": [
        "6 - Calcule a mediana da bilheterias ajustada"
      ]
    },
    {
      "cell_type": "code",
      "execution_count": 17,
      "id": "bdf6342f",
      "metadata": {
        "id": "bdf6342f",
        "colab": {
          "base_uri": "https://localhost:8080/"
        },
        "outputId": "cca8d415-ef94-454f-fb05-19f1408f21b5"
      },
      "outputs": [
        {
          "output_type": "stream",
          "name": "stdout",
          "text": [
            "55159783.0\n"
          ]
        }
      ],
      "source": [
        "print(dados['bilheteria_ajustada_inflacao'].median())"
      ]
    },
    {
      "cell_type": "markdown",
      "id": "1ddca842",
      "metadata": {
        "id": "1ddca842"
      },
      "source": [
        "7 - Encontre as datas máximas e minimas de lançamentos de filmes nesse dataset"
      ]
    },
    {
      "cell_type": "code",
      "execution_count": 18,
      "id": "951ebec7",
      "metadata": {
        "id": "951ebec7",
        "colab": {
          "base_uri": "https://localhost:8080/"
        },
        "outputId": "52b1bf23-67d9-4a07-a0d3-947b74fbbcff"
      },
      "outputs": [
        {
          "output_type": "stream",
          "name": "stdout",
          "text": [
            "2016-12-16 00:00:00\n",
            "1937-12-21 00:00:00\n"
          ]
        }
      ],
      "source": [
        "print(dados['dt_lancamento'].max())\n",
        "print(dados['dt_lancamento'].min())"
      ]
    },
    {
      "cell_type": "markdown",
      "id": "c2c74ae8",
      "metadata": {
        "id": "c2c74ae8"
      },
      "source": [
        "8 - Qual filme tem maior bilheteria_ajustada_inflacao ?"
      ]
    },
    {
      "cell_type": "code",
      "execution_count": 22,
      "id": "840584dd",
      "metadata": {
        "id": "840584dd",
        "colab": {
          "base_uri": "https://localhost:8080/",
          "height": 81
        },
        "outputId": "75dca96a-3421-4580-a9d2-e76acf95734f"
      },
      "outputs": [
        {
          "output_type": "execute_result",
          "data": {
            "text/plain": [
              "                      tit_do_filme dt_lancamento   genero classificacao_mpaa  \\\n",
              "0  Snow White and the Seven Dwarfs    1937-12-21  Musical                  G   \n",
              "\n",
              "   bilheteria_bruta  bilheteria_ajustada_inflacao  \n",
              "0         184925485                    5228953251  "
            ],
            "text/html": [
              "\n",
              "  <div id=\"df-fc39aca2-4189-46ee-a74b-7e8bca741927\">\n",
              "    <div class=\"colab-df-container\">\n",
              "      <div>\n",
              "<style scoped>\n",
              "    .dataframe tbody tr th:only-of-type {\n",
              "        vertical-align: middle;\n",
              "    }\n",
              "\n",
              "    .dataframe tbody tr th {\n",
              "        vertical-align: top;\n",
              "    }\n",
              "\n",
              "    .dataframe thead th {\n",
              "        text-align: right;\n",
              "    }\n",
              "</style>\n",
              "<table border=\"1\" class=\"dataframe\">\n",
              "  <thead>\n",
              "    <tr style=\"text-align: right;\">\n",
              "      <th></th>\n",
              "      <th>tit_do_filme</th>\n",
              "      <th>dt_lancamento</th>\n",
              "      <th>genero</th>\n",
              "      <th>classificacao_mpaa</th>\n",
              "      <th>bilheteria_bruta</th>\n",
              "      <th>bilheteria_ajustada_inflacao</th>\n",
              "    </tr>\n",
              "  </thead>\n",
              "  <tbody>\n",
              "    <tr>\n",
              "      <th>0</th>\n",
              "      <td>Snow White and the Seven Dwarfs</td>\n",
              "      <td>1937-12-21</td>\n",
              "      <td>Musical</td>\n",
              "      <td>G</td>\n",
              "      <td>184925485</td>\n",
              "      <td>5228953251</td>\n",
              "    </tr>\n",
              "  </tbody>\n",
              "</table>\n",
              "</div>\n",
              "      <button class=\"colab-df-convert\" onclick=\"convertToInteractive('df-fc39aca2-4189-46ee-a74b-7e8bca741927')\"\n",
              "              title=\"Convert this dataframe to an interactive table.\"\n",
              "              style=\"display:none;\">\n",
              "        \n",
              "  <svg xmlns=\"http://www.w3.org/2000/svg\" height=\"24px\"viewBox=\"0 0 24 24\"\n",
              "       width=\"24px\">\n",
              "    <path d=\"M0 0h24v24H0V0z\" fill=\"none\"/>\n",
              "    <path d=\"M18.56 5.44l.94 2.06.94-2.06 2.06-.94-2.06-.94-.94-2.06-.94 2.06-2.06.94zm-11 1L8.5 8.5l.94-2.06 2.06-.94-2.06-.94L8.5 2.5l-.94 2.06-2.06.94zm10 10l.94 2.06.94-2.06 2.06-.94-2.06-.94-.94-2.06-.94 2.06-2.06.94z\"/><path d=\"M17.41 7.96l-1.37-1.37c-.4-.4-.92-.59-1.43-.59-.52 0-1.04.2-1.43.59L10.3 9.45l-7.72 7.72c-.78.78-.78 2.05 0 2.83L4 21.41c.39.39.9.59 1.41.59.51 0 1.02-.2 1.41-.59l7.78-7.78 2.81-2.81c.8-.78.8-2.07 0-2.86zM5.41 20L4 18.59l7.72-7.72 1.47 1.35L5.41 20z\"/>\n",
              "  </svg>\n",
              "      </button>\n",
              "      \n",
              "  <style>\n",
              "    .colab-df-container {\n",
              "      display:flex;\n",
              "      flex-wrap:wrap;\n",
              "      gap: 12px;\n",
              "    }\n",
              "\n",
              "    .colab-df-convert {\n",
              "      background-color: #E8F0FE;\n",
              "      border: none;\n",
              "      border-radius: 50%;\n",
              "      cursor: pointer;\n",
              "      display: none;\n",
              "      fill: #1967D2;\n",
              "      height: 32px;\n",
              "      padding: 0 0 0 0;\n",
              "      width: 32px;\n",
              "    }\n",
              "\n",
              "    .colab-df-convert:hover {\n",
              "      background-color: #E2EBFA;\n",
              "      box-shadow: 0px 1px 2px rgba(60, 64, 67, 0.3), 0px 1px 3px 1px rgba(60, 64, 67, 0.15);\n",
              "      fill: #174EA6;\n",
              "    }\n",
              "\n",
              "    [theme=dark] .colab-df-convert {\n",
              "      background-color: #3B4455;\n",
              "      fill: #D2E3FC;\n",
              "    }\n",
              "\n",
              "    [theme=dark] .colab-df-convert:hover {\n",
              "      background-color: #434B5C;\n",
              "      box-shadow: 0px 1px 3px 1px rgba(0, 0, 0, 0.15);\n",
              "      filter: drop-shadow(0px 1px 2px rgba(0, 0, 0, 0.3));\n",
              "      fill: #FFFFFF;\n",
              "    }\n",
              "  </style>\n",
              "\n",
              "      <script>\n",
              "        const buttonEl =\n",
              "          document.querySelector('#df-fc39aca2-4189-46ee-a74b-7e8bca741927 button.colab-df-convert');\n",
              "        buttonEl.style.display =\n",
              "          google.colab.kernel.accessAllowed ? 'block' : 'none';\n",
              "\n",
              "        async function convertToInteractive(key) {\n",
              "          const element = document.querySelector('#df-fc39aca2-4189-46ee-a74b-7e8bca741927');\n",
              "          const dataTable =\n",
              "            await google.colab.kernel.invokeFunction('convertToInteractive',\n",
              "                                                     [key], {});\n",
              "          if (!dataTable) return;\n",
              "\n",
              "          const docLinkHtml = 'Like what you see? Visit the ' +\n",
              "            '<a target=\"_blank\" href=https://colab.research.google.com/notebooks/data_table.ipynb>data table notebook</a>'\n",
              "            + ' to learn more about interactive tables.';\n",
              "          element.innerHTML = '';\n",
              "          dataTable['output_type'] = 'display_data';\n",
              "          await google.colab.output.renderOutput(dataTable, element);\n",
              "          const docLink = document.createElement('div');\n",
              "          docLink.innerHTML = docLinkHtml;\n",
              "          element.appendChild(docLink);\n",
              "        }\n",
              "      </script>\n",
              "    </div>\n",
              "  </div>\n",
              "  "
            ]
          },
          "metadata": {},
          "execution_count": 22
        }
      ],
      "source": [
        "dados[dados['bilheteria_ajustada_inflacao'] == dados['bilheteria_ajustada_inflacao'].max()]"
      ]
    },
    {
      "cell_type": "markdown",
      "id": "e60ba8ea",
      "metadata": {
        "id": "e60ba8ea"
      },
      "source": []
    },
    {
      "cell_type": "code",
      "execution_count": null,
      "id": "d90a31bc",
      "metadata": {
        "id": "d90a31bc"
      },
      "outputs": [],
      "source": []
    },
    {
      "cell_type": "markdown",
      "id": "4eb6a2c1",
      "metadata": {
        "id": "4eb6a2c1"
      },
      "source": [
        "9 - Ordene os dados por dt_lancamento e chame de data_ordenada"
      ]
    },
    {
      "cell_type": "code",
      "execution_count": 28,
      "id": "9c8ae3bf",
      "metadata": {
        "id": "9c8ae3bf",
        "colab": {
          "base_uri": "https://localhost:8080/",
          "height": 424
        },
        "outputId": "cd8af9e9-9c37-4cf4-b2f8-eabfa9ac39ae"
      },
      "outputs": [
        {
          "output_type": "execute_result",
          "data": {
            "text/plain": [
              "                        tit_do_filme dt_lancamento     genero  \\\n",
              "0    Snow White and the Seven Dwarfs    1937-12-21    Musical   \n",
              "1                          Pinocchio    1940-02-09  Adventure   \n",
              "2                           Fantasia    1940-11-13    Musical   \n",
              "3                  Song of the South    1946-11-12  Adventure   \n",
              "4                         Cinderella    1950-02-15      Drama   \n",
              "..                               ...           ...        ...   \n",
              "574         The Light Between Oceans    2016-09-02      Drama   \n",
              "575                   Queen of Katwe    2016-09-23      Drama   \n",
              "576                   Doctor Strange    2016-11-04  Adventure   \n",
              "577                            Moana    2016-11-23  Adventure   \n",
              "578     Rogue One: A Star Wars Story    2016-12-16  Adventure   \n",
              "\n",
              "    classificacao_mpaa  bilheteria_bruta  bilheteria_ajustada_inflacao  \n",
              "0                    G         184925485                    5228953251  \n",
              "1                    G          84300000                    2188229052  \n",
              "2                    G          83320000                    2187090808  \n",
              "3                    G          65000000                    1078510579  \n",
              "4                    G          85000000                     920608730  \n",
              "..                 ...               ...                           ...  \n",
              "574              PG-13          12545979                      12545979  \n",
              "575                 PG           8874389                       8874389  \n",
              "576              PG-13         232532923                     232532923  \n",
              "577                 PG         246082029                     246082029  \n",
              "578              PG-13         529483936                     529483936  \n",
              "\n",
              "[579 rows x 6 columns]"
            ],
            "text/html": [
              "\n",
              "  <div id=\"df-ee9585c9-e9d6-4f7c-ab12-4894be769351\">\n",
              "    <div class=\"colab-df-container\">\n",
              "      <div>\n",
              "<style scoped>\n",
              "    .dataframe tbody tr th:only-of-type {\n",
              "        vertical-align: middle;\n",
              "    }\n",
              "\n",
              "    .dataframe tbody tr th {\n",
              "        vertical-align: top;\n",
              "    }\n",
              "\n",
              "    .dataframe thead th {\n",
              "        text-align: right;\n",
              "    }\n",
              "</style>\n",
              "<table border=\"1\" class=\"dataframe\">\n",
              "  <thead>\n",
              "    <tr style=\"text-align: right;\">\n",
              "      <th></th>\n",
              "      <th>tit_do_filme</th>\n",
              "      <th>dt_lancamento</th>\n",
              "      <th>genero</th>\n",
              "      <th>classificacao_mpaa</th>\n",
              "      <th>bilheteria_bruta</th>\n",
              "      <th>bilheteria_ajustada_inflacao</th>\n",
              "    </tr>\n",
              "  </thead>\n",
              "  <tbody>\n",
              "    <tr>\n",
              "      <th>0</th>\n",
              "      <td>Snow White and the Seven Dwarfs</td>\n",
              "      <td>1937-12-21</td>\n",
              "      <td>Musical</td>\n",
              "      <td>G</td>\n",
              "      <td>184925485</td>\n",
              "      <td>5228953251</td>\n",
              "    </tr>\n",
              "    <tr>\n",
              "      <th>1</th>\n",
              "      <td>Pinocchio</td>\n",
              "      <td>1940-02-09</td>\n",
              "      <td>Adventure</td>\n",
              "      <td>G</td>\n",
              "      <td>84300000</td>\n",
              "      <td>2188229052</td>\n",
              "    </tr>\n",
              "    <tr>\n",
              "      <th>2</th>\n",
              "      <td>Fantasia</td>\n",
              "      <td>1940-11-13</td>\n",
              "      <td>Musical</td>\n",
              "      <td>G</td>\n",
              "      <td>83320000</td>\n",
              "      <td>2187090808</td>\n",
              "    </tr>\n",
              "    <tr>\n",
              "      <th>3</th>\n",
              "      <td>Song of the South</td>\n",
              "      <td>1946-11-12</td>\n",
              "      <td>Adventure</td>\n",
              "      <td>G</td>\n",
              "      <td>65000000</td>\n",
              "      <td>1078510579</td>\n",
              "    </tr>\n",
              "    <tr>\n",
              "      <th>4</th>\n",
              "      <td>Cinderella</td>\n",
              "      <td>1950-02-15</td>\n",
              "      <td>Drama</td>\n",
              "      <td>G</td>\n",
              "      <td>85000000</td>\n",
              "      <td>920608730</td>\n",
              "    </tr>\n",
              "    <tr>\n",
              "      <th>...</th>\n",
              "      <td>...</td>\n",
              "      <td>...</td>\n",
              "      <td>...</td>\n",
              "      <td>...</td>\n",
              "      <td>...</td>\n",
              "      <td>...</td>\n",
              "    </tr>\n",
              "    <tr>\n",
              "      <th>574</th>\n",
              "      <td>The Light Between Oceans</td>\n",
              "      <td>2016-09-02</td>\n",
              "      <td>Drama</td>\n",
              "      <td>PG-13</td>\n",
              "      <td>12545979</td>\n",
              "      <td>12545979</td>\n",
              "    </tr>\n",
              "    <tr>\n",
              "      <th>575</th>\n",
              "      <td>Queen of Katwe</td>\n",
              "      <td>2016-09-23</td>\n",
              "      <td>Drama</td>\n",
              "      <td>PG</td>\n",
              "      <td>8874389</td>\n",
              "      <td>8874389</td>\n",
              "    </tr>\n",
              "    <tr>\n",
              "      <th>576</th>\n",
              "      <td>Doctor Strange</td>\n",
              "      <td>2016-11-04</td>\n",
              "      <td>Adventure</td>\n",
              "      <td>PG-13</td>\n",
              "      <td>232532923</td>\n",
              "      <td>232532923</td>\n",
              "    </tr>\n",
              "    <tr>\n",
              "      <th>577</th>\n",
              "      <td>Moana</td>\n",
              "      <td>2016-11-23</td>\n",
              "      <td>Adventure</td>\n",
              "      <td>PG</td>\n",
              "      <td>246082029</td>\n",
              "      <td>246082029</td>\n",
              "    </tr>\n",
              "    <tr>\n",
              "      <th>578</th>\n",
              "      <td>Rogue One: A Star Wars Story</td>\n",
              "      <td>2016-12-16</td>\n",
              "      <td>Adventure</td>\n",
              "      <td>PG-13</td>\n",
              "      <td>529483936</td>\n",
              "      <td>529483936</td>\n",
              "    </tr>\n",
              "  </tbody>\n",
              "</table>\n",
              "<p>579 rows × 6 columns</p>\n",
              "</div>\n",
              "      <button class=\"colab-df-convert\" onclick=\"convertToInteractive('df-ee9585c9-e9d6-4f7c-ab12-4894be769351')\"\n",
              "              title=\"Convert this dataframe to an interactive table.\"\n",
              "              style=\"display:none;\">\n",
              "        \n",
              "  <svg xmlns=\"http://www.w3.org/2000/svg\" height=\"24px\"viewBox=\"0 0 24 24\"\n",
              "       width=\"24px\">\n",
              "    <path d=\"M0 0h24v24H0V0z\" fill=\"none\"/>\n",
              "    <path d=\"M18.56 5.44l.94 2.06.94-2.06 2.06-.94-2.06-.94-.94-2.06-.94 2.06-2.06.94zm-11 1L8.5 8.5l.94-2.06 2.06-.94-2.06-.94L8.5 2.5l-.94 2.06-2.06.94zm10 10l.94 2.06.94-2.06 2.06-.94-2.06-.94-.94-2.06-.94 2.06-2.06.94z\"/><path d=\"M17.41 7.96l-1.37-1.37c-.4-.4-.92-.59-1.43-.59-.52 0-1.04.2-1.43.59L10.3 9.45l-7.72 7.72c-.78.78-.78 2.05 0 2.83L4 21.41c.39.39.9.59 1.41.59.51 0 1.02-.2 1.41-.59l7.78-7.78 2.81-2.81c.8-.78.8-2.07 0-2.86zM5.41 20L4 18.59l7.72-7.72 1.47 1.35L5.41 20z\"/>\n",
              "  </svg>\n",
              "      </button>\n",
              "      \n",
              "  <style>\n",
              "    .colab-df-container {\n",
              "      display:flex;\n",
              "      flex-wrap:wrap;\n",
              "      gap: 12px;\n",
              "    }\n",
              "\n",
              "    .colab-df-convert {\n",
              "      background-color: #E8F0FE;\n",
              "      border: none;\n",
              "      border-radius: 50%;\n",
              "      cursor: pointer;\n",
              "      display: none;\n",
              "      fill: #1967D2;\n",
              "      height: 32px;\n",
              "      padding: 0 0 0 0;\n",
              "      width: 32px;\n",
              "    }\n",
              "\n",
              "    .colab-df-convert:hover {\n",
              "      background-color: #E2EBFA;\n",
              "      box-shadow: 0px 1px 2px rgba(60, 64, 67, 0.3), 0px 1px 3px 1px rgba(60, 64, 67, 0.15);\n",
              "      fill: #174EA6;\n",
              "    }\n",
              "\n",
              "    [theme=dark] .colab-df-convert {\n",
              "      background-color: #3B4455;\n",
              "      fill: #D2E3FC;\n",
              "    }\n",
              "\n",
              "    [theme=dark] .colab-df-convert:hover {\n",
              "      background-color: #434B5C;\n",
              "      box-shadow: 0px 1px 3px 1px rgba(0, 0, 0, 0.15);\n",
              "      filter: drop-shadow(0px 1px 2px rgba(0, 0, 0, 0.3));\n",
              "      fill: #FFFFFF;\n",
              "    }\n",
              "  </style>\n",
              "\n",
              "      <script>\n",
              "        const buttonEl =\n",
              "          document.querySelector('#df-ee9585c9-e9d6-4f7c-ab12-4894be769351 button.colab-df-convert');\n",
              "        buttonEl.style.display =\n",
              "          google.colab.kernel.accessAllowed ? 'block' : 'none';\n",
              "\n",
              "        async function convertToInteractive(key) {\n",
              "          const element = document.querySelector('#df-ee9585c9-e9d6-4f7c-ab12-4894be769351');\n",
              "          const dataTable =\n",
              "            await google.colab.kernel.invokeFunction('convertToInteractive',\n",
              "                                                     [key], {});\n",
              "          if (!dataTable) return;\n",
              "\n",
              "          const docLinkHtml = 'Like what you see? Visit the ' +\n",
              "            '<a target=\"_blank\" href=https://colab.research.google.com/notebooks/data_table.ipynb>data table notebook</a>'\n",
              "            + ' to learn more about interactive tables.';\n",
              "          element.innerHTML = '';\n",
              "          dataTable['output_type'] = 'display_data';\n",
              "          await google.colab.output.renderOutput(dataTable, element);\n",
              "          const docLink = document.createElement('div');\n",
              "          docLink.innerHTML = docLinkHtml;\n",
              "          element.appendChild(docLink);\n",
              "        }\n",
              "      </script>\n",
              "    </div>\n",
              "  </div>\n",
              "  "
            ]
          },
          "metadata": {},
          "execution_count": 28
        }
      ],
      "source": [
        "data_ordenada = dados.sort_values('dt_lancamento', ascending = True)\n",
        "data_ordenada"
      ]
    },
    {
      "cell_type": "markdown",
      "id": "83cdf73f",
      "metadata": {
        "id": "83cdf73f"
      },
      "source": [
        "10- Obtenha a soma cumulativa da bilheteria_ajustada_inflacao,adicione ao dataset com o nome de bilheteria_milionaria"
      ]
    },
    {
      "cell_type": "code",
      "execution_count": 32,
      "id": "689b7837",
      "metadata": {
        "id": "689b7837"
      },
      "outputs": [],
      "source": [
        "dados['bilheteria_milionaria'] = dados['bilheteria_ajustada_inflacao'].cumsum()"
      ]
    },
    {
      "cell_type": "markdown",
      "id": "e0c7ffc8",
      "metadata": {
        "id": "e0c7ffc8"
      },
      "source": [
        "11 - Veja a coluna que você criou"
      ]
    },
    {
      "cell_type": "code",
      "execution_count": 33,
      "id": "533171d5",
      "metadata": {
        "id": "533171d5",
        "colab": {
          "base_uri": "https://localhost:8080/"
        },
        "outputId": "1ef06966-ce28-4985-a786-96d594e91fb2"
      },
      "outputs": [
        {
          "output_type": "execute_result",
          "data": {
            "text/plain": [
              "0       5228953251\n",
              "1       7417182303\n",
              "2       9604273111\n",
              "3      10682783690\n",
              "4      11603392420\n",
              "          ...     \n",
              "574    67746527720\n",
              "575    67755402109\n",
              "576    67987935032\n",
              "577    68234017061\n",
              "578    68763500997\n",
              "Name: bilheteria_milionaria, Length: 579, dtype: int64"
            ]
          },
          "metadata": {},
          "execution_count": 33
        }
      ],
      "source": [
        "dados['bilheteria_milionaria']"
      ]
    },
    {
      "cell_type": "markdown",
      "id": "875fb027",
      "metadata": {
        "id": "875fb027"
      },
      "source": [
        "12 - Selecione os filmes de aventura e atribua a uma variável chamada filmes_aventura"
      ]
    },
    {
      "cell_type": "code",
      "execution_count": 34,
      "id": "38bbaae5",
      "metadata": {
        "id": "38bbaae5"
      },
      "outputs": [],
      "source": [
        " filmes_aventura = dados[dados['genero']=='Adventure']"
      ]
    },
    {
      "cell_type": "markdown",
      "id": "8816a9c3",
      "metadata": {
        "id": "8816a9c3"
      },
      "source": [
        "13 - Veja as primeiras linha desse novo dataset:"
      ]
    },
    {
      "cell_type": "code",
      "execution_count": 35,
      "id": "719759d1",
      "metadata": {
        "id": "719759d1",
        "colab": {
          "base_uri": "https://localhost:8080/",
          "height": 206
        },
        "outputId": "5fe26a52-c3b5-4f48-a645-ee00a0a5ed6d"
      },
      "outputs": [
        {
          "output_type": "execute_result",
          "data": {
            "text/plain": [
              "                    tit_do_filme dt_lancamento     genero classificacao_mpaa  \\\n",
              "1                      Pinocchio    1940-02-09  Adventure                  G   \n",
              "3              Song of the South    1946-11-12  Adventure                  G   \n",
              "5   20,000 Leagues Under the Sea    1954-12-23  Adventure                NaN   \n",
              "12        The Sword in the Stone    1963-12-25  Adventure                NaN   \n",
              "21                  The Rescuers    1977-06-22  Adventure                NaN   \n",
              "\n",
              "    bilheteria_bruta  bilheteria_ajustada_inflacao  bilheteria_milionaria  \n",
              "1           84300000                    2188229052             7417182303  \n",
              "3           65000000                    1078510579            10682783690  \n",
              "5           28200000                     528279994            12131672414  \n",
              "12          22182353                     153870834            15450472960  \n",
              "21          48775599                     159743914            17215424200  "
            ],
            "text/html": [
              "\n",
              "  <div id=\"df-0ad2571d-9236-4e63-a9f3-6394014ec562\">\n",
              "    <div class=\"colab-df-container\">\n",
              "      <div>\n",
              "<style scoped>\n",
              "    .dataframe tbody tr th:only-of-type {\n",
              "        vertical-align: middle;\n",
              "    }\n",
              "\n",
              "    .dataframe tbody tr th {\n",
              "        vertical-align: top;\n",
              "    }\n",
              "\n",
              "    .dataframe thead th {\n",
              "        text-align: right;\n",
              "    }\n",
              "</style>\n",
              "<table border=\"1\" class=\"dataframe\">\n",
              "  <thead>\n",
              "    <tr style=\"text-align: right;\">\n",
              "      <th></th>\n",
              "      <th>tit_do_filme</th>\n",
              "      <th>dt_lancamento</th>\n",
              "      <th>genero</th>\n",
              "      <th>classificacao_mpaa</th>\n",
              "      <th>bilheteria_bruta</th>\n",
              "      <th>bilheteria_ajustada_inflacao</th>\n",
              "      <th>bilheteria_milionaria</th>\n",
              "    </tr>\n",
              "  </thead>\n",
              "  <tbody>\n",
              "    <tr>\n",
              "      <th>1</th>\n",
              "      <td>Pinocchio</td>\n",
              "      <td>1940-02-09</td>\n",
              "      <td>Adventure</td>\n",
              "      <td>G</td>\n",
              "      <td>84300000</td>\n",
              "      <td>2188229052</td>\n",
              "      <td>7417182303</td>\n",
              "    </tr>\n",
              "    <tr>\n",
              "      <th>3</th>\n",
              "      <td>Song of the South</td>\n",
              "      <td>1946-11-12</td>\n",
              "      <td>Adventure</td>\n",
              "      <td>G</td>\n",
              "      <td>65000000</td>\n",
              "      <td>1078510579</td>\n",
              "      <td>10682783690</td>\n",
              "    </tr>\n",
              "    <tr>\n",
              "      <th>5</th>\n",
              "      <td>20,000 Leagues Under the Sea</td>\n",
              "      <td>1954-12-23</td>\n",
              "      <td>Adventure</td>\n",
              "      <td>NaN</td>\n",
              "      <td>28200000</td>\n",
              "      <td>528279994</td>\n",
              "      <td>12131672414</td>\n",
              "    </tr>\n",
              "    <tr>\n",
              "      <th>12</th>\n",
              "      <td>The Sword in the Stone</td>\n",
              "      <td>1963-12-25</td>\n",
              "      <td>Adventure</td>\n",
              "      <td>NaN</td>\n",
              "      <td>22182353</td>\n",
              "      <td>153870834</td>\n",
              "      <td>15450472960</td>\n",
              "    </tr>\n",
              "    <tr>\n",
              "      <th>21</th>\n",
              "      <td>The Rescuers</td>\n",
              "      <td>1977-06-22</td>\n",
              "      <td>Adventure</td>\n",
              "      <td>NaN</td>\n",
              "      <td>48775599</td>\n",
              "      <td>159743914</td>\n",
              "      <td>17215424200</td>\n",
              "    </tr>\n",
              "  </tbody>\n",
              "</table>\n",
              "</div>\n",
              "      <button class=\"colab-df-convert\" onclick=\"convertToInteractive('df-0ad2571d-9236-4e63-a9f3-6394014ec562')\"\n",
              "              title=\"Convert this dataframe to an interactive table.\"\n",
              "              style=\"display:none;\">\n",
              "        \n",
              "  <svg xmlns=\"http://www.w3.org/2000/svg\" height=\"24px\"viewBox=\"0 0 24 24\"\n",
              "       width=\"24px\">\n",
              "    <path d=\"M0 0h24v24H0V0z\" fill=\"none\"/>\n",
              "    <path d=\"M18.56 5.44l.94 2.06.94-2.06 2.06-.94-2.06-.94-.94-2.06-.94 2.06-2.06.94zm-11 1L8.5 8.5l.94-2.06 2.06-.94-2.06-.94L8.5 2.5l-.94 2.06-2.06.94zm10 10l.94 2.06.94-2.06 2.06-.94-2.06-.94-.94-2.06-.94 2.06-2.06.94z\"/><path d=\"M17.41 7.96l-1.37-1.37c-.4-.4-.92-.59-1.43-.59-.52 0-1.04.2-1.43.59L10.3 9.45l-7.72 7.72c-.78.78-.78 2.05 0 2.83L4 21.41c.39.39.9.59 1.41.59.51 0 1.02-.2 1.41-.59l7.78-7.78 2.81-2.81c.8-.78.8-2.07 0-2.86zM5.41 20L4 18.59l7.72-7.72 1.47 1.35L5.41 20z\"/>\n",
              "  </svg>\n",
              "      </button>\n",
              "      \n",
              "  <style>\n",
              "    .colab-df-container {\n",
              "      display:flex;\n",
              "      flex-wrap:wrap;\n",
              "      gap: 12px;\n",
              "    }\n",
              "\n",
              "    .colab-df-convert {\n",
              "      background-color: #E8F0FE;\n",
              "      border: none;\n",
              "      border-radius: 50%;\n",
              "      cursor: pointer;\n",
              "      display: none;\n",
              "      fill: #1967D2;\n",
              "      height: 32px;\n",
              "      padding: 0 0 0 0;\n",
              "      width: 32px;\n",
              "    }\n",
              "\n",
              "    .colab-df-convert:hover {\n",
              "      background-color: #E2EBFA;\n",
              "      box-shadow: 0px 1px 2px rgba(60, 64, 67, 0.3), 0px 1px 3px 1px rgba(60, 64, 67, 0.15);\n",
              "      fill: #174EA6;\n",
              "    }\n",
              "\n",
              "    [theme=dark] .colab-df-convert {\n",
              "      background-color: #3B4455;\n",
              "      fill: #D2E3FC;\n",
              "    }\n",
              "\n",
              "    [theme=dark] .colab-df-convert:hover {\n",
              "      background-color: #434B5C;\n",
              "      box-shadow: 0px 1px 3px 1px rgba(0, 0, 0, 0.15);\n",
              "      filter: drop-shadow(0px 1px 2px rgba(0, 0, 0, 0.3));\n",
              "      fill: #FFFFFF;\n",
              "    }\n",
              "  </style>\n",
              "\n",
              "      <script>\n",
              "        const buttonEl =\n",
              "          document.querySelector('#df-0ad2571d-9236-4e63-a9f3-6394014ec562 button.colab-df-convert');\n",
              "        buttonEl.style.display =\n",
              "          google.colab.kernel.accessAllowed ? 'block' : 'none';\n",
              "\n",
              "        async function convertToInteractive(key) {\n",
              "          const element = document.querySelector('#df-0ad2571d-9236-4e63-a9f3-6394014ec562');\n",
              "          const dataTable =\n",
              "            await google.colab.kernel.invokeFunction('convertToInteractive',\n",
              "                                                     [key], {});\n",
              "          if (!dataTable) return;\n",
              "\n",
              "          const docLinkHtml = 'Like what you see? Visit the ' +\n",
              "            '<a target=\"_blank\" href=https://colab.research.google.com/notebooks/data_table.ipynb>data table notebook</a>'\n",
              "            + ' to learn more about interactive tables.';\n",
              "          element.innerHTML = '';\n",
              "          dataTable['output_type'] = 'display_data';\n",
              "          await google.colab.output.renderOutput(dataTable, element);\n",
              "          const docLink = document.createElement('div');\n",
              "          docLink.innerHTML = docLinkHtml;\n",
              "          element.appendChild(docLink);\n",
              "        }\n",
              "      </script>\n",
              "    </div>\n",
              "  </div>\n",
              "  "
            ]
          },
          "metadata": {},
          "execution_count": 35
        }
      ],
      "source": [
        "filmes_aventura.head()"
      ]
    },
    {
      "cell_type": "markdown",
      "id": "58b724d2",
      "metadata": {
        "id": "58b724d2"
      },
      "source": [
        "14 - Conte o número de filmes por genero e ordene"
      ]
    },
    {
      "cell_type": "code",
      "execution_count": 38,
      "id": "9f35f2dd",
      "metadata": {
        "id": "9f35f2dd",
        "colab": {
          "base_uri": "https://localhost:8080/"
        },
        "outputId": "2934e679-9f30-40a2-c0f8-0ce5ccda66c0"
      },
      "outputs": [
        {
          "output_type": "execute_result",
          "data": {
            "text/plain": [
              "Comedy                 182\n",
              "Adventure              129\n",
              "Drama                  114\n",
              "Action                  40\n",
              "Thriller/Suspense       24\n",
              "Romantic Comedy         23\n",
              "Musical                 16\n",
              "Documentary             16\n",
              "Western                  7\n",
              "Horror                   6\n",
              "Black Comedy             3\n",
              "Concert/Performance      2\n",
              "Name: genero, dtype: int64"
            ]
          },
          "metadata": {},
          "execution_count": 38
        }
      ],
      "source": [
        "conta_genero_ordem = dados['genero'].value_counts(sort=True)\n",
        "conta_genero_ordem"
      ]
    },
    {
      "cell_type": "markdown",
      "id": "5acb96d9",
      "metadata": {
        "id": "5acb96d9"
      },
      "source": [
        "15 - Calcule agora a proporção de filmes por genero e ordene"
      ]
    },
    {
      "cell_type": "code",
      "execution_count": 40,
      "id": "934f5164",
      "metadata": {
        "id": "934f5164",
        "colab": {
          "base_uri": "https://localhost:8080/"
        },
        "outputId": "626aee57-6efb-4d1f-cdca-0c50709e03e8"
      },
      "outputs": [
        {
          "output_type": "execute_result",
          "data": {
            "text/plain": [
              "Comedy                 32.384342\n",
              "Adventure              22.953737\n",
              "Drama                  20.284698\n",
              "Action                  7.117438\n",
              "Thriller/Suspense       4.270463\n",
              "Romantic Comedy         4.092527\n",
              "Musical                 2.846975\n",
              "Documentary             2.846975\n",
              "Western                 1.245552\n",
              "Horror                  1.067616\n",
              "Black Comedy            0.533808\n",
              "Concert/Performance     0.355872\n",
              "Name: genero, dtype: float64"
            ]
          },
          "metadata": {},
          "execution_count": 40
        }
      ],
      "source": [
        "prop_filmes = dados['genero'].value_counts(normalize=True)*100\n",
        "prop_filmes"
      ]
    },
    {
      "cell_type": "markdown",
      "id": "c0e64ed2",
      "metadata": {
        "id": "c0e64ed2"
      },
      "source": [
        "Estatísticas resumidas agrupadas"
      ]
    },
    {
      "cell_type": "markdown",
      "id": "8ce11db4",
      "metadata": {
        "id": "8ce11db4"
      },
      "source": [
        "16 - Calcule o total da \"bilheteria_bruta\""
      ]
    },
    {
      "cell_type": "code",
      "execution_count": 44,
      "id": "55dbb07e",
      "metadata": {
        "id": "55dbb07e",
        "colab": {
          "base_uri": "https://localhost:8080/"
        },
        "outputId": "2e1ccb97-6559-478f-9d7f-f4628ef4876e"
      },
      "outputs": [
        {
          "output_type": "execute_result",
          "data": {
            "text/plain": [
              "37462335553"
            ]
          },
          "metadata": {},
          "execution_count": 44
        }
      ],
      "source": [
        "total_bilheteria_bruta = dados['bilheteria_bruta'].sum()\n",
        "total_bilheteria_bruta"
      ]
    },
    {
      "cell_type": "markdown",
      "id": "a35facfb",
      "metadata": {
        "id": "a35facfb"
      },
      "source": [
        "17 - Visualize os tipos de generos que tem nesse dataset:"
      ]
    },
    {
      "cell_type": "code",
      "execution_count": 45,
      "id": "1a6152ca",
      "metadata": {
        "id": "1a6152ca",
        "colab": {
          "base_uri": "https://localhost:8080/"
        },
        "outputId": "c84a6a1b-da09-4a4b-8cfe-585f6f736ce6"
      },
      "outputs": [
        {
          "output_type": "execute_result",
          "data": {
            "text/plain": [
              "array(['Musical', 'Adventure', 'Drama', 'Comedy', nan, 'Action', 'Horror',\n",
              "       'Romantic Comedy', 'Thriller/Suspense', 'Western', 'Black Comedy',\n",
              "       'Documentary', 'Concert/Performance'], dtype=object)"
            ]
          },
          "metadata": {},
          "execution_count": 45
        }
      ],
      "source": [
        "dados.genero.unique()"
      ]
    },
    {
      "cell_type": "markdown",
      "id": "47955f3b",
      "metadata": {
        "id": "47955f3b"
      },
      "source": [
        "18 - Calcule o total da bilheteria_bruta pelo genero 'Drama'"
      ]
    },
    {
      "cell_type": "code",
      "execution_count": 52,
      "id": "504703e4",
      "metadata": {
        "id": "504703e4",
        "colab": {
          "base_uri": "https://localhost:8080/"
        },
        "outputId": "9d1816c1-de75-4d4e-ccd3-80f3c2de2b1e"
      },
      "outputs": [
        {
          "output_type": "execute_result",
          "data": {
            "text/plain": [
              "4106972970"
            ]
          },
          "metadata": {},
          "execution_count": 52
        }
      ],
      "source": [
        "total_bilheteria_bruta_drama = dados[dados['genero'] == 'Drama']['bilheteria_bruta'].sum()\n",
        "total_bilheteria_bruta_drama"
      ]
    },
    {
      "cell_type": "markdown",
      "id": "2671365c",
      "metadata": {
        "id": "2671365c"
      },
      "source": [
        "19 - Calcule o total da bilheteria_bruta pelo genero Comedia 'Comedy'"
      ]
    },
    {
      "cell_type": "code",
      "execution_count": 53,
      "id": "b06d5fcd",
      "metadata": {
        "id": "b06d5fcd",
        "colab": {
          "base_uri": "https://localhost:8080/"
        },
        "outputId": "e95c6909-f7df-4c0b-90a3-bbe909fcb501"
      },
      "outputs": [
        {
          "output_type": "execute_result",
          "data": {
            "text/plain": [
              "8119619678"
            ]
          },
          "metadata": {},
          "execution_count": 53
        }
      ],
      "source": [
        "total_bilheteria_bruta_comedia = dados[dados['genero'] == 'Comedy']['bilheteria_bruta'].sum()\n",
        "total_bilheteria_bruta_comedia"
      ]
    },
    {
      "cell_type": "markdown",
      "id": "f3073292",
      "metadata": {
        "id": "f3073292"
      },
      "source": [
        "20 - Calcule o total da bilheteria_bruta pelo genero Ação 'Action'"
      ]
    },
    {
      "cell_type": "code",
      "execution_count": 54,
      "id": "fc908d7a",
      "metadata": {
        "id": "fc908d7a",
        "colab": {
          "base_uri": "https://localhost:8080/"
        },
        "outputId": "5252834b-e3bc-458c-d67c-1d5285d6bb34"
      },
      "outputs": [
        {
          "output_type": "execute_result",
          "data": {
            "text/plain": [
              "4184563282"
            ]
          },
          "metadata": {},
          "execution_count": 54
        }
      ],
      "source": [
        "total_bilheteria_bruta_acao = dados[dados['genero'] == 'Action']['bilheteria_bruta'].sum()\n",
        "total_bilheteria_bruta_acao"
      ]
    },
    {
      "cell_type": "markdown",
      "id": "13fd0acf",
      "metadata": {
        "id": "13fd0acf"
      },
      "source": [
        "21 -  Obtenha proporção do bilheteria_bruta para os três generos acima."
      ]
    },
    {
      "cell_type": "code",
      "execution_count": 57,
      "id": "408343b4",
      "metadata": {
        "id": "408343b4",
        "colab": {
          "base_uri": "https://localhost:8080/"
        },
        "outputId": "866aa59e-a38d-4964-a452-0fdff724ac35"
      },
      "outputs": [
        {
          "output_type": "stream",
          "name": "stdout",
          "text": [
            "[10.96293893 21.67408828 11.17005446]\n"
          ]
        }
      ],
      "source": [
        "prop_bilheteria_bruta = [total_bilheteria_bruta_drama , total_bilheteria_bruta_comedia , total_bilheteria_bruta_acao]  / (total_bilheteria_bruta) *100\n",
        "print (prop_bilheteria_bruta)"
      ]
    },
    {
      "cell_type": "markdown",
      "id": "def6832b",
      "metadata": {
        "id": "def6832b"
      },
      "source": [
        "22 - Importe numpy com o alias np"
      ]
    },
    {
      "cell_type": "code",
      "execution_count": 58,
      "id": "55f563e8",
      "metadata": {
        "id": "55f563e8"
      },
      "outputs": [],
      "source": [
        "import numpy as np"
      ]
    },
    {
      "cell_type": "markdown",
      "id": "70537d5b",
      "metadata": {
        "id": "70537d5b"
      },
      "source": [
        "23 - Para cada genero de filme, agregue a bilheteria_bruta obtendo min, max, média e mediana e imprima o resultado\n",
        "\n",
        "Dica: use numpy para as estatísticas"
      ]
    },
    {
      "cell_type": "code",
      "execution_count": 59,
      "id": "fe3088e8",
      "metadata": {
        "id": "fe3088e8",
        "colab": {
          "base_uri": "https://localhost:8080/",
          "height": 457
        },
        "outputId": "507cd2b1-91e8-47ba-942b-6f498437bf63"
      },
      "outputs": [
        {
          "output_type": "execute_result",
          "data": {
            "text/plain": [
              "                         amin       amax          mean      median\n",
              "genero                                                            \n",
              "Action                      0  623279547  1.046141e+08  43315244.5\n",
              "Adventure                2815  936662225  1.270471e+08  65000000.0\n",
              "Black Comedy         17105219   52353636  3.251440e+07  28084357.0\n",
              "Comedy                  45779  244082982  4.461329e+07  26923500.5\n",
              "Concert/Performance  38174685   65281781  5.172823e+07  51728233.0\n",
              "Documentary             20521   32011576  1.129285e+07   9688331.0\n",
              "Drama                       0  201151353  3.602608e+07  19730097.0\n",
              "Horror                4877567   26570463  1.451148e+07  13439137.5\n",
              "Musical               5632086  218951625  7.233026e+07  53041787.5\n",
              "Romantic Comedy        468240  178406268  5.009595e+07  32680633.0\n",
              "Thriller/Suspense     2154540  293506292  5.861694e+07  28153827.0\n",
              "Western               8247627   89302115  5.128735e+07  56932305.0"
            ],
            "text/html": [
              "\n",
              "  <div id=\"df-e441a542-e3dd-4400-afa4-67e7cf441187\">\n",
              "    <div class=\"colab-df-container\">\n",
              "      <div>\n",
              "<style scoped>\n",
              "    .dataframe tbody tr th:only-of-type {\n",
              "        vertical-align: middle;\n",
              "    }\n",
              "\n",
              "    .dataframe tbody tr th {\n",
              "        vertical-align: top;\n",
              "    }\n",
              "\n",
              "    .dataframe thead th {\n",
              "        text-align: right;\n",
              "    }\n",
              "</style>\n",
              "<table border=\"1\" class=\"dataframe\">\n",
              "  <thead>\n",
              "    <tr style=\"text-align: right;\">\n",
              "      <th></th>\n",
              "      <th>amin</th>\n",
              "      <th>amax</th>\n",
              "      <th>mean</th>\n",
              "      <th>median</th>\n",
              "    </tr>\n",
              "    <tr>\n",
              "      <th>genero</th>\n",
              "      <th></th>\n",
              "      <th></th>\n",
              "      <th></th>\n",
              "      <th></th>\n",
              "    </tr>\n",
              "  </thead>\n",
              "  <tbody>\n",
              "    <tr>\n",
              "      <th>Action</th>\n",
              "      <td>0</td>\n",
              "      <td>623279547</td>\n",
              "      <td>1.046141e+08</td>\n",
              "      <td>43315244.5</td>\n",
              "    </tr>\n",
              "    <tr>\n",
              "      <th>Adventure</th>\n",
              "      <td>2815</td>\n",
              "      <td>936662225</td>\n",
              "      <td>1.270471e+08</td>\n",
              "      <td>65000000.0</td>\n",
              "    </tr>\n",
              "    <tr>\n",
              "      <th>Black Comedy</th>\n",
              "      <td>17105219</td>\n",
              "      <td>52353636</td>\n",
              "      <td>3.251440e+07</td>\n",
              "      <td>28084357.0</td>\n",
              "    </tr>\n",
              "    <tr>\n",
              "      <th>Comedy</th>\n",
              "      <td>45779</td>\n",
              "      <td>244082982</td>\n",
              "      <td>4.461329e+07</td>\n",
              "      <td>26923500.5</td>\n",
              "    </tr>\n",
              "    <tr>\n",
              "      <th>Concert/Performance</th>\n",
              "      <td>38174685</td>\n",
              "      <td>65281781</td>\n",
              "      <td>5.172823e+07</td>\n",
              "      <td>51728233.0</td>\n",
              "    </tr>\n",
              "    <tr>\n",
              "      <th>Documentary</th>\n",
              "      <td>20521</td>\n",
              "      <td>32011576</td>\n",
              "      <td>1.129285e+07</td>\n",
              "      <td>9688331.0</td>\n",
              "    </tr>\n",
              "    <tr>\n",
              "      <th>Drama</th>\n",
              "      <td>0</td>\n",
              "      <td>201151353</td>\n",
              "      <td>3.602608e+07</td>\n",
              "      <td>19730097.0</td>\n",
              "    </tr>\n",
              "    <tr>\n",
              "      <th>Horror</th>\n",
              "      <td>4877567</td>\n",
              "      <td>26570463</td>\n",
              "      <td>1.451148e+07</td>\n",
              "      <td>13439137.5</td>\n",
              "    </tr>\n",
              "    <tr>\n",
              "      <th>Musical</th>\n",
              "      <td>5632086</td>\n",
              "      <td>218951625</td>\n",
              "      <td>7.233026e+07</td>\n",
              "      <td>53041787.5</td>\n",
              "    </tr>\n",
              "    <tr>\n",
              "      <th>Romantic Comedy</th>\n",
              "      <td>468240</td>\n",
              "      <td>178406268</td>\n",
              "      <td>5.009595e+07</td>\n",
              "      <td>32680633.0</td>\n",
              "    </tr>\n",
              "    <tr>\n",
              "      <th>Thriller/Suspense</th>\n",
              "      <td>2154540</td>\n",
              "      <td>293506292</td>\n",
              "      <td>5.861694e+07</td>\n",
              "      <td>28153827.0</td>\n",
              "    </tr>\n",
              "    <tr>\n",
              "      <th>Western</th>\n",
              "      <td>8247627</td>\n",
              "      <td>89302115</td>\n",
              "      <td>5.128735e+07</td>\n",
              "      <td>56932305.0</td>\n",
              "    </tr>\n",
              "  </tbody>\n",
              "</table>\n",
              "</div>\n",
              "      <button class=\"colab-df-convert\" onclick=\"convertToInteractive('df-e441a542-e3dd-4400-afa4-67e7cf441187')\"\n",
              "              title=\"Convert this dataframe to an interactive table.\"\n",
              "              style=\"display:none;\">\n",
              "        \n",
              "  <svg xmlns=\"http://www.w3.org/2000/svg\" height=\"24px\"viewBox=\"0 0 24 24\"\n",
              "       width=\"24px\">\n",
              "    <path d=\"M0 0h24v24H0V0z\" fill=\"none\"/>\n",
              "    <path d=\"M18.56 5.44l.94 2.06.94-2.06 2.06-.94-2.06-.94-.94-2.06-.94 2.06-2.06.94zm-11 1L8.5 8.5l.94-2.06 2.06-.94-2.06-.94L8.5 2.5l-.94 2.06-2.06.94zm10 10l.94 2.06.94-2.06 2.06-.94-2.06-.94-.94-2.06-.94 2.06-2.06.94z\"/><path d=\"M17.41 7.96l-1.37-1.37c-.4-.4-.92-.59-1.43-.59-.52 0-1.04.2-1.43.59L10.3 9.45l-7.72 7.72c-.78.78-.78 2.05 0 2.83L4 21.41c.39.39.9.59 1.41.59.51 0 1.02-.2 1.41-.59l7.78-7.78 2.81-2.81c.8-.78.8-2.07 0-2.86zM5.41 20L4 18.59l7.72-7.72 1.47 1.35L5.41 20z\"/>\n",
              "  </svg>\n",
              "      </button>\n",
              "      \n",
              "  <style>\n",
              "    .colab-df-container {\n",
              "      display:flex;\n",
              "      flex-wrap:wrap;\n",
              "      gap: 12px;\n",
              "    }\n",
              "\n",
              "    .colab-df-convert {\n",
              "      background-color: #E8F0FE;\n",
              "      border: none;\n",
              "      border-radius: 50%;\n",
              "      cursor: pointer;\n",
              "      display: none;\n",
              "      fill: #1967D2;\n",
              "      height: 32px;\n",
              "      padding: 0 0 0 0;\n",
              "      width: 32px;\n",
              "    }\n",
              "\n",
              "    .colab-df-convert:hover {\n",
              "      background-color: #E2EBFA;\n",
              "      box-shadow: 0px 1px 2px rgba(60, 64, 67, 0.3), 0px 1px 3px 1px rgba(60, 64, 67, 0.15);\n",
              "      fill: #174EA6;\n",
              "    }\n",
              "\n",
              "    [theme=dark] .colab-df-convert {\n",
              "      background-color: #3B4455;\n",
              "      fill: #D2E3FC;\n",
              "    }\n",
              "\n",
              "    [theme=dark] .colab-df-convert:hover {\n",
              "      background-color: #434B5C;\n",
              "      box-shadow: 0px 1px 3px 1px rgba(0, 0, 0, 0.15);\n",
              "      filter: drop-shadow(0px 1px 2px rgba(0, 0, 0, 0.3));\n",
              "      fill: #FFFFFF;\n",
              "    }\n",
              "  </style>\n",
              "\n",
              "      <script>\n",
              "        const buttonEl =\n",
              "          document.querySelector('#df-e441a542-e3dd-4400-afa4-67e7cf441187 button.colab-df-convert');\n",
              "        buttonEl.style.display =\n",
              "          google.colab.kernel.accessAllowed ? 'block' : 'none';\n",
              "\n",
              "        async function convertToInteractive(key) {\n",
              "          const element = document.querySelector('#df-e441a542-e3dd-4400-afa4-67e7cf441187');\n",
              "          const dataTable =\n",
              "            await google.colab.kernel.invokeFunction('convertToInteractive',\n",
              "                                                     [key], {});\n",
              "          if (!dataTable) return;\n",
              "\n",
              "          const docLinkHtml = 'Like what you see? Visit the ' +\n",
              "            '<a target=\"_blank\" href=https://colab.research.google.com/notebooks/data_table.ipynb>data table notebook</a>'\n",
              "            + ' to learn more about interactive tables.';\n",
              "          element.innerHTML = '';\n",
              "          dataTable['output_type'] = 'display_data';\n",
              "          await google.colab.output.renderOutput(dataTable, element);\n",
              "          const docLink = document.createElement('div');\n",
              "          docLink.innerHTML = docLinkHtml;\n",
              "          element.appendChild(docLink);\n",
              "        }\n",
              "      </script>\n",
              "    </div>\n",
              "  </div>\n",
              "  "
            ]
          },
          "metadata": {},
          "execution_count": 59
        }
      ],
      "source": [
        "bilheteria_bruta_genero = dados.groupby('genero')['bilheteria_bruta'].agg([np.min, np.max, np.mean, np.median])\n",
        "bilheteria_bruta_genero"
      ]
    },
    {
      "cell_type": "markdown",
      "id": "3fdc9959",
      "metadata": {
        "id": "3fdc9959"
      },
      "source": [
        "24 - Para cada genero de filme, agregue bilheteria_bruta e bilheteria_ajustada_inflacao: obtenha o minimo, maximo, média e mediana"
      ]
    },
    {
      "cell_type": "code",
      "execution_count": 62,
      "id": "1fb8b150",
      "metadata": {
        "id": "1fb8b150",
        "colab": {
          "base_uri": "https://localhost:8080/",
          "height": 488
        },
        "outputId": "2b5cf383-c6cd-45ac-86f8-1e82e6194897"
      },
      "outputs": [
        {
          "output_type": "execute_result",
          "data": {
            "text/plain": [
              "                    bilheteria_bruta                                       \\\n",
              "                                amin       amax          mean      median   \n",
              "genero                                                                      \n",
              "Action                             0  623279547  1.046141e+08  43315244.5   \n",
              "Adventure                       2815  936662225  1.270471e+08  65000000.0   \n",
              "Black Comedy                17105219   52353636  3.251440e+07  28084357.0   \n",
              "Comedy                         45779  244082982  4.461329e+07  26923500.5   \n",
              "Concert/Performance         38174685   65281781  5.172823e+07  51728233.0   \n",
              "Documentary                    20521   32011576  1.129285e+07   9688331.0   \n",
              "Drama                              0  201151353  3.602608e+07  19730097.0   \n",
              "Horror                       4877567   26570463  1.451148e+07  13439137.5   \n",
              "Musical                      5632086  218951625  7.233026e+07  53041787.5   \n",
              "Romantic Comedy               468240  178406268  5.009595e+07  32680633.0   \n",
              "Thriller/Suspense            2154540  293506292  5.861694e+07  28153827.0   \n",
              "Western                      8247627   89302115  5.128735e+07  56932305.0   \n",
              "\n",
              "                    bilheteria_ajustada_inflacao                            \\\n",
              "                                            amin        amax          mean   \n",
              "genero                                                                       \n",
              "Action                                         0   660081224  1.374734e+08   \n",
              "Adventure                                   2984  2188229052  1.903974e+08   \n",
              "Black Comedy                            28392518    76758193  5.224349e+07   \n",
              "Comedy                                     82277  1362870985  8.466773e+07   \n",
              "Concert/Performance                     38174685    76646993  5.741084e+07   \n",
              "Documentary                                23064    35981010  1.271803e+07   \n",
              "Drama                                          0  1236035515  7.189302e+07   \n",
              "Horror                                   9907922    48546161  2.341385e+07   \n",
              "Musical                                 11468231  5228953251  6.035979e+08   \n",
              "Romantic Comedy                           907414   356389765  7.777708e+07   \n",
              "Thriller/Suspense                        3957025   485424724  8.965379e+07   \n",
              "Western                                 15983331   115781734  7.381571e+07   \n",
              "\n",
              "                                  \n",
              "                          median  \n",
              "genero                            \n",
              "Action                69012064.5  \n",
              "Adventure            102254492.0  \n",
              "Black Comedy          51579764.0  \n",
              "Comedy                51195217.0  \n",
              "Concert/Performance   57410839.0  \n",
              "Documentary           12344483.5  \n",
              "Drama                 39325794.0  \n",
              "Horror                18589709.5  \n",
              "Musical              103167587.5  \n",
              "Romantic Comedy       57925202.0  \n",
              "Thriller/Suspense     51804588.0  \n",
              "Western               89042541.0  "
            ],
            "text/html": [
              "\n",
              "  <div id=\"df-7c6e3463-56a9-4796-8c26-4452d0bd65f5\">\n",
              "    <div class=\"colab-df-container\">\n",
              "      <div>\n",
              "<style scoped>\n",
              "    .dataframe tbody tr th:only-of-type {\n",
              "        vertical-align: middle;\n",
              "    }\n",
              "\n",
              "    .dataframe tbody tr th {\n",
              "        vertical-align: top;\n",
              "    }\n",
              "\n",
              "    .dataframe thead tr th {\n",
              "        text-align: left;\n",
              "    }\n",
              "\n",
              "    .dataframe thead tr:last-of-type th {\n",
              "        text-align: right;\n",
              "    }\n",
              "</style>\n",
              "<table border=\"1\" class=\"dataframe\">\n",
              "  <thead>\n",
              "    <tr>\n",
              "      <th></th>\n",
              "      <th colspan=\"4\" halign=\"left\">bilheteria_bruta</th>\n",
              "      <th colspan=\"4\" halign=\"left\">bilheteria_ajustada_inflacao</th>\n",
              "    </tr>\n",
              "    <tr>\n",
              "      <th></th>\n",
              "      <th>amin</th>\n",
              "      <th>amax</th>\n",
              "      <th>mean</th>\n",
              "      <th>median</th>\n",
              "      <th>amin</th>\n",
              "      <th>amax</th>\n",
              "      <th>mean</th>\n",
              "      <th>median</th>\n",
              "    </tr>\n",
              "    <tr>\n",
              "      <th>genero</th>\n",
              "      <th></th>\n",
              "      <th></th>\n",
              "      <th></th>\n",
              "      <th></th>\n",
              "      <th></th>\n",
              "      <th></th>\n",
              "      <th></th>\n",
              "      <th></th>\n",
              "    </tr>\n",
              "  </thead>\n",
              "  <tbody>\n",
              "    <tr>\n",
              "      <th>Action</th>\n",
              "      <td>0</td>\n",
              "      <td>623279547</td>\n",
              "      <td>1.046141e+08</td>\n",
              "      <td>43315244.5</td>\n",
              "      <td>0</td>\n",
              "      <td>660081224</td>\n",
              "      <td>1.374734e+08</td>\n",
              "      <td>69012064.5</td>\n",
              "    </tr>\n",
              "    <tr>\n",
              "      <th>Adventure</th>\n",
              "      <td>2815</td>\n",
              "      <td>936662225</td>\n",
              "      <td>1.270471e+08</td>\n",
              "      <td>65000000.0</td>\n",
              "      <td>2984</td>\n",
              "      <td>2188229052</td>\n",
              "      <td>1.903974e+08</td>\n",
              "      <td>102254492.0</td>\n",
              "    </tr>\n",
              "    <tr>\n",
              "      <th>Black Comedy</th>\n",
              "      <td>17105219</td>\n",
              "      <td>52353636</td>\n",
              "      <td>3.251440e+07</td>\n",
              "      <td>28084357.0</td>\n",
              "      <td>28392518</td>\n",
              "      <td>76758193</td>\n",
              "      <td>5.224349e+07</td>\n",
              "      <td>51579764.0</td>\n",
              "    </tr>\n",
              "    <tr>\n",
              "      <th>Comedy</th>\n",
              "      <td>45779</td>\n",
              "      <td>244082982</td>\n",
              "      <td>4.461329e+07</td>\n",
              "      <td>26923500.5</td>\n",
              "      <td>82277</td>\n",
              "      <td>1362870985</td>\n",
              "      <td>8.466773e+07</td>\n",
              "      <td>51195217.0</td>\n",
              "    </tr>\n",
              "    <tr>\n",
              "      <th>Concert/Performance</th>\n",
              "      <td>38174685</td>\n",
              "      <td>65281781</td>\n",
              "      <td>5.172823e+07</td>\n",
              "      <td>51728233.0</td>\n",
              "      <td>38174685</td>\n",
              "      <td>76646993</td>\n",
              "      <td>5.741084e+07</td>\n",
              "      <td>57410839.0</td>\n",
              "    </tr>\n",
              "    <tr>\n",
              "      <th>Documentary</th>\n",
              "      <td>20521</td>\n",
              "      <td>32011576</td>\n",
              "      <td>1.129285e+07</td>\n",
              "      <td>9688331.0</td>\n",
              "      <td>23064</td>\n",
              "      <td>35981010</td>\n",
              "      <td>1.271803e+07</td>\n",
              "      <td>12344483.5</td>\n",
              "    </tr>\n",
              "    <tr>\n",
              "      <th>Drama</th>\n",
              "      <td>0</td>\n",
              "      <td>201151353</td>\n",
              "      <td>3.602608e+07</td>\n",
              "      <td>19730097.0</td>\n",
              "      <td>0</td>\n",
              "      <td>1236035515</td>\n",
              "      <td>7.189302e+07</td>\n",
              "      <td>39325794.0</td>\n",
              "    </tr>\n",
              "    <tr>\n",
              "      <th>Horror</th>\n",
              "      <td>4877567</td>\n",
              "      <td>26570463</td>\n",
              "      <td>1.451148e+07</td>\n",
              "      <td>13439137.5</td>\n",
              "      <td>9907922</td>\n",
              "      <td>48546161</td>\n",
              "      <td>2.341385e+07</td>\n",
              "      <td>18589709.5</td>\n",
              "    </tr>\n",
              "    <tr>\n",
              "      <th>Musical</th>\n",
              "      <td>5632086</td>\n",
              "      <td>218951625</td>\n",
              "      <td>7.233026e+07</td>\n",
              "      <td>53041787.5</td>\n",
              "      <td>11468231</td>\n",
              "      <td>5228953251</td>\n",
              "      <td>6.035979e+08</td>\n",
              "      <td>103167587.5</td>\n",
              "    </tr>\n",
              "    <tr>\n",
              "      <th>Romantic Comedy</th>\n",
              "      <td>468240</td>\n",
              "      <td>178406268</td>\n",
              "      <td>5.009595e+07</td>\n",
              "      <td>32680633.0</td>\n",
              "      <td>907414</td>\n",
              "      <td>356389765</td>\n",
              "      <td>7.777708e+07</td>\n",
              "      <td>57925202.0</td>\n",
              "    </tr>\n",
              "    <tr>\n",
              "      <th>Thriller/Suspense</th>\n",
              "      <td>2154540</td>\n",
              "      <td>293506292</td>\n",
              "      <td>5.861694e+07</td>\n",
              "      <td>28153827.0</td>\n",
              "      <td>3957025</td>\n",
              "      <td>485424724</td>\n",
              "      <td>8.965379e+07</td>\n",
              "      <td>51804588.0</td>\n",
              "    </tr>\n",
              "    <tr>\n",
              "      <th>Western</th>\n",
              "      <td>8247627</td>\n",
              "      <td>89302115</td>\n",
              "      <td>5.128735e+07</td>\n",
              "      <td>56932305.0</td>\n",
              "      <td>15983331</td>\n",
              "      <td>115781734</td>\n",
              "      <td>7.381571e+07</td>\n",
              "      <td>89042541.0</td>\n",
              "    </tr>\n",
              "  </tbody>\n",
              "</table>\n",
              "</div>\n",
              "      <button class=\"colab-df-convert\" onclick=\"convertToInteractive('df-7c6e3463-56a9-4796-8c26-4452d0bd65f5')\"\n",
              "              title=\"Convert this dataframe to an interactive table.\"\n",
              "              style=\"display:none;\">\n",
              "        \n",
              "  <svg xmlns=\"http://www.w3.org/2000/svg\" height=\"24px\"viewBox=\"0 0 24 24\"\n",
              "       width=\"24px\">\n",
              "    <path d=\"M0 0h24v24H0V0z\" fill=\"none\"/>\n",
              "    <path d=\"M18.56 5.44l.94 2.06.94-2.06 2.06-.94-2.06-.94-.94-2.06-.94 2.06-2.06.94zm-11 1L8.5 8.5l.94-2.06 2.06-.94-2.06-.94L8.5 2.5l-.94 2.06-2.06.94zm10 10l.94 2.06.94-2.06 2.06-.94-2.06-.94-.94-2.06-.94 2.06-2.06.94z\"/><path d=\"M17.41 7.96l-1.37-1.37c-.4-.4-.92-.59-1.43-.59-.52 0-1.04.2-1.43.59L10.3 9.45l-7.72 7.72c-.78.78-.78 2.05 0 2.83L4 21.41c.39.39.9.59 1.41.59.51 0 1.02-.2 1.41-.59l7.78-7.78 2.81-2.81c.8-.78.8-2.07 0-2.86zM5.41 20L4 18.59l7.72-7.72 1.47 1.35L5.41 20z\"/>\n",
              "  </svg>\n",
              "      </button>\n",
              "      \n",
              "  <style>\n",
              "    .colab-df-container {\n",
              "      display:flex;\n",
              "      flex-wrap:wrap;\n",
              "      gap: 12px;\n",
              "    }\n",
              "\n",
              "    .colab-df-convert {\n",
              "      background-color: #E8F0FE;\n",
              "      border: none;\n",
              "      border-radius: 50%;\n",
              "      cursor: pointer;\n",
              "      display: none;\n",
              "      fill: #1967D2;\n",
              "      height: 32px;\n",
              "      padding: 0 0 0 0;\n",
              "      width: 32px;\n",
              "    }\n",
              "\n",
              "    .colab-df-convert:hover {\n",
              "      background-color: #E2EBFA;\n",
              "      box-shadow: 0px 1px 2px rgba(60, 64, 67, 0.3), 0px 1px 3px 1px rgba(60, 64, 67, 0.15);\n",
              "      fill: #174EA6;\n",
              "    }\n",
              "\n",
              "    [theme=dark] .colab-df-convert {\n",
              "      background-color: #3B4455;\n",
              "      fill: #D2E3FC;\n",
              "    }\n",
              "\n",
              "    [theme=dark] .colab-df-convert:hover {\n",
              "      background-color: #434B5C;\n",
              "      box-shadow: 0px 1px 3px 1px rgba(0, 0, 0, 0.15);\n",
              "      filter: drop-shadow(0px 1px 2px rgba(0, 0, 0, 0.3));\n",
              "      fill: #FFFFFF;\n",
              "    }\n",
              "  </style>\n",
              "\n",
              "      <script>\n",
              "        const buttonEl =\n",
              "          document.querySelector('#df-7c6e3463-56a9-4796-8c26-4452d0bd65f5 button.colab-df-convert');\n",
              "        buttonEl.style.display =\n",
              "          google.colab.kernel.accessAllowed ? 'block' : 'none';\n",
              "\n",
              "        async function convertToInteractive(key) {\n",
              "          const element = document.querySelector('#df-7c6e3463-56a9-4796-8c26-4452d0bd65f5');\n",
              "          const dataTable =\n",
              "            await google.colab.kernel.invokeFunction('convertToInteractive',\n",
              "                                                     [key], {});\n",
              "          if (!dataTable) return;\n",
              "\n",
              "          const docLinkHtml = 'Like what you see? Visit the ' +\n",
              "            '<a target=\"_blank\" href=https://colab.research.google.com/notebooks/data_table.ipynb>data table notebook</a>'\n",
              "            + ' to learn more about interactive tables.';\n",
              "          element.innerHTML = '';\n",
              "          dataTable['output_type'] = 'display_data';\n",
              "          await google.colab.output.renderOutput(dataTable, element);\n",
              "          const docLink = document.createElement('div');\n",
              "          docLink.innerHTML = docLinkHtml;\n",
              "          element.appendChild(docLink);\n",
              "        }\n",
              "      </script>\n",
              "    </div>\n",
              "  </div>\n",
              "  "
            ]
          },
          "metadata": {},
          "execution_count": 62
        }
      ],
      "source": [
        "bilheteria_bruta_ajustada_genero = dados.groupby('genero')[['bilheteria_bruta','bilheteria_ajustada_inflacao']].agg([np.min, np.max, np.mean, np.median])\n",
        "bilheteria_bruta_ajustada_genero"
      ]
    },
    {
      "cell_type": "markdown",
      "id": "fbebf915",
      "metadata": {
        "id": "fbebf915"
      },
      "source": [
        "Está na hora de fazermos um pouco de gráficos. Não existe análise de dados sem visualização!!"
      ]
    },
    {
      "cell_type": "code",
      "execution_count": null,
      "id": "e5c18af4",
      "metadata": {
        "id": "e5c18af4"
      },
      "outputs": [],
      "source": []
    },
    {
      "cell_type": "markdown",
      "id": "cc1f85d1",
      "metadata": {
        "id": "cc1f85d1"
      },
      "source": []
    },
    {
      "cell_type": "code",
      "execution_count": 63,
      "id": "31d99f5a",
      "metadata": {
        "id": "31d99f5a"
      },
      "outputs": [],
      "source": [
        "import seaborn as sns\n"
      ]
    },
    {
      "cell_type": "markdown",
      "id": "0bdd6de2",
      "metadata": {
        "id": "0bdd6de2"
      },
      "source": [
        "25 - Some a bilheteria_bruta por genero"
      ]
    },
    {
      "cell_type": "code",
      "execution_count": 64,
      "id": "49d0c034",
      "metadata": {
        "id": "49d0c034"
      },
      "outputs": [],
      "source": [
        "soma_bilhetria_bruta_genero =dados.groupby('genero')['bilheteria_bruta'].sum()\n"
      ]
    },
    {
      "cell_type": "markdown",
      "id": "ce14137d",
      "metadata": {
        "id": "ce14137d"
      },
      "source": [
        "26 - Agora sim faça um gráfico de barras com o resultado anterior!"
      ]
    },
    {
      "cell_type": "code",
      "execution_count": 65,
      "id": "d07655f7",
      "metadata": {
        "id": "d07655f7",
        "colab": {
          "base_uri": "https://localhost:8080/",
          "height": 615
        },
        "outputId": "7810322a-1c48-41d6-d3e0-2ac801d4c15e"
      },
      "outputs": [
        {
          "output_type": "execute_result",
          "data": {
            "text/plain": [
              "<Axes: xlabel='genero'>"
            ]
          },
          "metadata": {},
          "execution_count": 65
        },
        {
          "output_type": "display_data",
          "data": {
            "text/plain": [
              "<Figure size 640x480 with 1 Axes>"
            ],
            "image/png": "[encoded data removed]"
          },
          "metadata": {}
        }
      ],
      "source": [
        "soma_bilhetria_bruta_genero.plot.bar()"
      ]
    },
    {
      "cell_type": "markdown",
      "id": "f4db205c",
      "metadata": {
        "id": "f4db205c"
      },
      "source": [
        "27 - Importe o seaborn com o apelido sns "
      ]
    },
    {
      "cell_type": "code",
      "execution_count": 66,
      "id": "c9bf4215",
      "metadata": {
        "id": "c9bf4215"
      },
      "outputs": [],
      "source": [
        "import seaborn as sns\n",
        "sns.set()"
      ]
    },
    {
      "cell_type": "markdown",
      "id": "2bda7f9f",
      "metadata": {
        "id": "2bda7f9f"
      },
      "source": [
        "28 -Faça um boxplot comparando a bilheteria_ajustada_inflacao dos filmes de ação e comédia\n"
      ]
    },
    {
      "cell_type": "code",
      "execution_count": 68,
      "id": "05cb1c96",
      "metadata": {
        "id": "05cb1c96",
        "colab": {
          "base_uri": "https://localhost:8080/",
          "height": 474
        },
        "outputId": "15fb12f4-da86-4a0f-f741-ee556207fb39"
      },
      "outputs": [
        {
          "output_type": "display_data",
          "data": {
            "text/plain": [
              "<Figure size 640x480 with 1 Axes>"
            ],
            "image/png": "[encoded data removed]"
          },
          "metadata": {}
        }
      ],
      "source": [
        "acao_bilheteria_comedia = dados[dados.genero.isin(['Action','Comedy'])]\n",
        "sns.boxplot(x=\"genero\",\n",
        "                y=\"bilheteria_ajustada_inflacao\",\n",
        "                data=acao_bilheteria_comedia);"
      ]
    },
    {
      "cell_type": "code",
      "execution_count": null,
      "id": "61e1f626",
      "metadata": {
        "id": "61e1f626"
      },
      "outputs": [],
      "source": []
    },
    {
      "cell_type": "code",
      "execution_count": null,
      "id": "c420ae3d",
      "metadata": {
        "id": "c420ae3d"
      },
      "outputs": [],
      "source": []
    }
  ],
  "metadata": {
    "hide_input": false,
    "kernelspec": {
      "display_name": "Python 3",
      "language": "python",
      "name": "python3"
    },
    "language_info": {
      "codemirror_mode": {
        "name": "ipython",
        "version": 3
      },
      "file_extension": ".py",
      "mimetype": "text/x-python",
      "name": "python",
      "nbconvert_exporter": "python",
      "pygments_lexer": "ipython3",
      "version": "3.8.8"
    },
    "colab": {
      "provenance": [],
      "include_colab_link": true
    }
  },
  "nbformat": 4,
  "nbformat_minor": 5
}