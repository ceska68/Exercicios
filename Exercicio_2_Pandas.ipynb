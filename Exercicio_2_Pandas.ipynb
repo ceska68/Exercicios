{
  "cells": [
    {
      "cell_type": "markdown",
      "metadata": {
        "id": "view-in-github",
        "colab_type": "text"
      },
      "source": [
        "<a href=\"https://colab.research.google.com/github/ceska68/Exercicios/blob/main/Exercicio_2_Pandas.ipynb\" target=\"_parent\"><img src=\"https://colab.research.google.com/assets/colab-badge.svg\" alt=\"Open In Colab\"/></a>"
      ]
    },
    {
      "cell_type": "markdown",
      "id": "4d0c8c0f",
      "metadata": {
        "id": "4d0c8c0f"
      },
      "source": [
        "Para entender melhor os objetos DataFrame, é útil saber que eles consistem em três componentes, armazenados como atributos:\n",
        "\n",
        "- .values: Uma matriz bidimensional de valores.\n",
        "- .columns: Um índice de colunas: os nomes das colunas.\n",
        "- .index: Um índice para as linhas: números de linha ou nomes de linha."
      ]
    },
    {
      "cell_type": "markdown",
      "id": "79d97d27",
      "metadata": {
        "id": "79d97d27"
      },
      "source": [
        "##### Exercício 1 - Importe o dataset walmart_vendas.csv e salve com o nome vendas"
      ]
    },
    {
      "cell_type": "code",
      "execution_count": 4,
      "id": "931a2e06",
      "metadata": {
        "id": "931a2e06"
      },
      "outputs": [],
      "source": [
        "import pandas as pd"
      ]
    },
    {
      "cell_type": "code",
      "execution_count": 5,
      "id": "efefd93e",
      "metadata": {
        "id": "efefd93e"
      },
      "outputs": [],
      "source": [
        "vendas = pd.read_csv('walmart_vendas.csv')"
      ]
    },
    {
      "cell_type": "markdown",
      "id": "644de564",
      "metadata": {
        "id": "644de564"
      },
      "source": [
        "##### Exercício 2 - Imprima as primeiras e as últimas linhas desse dataset"
      ]
    },
    {
      "cell_type": "code",
      "execution_count": 6,
      "id": "38511fb7",
      "metadata": {
        "colab": {
          "base_uri": "https://localhost:8080/"
        },
        "id": "38511fb7",
        "outputId": "53869a30-831c-44f6-ac8e-d38a816ff8fb"
      },
      "outputs": [
        {
          "output_type": "stream",
          "name": "stdout",
          "text": [
            "   Unnamed: 0  store type  department        date  weekly_sales  is_holiday  \\\n",
            "0           0      1    A           1  2010-02-05      24924.50       False   \n",
            "1           1      1    A           1  2010-03-05      21827.90       False   \n",
            "2           2      1    A           1  2010-04-02      57258.43       False   \n",
            "3           3      1    A           1  2010-05-07      17413.94       False   \n",
            "4           4      1    A           1  2010-06-04      17558.09       False   \n",
            "\n",
            "   temperature_c  fuel_price_usd_per_l  unemployment  \n",
            "0       5.727778              0.679451         8.106  \n",
            "1       8.055556              0.693452         8.106  \n",
            "2      16.816667              0.718284         7.808  \n",
            "3      22.527778              0.748928         7.808  \n",
            "4      27.050000              0.714586         7.808  \n"
          ]
        }
      ],
      "source": [
        "print(vendas.head())"
      ]
    },
    {
      "cell_type": "code",
      "execution_count": 7,
      "id": "5cb78c34",
      "metadata": {
        "colab": {
          "base_uri": "https://localhost:8080/"
        },
        "id": "5cb78c34",
        "outputId": "0074794f-9b9e-4abb-bcb7-12808a73cacb"
      },
      "outputs": [
        {
          "output_type": "stream",
          "name": "stdout",
          "text": [
            "       Unnamed: 0  store type  department        date  weekly_sales  \\\n",
            "10769       10769     39    A          99  2011-12-09        895.00   \n",
            "10770       10770     39    A          99  2012-02-03        350.00   \n",
            "10771       10771     39    A          99  2012-06-08        450.00   \n",
            "10772       10772     39    A          99  2012-07-13          0.06   \n",
            "10773       10773     39    A          99  2012-10-05        915.00   \n",
            "\n",
            "       is_holiday  temperature_c  fuel_price_usd_per_l  unemployment  \n",
            "10769       False       9.644444              0.834256         7.716  \n",
            "10770       False      15.938889              0.887619         7.244  \n",
            "10771       False      27.288889              0.911922         6.989  \n",
            "10772       False      25.644444              0.860145         6.623  \n",
            "10773       False      22.250000              0.955511         6.228  \n"
          ]
        }
      ],
      "source": [
        "print(vendas.tail())"
      ]
    },
    {
      "cell_type": "markdown",
      "id": "522f61d3",
      "metadata": {
        "id": "522f61d3"
      },
      "source": [
        "##### Exercício 3 - Elimine a coluna \" Unnamed: 0\""
      ]
    },
    {
      "cell_type": "code",
      "execution_count": 10,
      "id": "e3d301d7",
      "metadata": {
        "id": "e3d301d7"
      },
      "outputs": [],
      "source": [
        "vendas.drop(['Unnamed: 0'],axis =1, inplace = True)"
      ]
    },
    {
      "cell_type": "code",
      "execution_count": 11,
      "id": "ec785a56",
      "metadata": {
        "colab": {
          "base_uri": "https://localhost:8080/"
        },
        "id": "ec785a56",
        "outputId": "39d1c1d0-df7a-424a-f7fb-16b9f968ebac"
      },
      "outputs": [
        {
          "output_type": "stream",
          "name": "stdout",
          "text": [
            "   store type  department        date  weekly_sales  is_holiday  \\\n",
            "0      1    A           1  2010-02-05      24924.50       False   \n",
            "1      1    A           1  2010-03-05      21827.90       False   \n",
            "2      1    A           1  2010-04-02      57258.43       False   \n",
            "3      1    A           1  2010-05-07      17413.94       False   \n",
            "4      1    A           1  2010-06-04      17558.09       False   \n",
            "\n",
            "   temperature_c  fuel_price_usd_per_l  unemployment  \n",
            "0       5.727778              0.679451         8.106  \n",
            "1       8.055556              0.693452         8.106  \n",
            "2      16.816667              0.718284         7.808  \n",
            "3      22.527778              0.748928         7.808  \n",
            "4      27.050000              0.714586         7.808  \n"
          ]
        }
      ],
      "source": [
        "print(vendas.head())"
      ]
    },
    {
      "cell_type": "markdown",
      "id": "0e58ff2d",
      "metadata": {
        "id": "0e58ff2d"
      },
      "source": [
        "**Exercício 4 -Imprima os valores desse dataframe**"
      ]
    },
    {
      "cell_type": "code",
      "execution_count": 13,
      "id": "3213749e",
      "metadata": {
        "colab": {
          "base_uri": "https://localhost:8080/"
        },
        "id": "3213749e",
        "outputId": "bf235d5e-2645-4131-a4bc-1f0584cd7b49"
      },
      "outputs": [
        {
          "output_type": "stream",
          "name": "stdout",
          "text": [
            "[[1 'A' 1 ... 5.727777777777779 0.6794508388787476 8.106]\n",
            " [1 'A' 1 ... 8.055555555555555 0.693451964252221 8.106]\n",
            " [1 'A' 1 ... 16.81666666666667 0.718284148876872 7.808]\n",
            " ...\n",
            " [39 'A' 99 ... 27.28888888888889 0.911922354513778 6.989]\n",
            " [39 'A' 99 ... 25.64444444444444 0.8601446078496121 6.622999999999999]\n",
            " [39 'A' 99 ... 22.25 0.955510763695346 6.228]]\n"
          ]
        }
      ],
      "source": [
        "print(vendas.values)"
      ]
    },
    {
      "cell_type": "markdown",
      "id": "7804ace8",
      "metadata": {
        "id": "7804ace8"
      },
      "source": [
        "**Exercício 5 - Imprima as colunas desse dataframe**"
      ]
    },
    {
      "cell_type": "code",
      "execution_count": 14,
      "id": "6f0c5e3d",
      "metadata": {
        "colab": {
          "base_uri": "https://localhost:8080/"
        },
        "id": "6f0c5e3d",
        "outputId": "65dc6031-5e06-41ad-df9f-46183506d639"
      },
      "outputs": [
        {
          "output_type": "stream",
          "name": "stdout",
          "text": [
            "Index(['store', 'type', 'department', 'date', 'weekly_sales', 'is_holiday',\n",
            "       'temperature_c', 'fuel_price_usd_per_l', 'unemployment'],\n",
            "      dtype='object')\n"
          ]
        }
      ],
      "source": [
        "print(vendas.columns)"
      ]
    },
    {
      "cell_type": "markdown",
      "id": "abd0640e",
      "metadata": {
        "id": "abd0640e"
      },
      "source": [
        "**Exercício 6 - Imprima as linhas desse dataframe**"
      ]
    },
    {
      "cell_type": "code",
      "execution_count": 16,
      "id": "784c4d1c",
      "metadata": {
        "colab": {
          "base_uri": "https://localhost:8080/"
        },
        "id": "784c4d1c",
        "outputId": "77194087-7096-4430-fe31-03ff2957cbb7"
      },
      "outputs": [
        {
          "output_type": "stream",
          "name": "stdout",
          "text": [
            "RangeIndex(start=0, stop=10774, step=1)\n"
          ]
        }
      ],
      "source": [
        "print(vendas.index)"
      ]
    },
    {
      "cell_type": "markdown",
      "id": "9a1f7e36",
      "metadata": {
        "id": "9a1f7e36"
      },
      "source": [
        "**Exercício 7  - Crie um novo dataframe classificando-o em ordem crescente pela coluna *weekly_sales***"
      ]
    },
    {
      "cell_type": "code",
      "execution_count": 18,
      "id": "b8750560",
      "metadata": {
        "id": "b8750560"
      },
      "outputs": [],
      "source": [
        "vendas_ordem = vendas.sort_values(['weekly_sales'])"
      ]
    },
    {
      "cell_type": "markdown",
      "id": "558cfb52",
      "metadata": {
        "id": "558cfb52"
      },
      "source": [
        "**Exercício 8  - Veja as primeiras linhas desse novo dataframe:**"
      ]
    },
    {
      "cell_type": "code",
      "source": [
        "vendas_ordem.head()"
      ],
      "metadata": {
        "id": "i2skxcd5tb4v",
        "outputId": "2baba2ba-4b1e-4412-9258-47954c71639d",
        "colab": {
          "base_uri": "https://localhost:8080/",
          "height": 206
        }
      },
      "id": "i2skxcd5tb4v",
      "execution_count": 19,
      "outputs": [
        {
          "output_type": "execute_result",
          "data": {
            "text/plain": [
              "      store type  department        date  weekly_sales  is_holiday  \\\n",
              "1420      2    A          47  2010-07-30       -1098.0       False   \n",
              "1422      2    A          47  2010-10-15       -1098.0       False   \n",
              "4115     10    B          47  2010-10-15        -798.0       False   \n",
              "4110     10    B          47  2010-03-05        -798.0       False   \n",
              "517       1    A          47  2010-03-12        -698.0       False   \n",
              "\n",
              "      temperature_c  fuel_price_usd_per_l  unemployment  \n",
              "1420      28.605556              0.697415         8.099  \n",
              "1422      18.777778              0.718548         8.163  \n",
              "4115      24.155556              0.813650         9.003  \n",
              "4110      13.288889              0.760023         9.765  \n",
              "517       14.327778              0.704547         8.106  "
            ],
            "text/html": [
              "\n",
              "  <div id=\"df-6b49bf2a-1e26-4116-86f8-e6f16bf0293d\">\n",
              "    <div class=\"colab-df-container\">\n",
              "      <div>\n",
              "<style scoped>\n",
              "    .dataframe tbody tr th:only-of-type {\n",
              "        vertical-align: middle;\n",
              "    }\n",
              "\n",
              "    .dataframe tbody tr th {\n",
              "        vertical-align: top;\n",
              "    }\n",
              "\n",
              "    .dataframe thead th {\n",
              "        text-align: right;\n",
              "    }\n",
              "</style>\n",
              "<table border=\"1\" class=\"dataframe\">\n",
              "  <thead>\n",
              "    <tr style=\"text-align: right;\">\n",
              "      <th></th>\n",
              "      <th>store</th>\n",
              "      <th>type</th>\n",
              "      <th>department</th>\n",
              "      <th>date</th>\n",
              "      <th>weekly_sales</th>\n",
              "      <th>is_holiday</th>\n",
              "      <th>temperature_c</th>\n",
              "      <th>fuel_price_usd_per_l</th>\n",
              "      <th>unemployment</th>\n",
              "    </tr>\n",
              "  </thead>\n",
              "  <tbody>\n",
              "    <tr>\n",
              "      <th>1420</th>\n",
              "      <td>2</td>\n",
              "      <td>A</td>\n",
              "      <td>47</td>\n",
              "      <td>2010-07-30</td>\n",
              "      <td>-1098.0</td>\n",
              "      <td>False</td>\n",
              "      <td>28.605556</td>\n",
              "      <td>0.697415</td>\n",
              "      <td>8.099</td>\n",
              "    </tr>\n",
              "    <tr>\n",
              "      <th>1422</th>\n",
              "      <td>2</td>\n",
              "      <td>A</td>\n",
              "      <td>47</td>\n",
              "      <td>2010-10-15</td>\n",
              "      <td>-1098.0</td>\n",
              "      <td>False</td>\n",
              "      <td>18.777778</td>\n",
              "      <td>0.718548</td>\n",
              "      <td>8.163</td>\n",
              "    </tr>\n",
              "    <tr>\n",
              "      <th>4115</th>\n",
              "      <td>10</td>\n",
              "      <td>B</td>\n",
              "      <td>47</td>\n",
              "      <td>2010-10-15</td>\n",
              "      <td>-798.0</td>\n",
              "      <td>False</td>\n",
              "      <td>24.155556</td>\n",
              "      <td>0.813650</td>\n",
              "      <td>9.003</td>\n",
              "    </tr>\n",
              "    <tr>\n",
              "      <th>4110</th>\n",
              "      <td>10</td>\n",
              "      <td>B</td>\n",
              "      <td>47</td>\n",
              "      <td>2010-03-05</td>\n",
              "      <td>-798.0</td>\n",
              "      <td>False</td>\n",
              "      <td>13.288889</td>\n",
              "      <td>0.760023</td>\n",
              "      <td>9.765</td>\n",
              "    </tr>\n",
              "    <tr>\n",
              "      <th>517</th>\n",
              "      <td>1</td>\n",
              "      <td>A</td>\n",
              "      <td>47</td>\n",
              "      <td>2010-03-12</td>\n",
              "      <td>-698.0</td>\n",
              "      <td>False</td>\n",
              "      <td>14.327778</td>\n",
              "      <td>0.704547</td>\n",
              "      <td>8.106</td>\n",
              "    </tr>\n",
              "  </tbody>\n",
              "</table>\n",
              "</div>\n",
              "      <button class=\"colab-df-convert\" onclick=\"convertToInteractive('df-6b49bf2a-1e26-4116-86f8-e6f16bf0293d')\"\n",
              "              title=\"Convert this dataframe to an interactive table.\"\n",
              "              style=\"display:none;\">\n",
              "        \n",
              "  <svg xmlns=\"http://www.w3.org/2000/svg\" height=\"24px\"viewBox=\"0 0 24 24\"\n",
              "       width=\"24px\">\n",
              "    <path d=\"M0 0h24v24H0V0z\" fill=\"none\"/>\n",
              "    <path d=\"M18.56 5.44l.94 2.06.94-2.06 2.06-.94-2.06-.94-.94-2.06-.94 2.06-2.06.94zm-11 1L8.5 8.5l.94-2.06 2.06-.94-2.06-.94L8.5 2.5l-.94 2.06-2.06.94zm10 10l.94 2.06.94-2.06 2.06-.94-2.06-.94-.94-2.06-.94 2.06-2.06.94z\"/><path d=\"M17.41 7.96l-1.37-1.37c-.4-.4-.92-.59-1.43-.59-.52 0-1.04.2-1.43.59L10.3 9.45l-7.72 7.72c-.78.78-.78 2.05 0 2.83L4 21.41c.39.39.9.59 1.41.59.51 0 1.02-.2 1.41-.59l7.78-7.78 2.81-2.81c.8-.78.8-2.07 0-2.86zM5.41 20L4 18.59l7.72-7.72 1.47 1.35L5.41 20z\"/>\n",
              "  </svg>\n",
              "      </button>\n",
              "      \n",
              "  <style>\n",
              "    .colab-df-container {\n",
              "      display:flex;\n",
              "      flex-wrap:wrap;\n",
              "      gap: 12px;\n",
              "    }\n",
              "\n",
              "    .colab-df-convert {\n",
              "      background-color: #E8F0FE;\n",
              "      border: none;\n",
              "      border-radius: 50%;\n",
              "      cursor: pointer;\n",
              "      display: none;\n",
              "      fill: #1967D2;\n",
              "      height: 32px;\n",
              "      padding: 0 0 0 0;\n",
              "      width: 32px;\n",
              "    }\n",
              "\n",
              "    .colab-df-convert:hover {\n",
              "      background-color: #E2EBFA;\n",
              "      box-shadow: 0px 1px 2px rgba(60, 64, 67, 0.3), 0px 1px 3px 1px rgba(60, 64, 67, 0.15);\n",
              "      fill: #174EA6;\n",
              "    }\n",
              "\n",
              "    [theme=dark] .colab-df-convert {\n",
              "      background-color: #3B4455;\n",
              "      fill: #D2E3FC;\n",
              "    }\n",
              "\n",
              "    [theme=dark] .colab-df-convert:hover {\n",
              "      background-color: #434B5C;\n",
              "      box-shadow: 0px 1px 3px 1px rgba(0, 0, 0, 0.15);\n",
              "      filter: drop-shadow(0px 1px 2px rgba(0, 0, 0, 0.3));\n",
              "      fill: #FFFFFF;\n",
              "    }\n",
              "  </style>\n",
              "\n",
              "      <script>\n",
              "        const buttonEl =\n",
              "          document.querySelector('#df-6b49bf2a-1e26-4116-86f8-e6f16bf0293d button.colab-df-convert');\n",
              "        buttonEl.style.display =\n",
              "          google.colab.kernel.accessAllowed ? 'block' : 'none';\n",
              "\n",
              "        async function convertToInteractive(key) {\n",
              "          const element = document.querySelector('#df-6b49bf2a-1e26-4116-86f8-e6f16bf0293d');\n",
              "          const dataTable =\n",
              "            await google.colab.kernel.invokeFunction('convertToInteractive',\n",
              "                                                     [key], {});\n",
              "          if (!dataTable) return;\n",
              "\n",
              "          const docLinkHtml = 'Like what you see? Visit the ' +\n",
              "            '<a target=\"_blank\" href=https://colab.research.google.com/notebooks/data_table.ipynb>data table notebook</a>'\n",
              "            + ' to learn more about interactive tables.';\n",
              "          element.innerHTML = '';\n",
              "          dataTable['output_type'] = 'display_data';\n",
              "          await google.colab.output.renderOutput(dataTable, element);\n",
              "          const docLink = document.createElement('div');\n",
              "          docLink.innerHTML = docLinkHtml;\n",
              "          element.appendChild(docLink);\n",
              "        }\n",
              "      </script>\n",
              "    </div>\n",
              "  </div>\n",
              "  "
            ]
          },
          "metadata": {},
          "execution_count": 19
        }
      ]
    },
    {
      "cell_type": "markdown",
      "id": "04a6d9f7",
      "metadata": {
        "id": "04a6d9f7"
      },
      "source": [
        "**Exercício 9 - Ordene o dataframe original pela coluna *temperature_c* em ordem decrescente e imprima as primeiras linhas**"
      ]
    },
    {
      "cell_type": "code",
      "execution_count": 20,
      "id": "e74c8907",
      "metadata": {
        "colab": {
          "base_uri": "https://localhost:8080/"
        },
        "id": "e74c8907",
        "outputId": "a05edf9c-7f8c-49df-b6f6-72b3ff9ce4dd"
      },
      "outputs": [
        {
          "output_type": "stream",
          "name": "stdout",
          "text": [
            "      store type  department        date  weekly_sales  is_holiday  \\\n",
            "3754     10    B          14  2010-07-02      36506.15       False   \n",
            "4380     10    B          87  2010-07-02      20296.90       False   \n",
            "4356     10    B          83  2010-07-02        268.16       False   \n",
            "4344     10    B          82  2010-07-02      21579.29       False   \n",
            "4332     10    B          81  2010-07-02      11684.87       False   \n",
            "\n",
            "      temperature_c  fuel_price_usd_per_l  unemployment  \n",
            "3754      33.827778              0.786705         9.199  \n",
            "4380      33.827778              0.786705         9.199  \n",
            "4356      33.827778              0.786705         9.199  \n",
            "4344      33.827778              0.786705         9.199  \n",
            "4332      33.827778              0.786705         9.199  \n"
          ]
        }
      ],
      "source": [
        "vendas_temp_desc = vendas.sort_values(['temperature_c'], ascending = False)\n",
        "print(vendas_temp_desc.head())"
      ]
    },
    {
      "cell_type": "markdown",
      "id": "0ad84c6e",
      "metadata": {
        "id": "0ad84c6e"
      },
      "source": [
        "**Exercício 10 -Selecione somente a  coluna *unemployment* salve com o nome subdf e veja as primeiras linhas**\n"
      ]
    },
    {
      "cell_type": "code",
      "execution_count": 24,
      "id": "fa6952bc",
      "metadata": {
        "colab": {
          "base_uri": "https://localhost:8080/"
        },
        "id": "fa6952bc",
        "outputId": "025f2ada-25d5-405d-c5f8-eb1aa00e1688"
      },
      "outputs": [
        {
          "output_type": "execute_result",
          "data": {
            "text/plain": [
              "0    8.106\n",
              "1    8.106\n",
              "2    7.808\n",
              "3    7.808\n",
              "4    7.808\n",
              "Name: unemployment, dtype: float64"
            ]
          },
          "metadata": {},
          "execution_count": 24
        }
      ],
      "source": [
        "subdf = vendas['unemployment']\n",
        "\n",
        "subdf.head()"
      ]
    },
    {
      "cell_type": "markdown",
      "id": "3f8c20a5",
      "metadata": {
        "id": "3f8c20a5"
      },
      "source": [
        "**Exercício 11 -  Filtre por linhas os valores de weekly_sales forem maiores que 20000 e chame de weekly_sales_20k e imprima as primeiras linhas**  "
      ]
    },
    {
      "cell_type": "code",
      "execution_count": 25,
      "id": "24e54bba",
      "metadata": {
        "id": "24e54bba"
      },
      "outputs": [],
      "source": [
        "weekly_sales_20k = vendas [vendas ['weekly_sales']> 20000]"
      ]
    },
    {
      "cell_type": "code",
      "execution_count": 26,
      "id": "ef4e9706",
      "metadata": {
        "colab": {
          "base_uri": "https://localhost:8080/"
        },
        "id": "ef4e9706",
        "outputId": "82c705bf-ab40-43f8-cc68-4796f8200f4d"
      },
      "outputs": [
        {
          "output_type": "stream",
          "name": "stdout",
          "text": [
            "   store type  department        date  weekly_sales  is_holiday  \\\n",
            "0      1    A           1  2010-02-05      24924.50       False   \n",
            "1      1    A           1  2010-03-05      21827.90       False   \n",
            "2      1    A           1  2010-04-02      57258.43       False   \n",
            "8      1    A           1  2010-10-01      20094.19       False   \n",
            "9      1    A           1  2010-11-05      34238.88       False   \n",
            "\n",
            "   temperature_c  fuel_price_usd_per_l  unemployment  \n",
            "0       5.727778              0.679451         8.106  \n",
            "1       8.055556              0.693452         8.106  \n",
            "2      16.816667              0.718284         7.808  \n",
            "8      22.161111              0.687640         7.838  \n",
            "9      14.855556              0.710359         7.838  \n"
          ]
        }
      ],
      "source": [
        "print(weekly_sales_20k.head())"
      ]
    }
  ],
  "metadata": {
    "kernelspec": {
      "display_name": "Python 3",
      "language": "python",
      "name": "python3"
    },
    "language_info": {
      "codemirror_mode": {
        "name": "ipython",
        "version": 3
      },
      "file_extension": ".py",
      "mimetype": "text/x-python",
      "name": "python",
      "nbconvert_exporter": "python",
      "pygments_lexer": "ipython3",
      "version": "3.8.8"
    },
    "colab": {
      "provenance": [],
      "include_colab_link": true
    }
  },
  "nbformat": 4,
  "nbformat_minor": 5
}