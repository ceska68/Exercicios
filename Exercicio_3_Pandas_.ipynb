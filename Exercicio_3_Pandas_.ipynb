{
  "cells": [
    {
      "cell_type": "markdown",
      "metadata": {
        "id": "view-in-github",
        "colab_type": "text"
      },
      "source": [
        "<a href=\"https://colab.research.google.com/github/ceska68/Exercicios/blob/main/Exercicio_3_Pandas_.ipynb\" target=\"_parent\"><img src=\"https://colab.research.google.com/assets/colab-badge.svg\" alt=\"Open In Colab\"/></a>"
      ]
    },
    {
      "cell_type": "markdown",
      "id": "ab344dc5",
      "metadata": {
        "id": "ab344dc5"
      },
      "source": [
        "###### Os dados desse exercício fazem parte de um conjunto de dados sobre pessoas sem moradia em estados dos EUA.\n"
      ]
    },
    {
      "cell_type": "markdown",
      "id": "7b679460",
      "metadata": {
        "id": "7b679460"
      },
      "source": [
        "##### Exercício 1 - Importe o dataset dados.csv e salve com o nome df\n"
      ]
    },
    {
      "cell_type": "code",
      "execution_count": 2,
      "id": "bee7c268",
      "metadata": {
        "id": "bee7c268"
      },
      "outputs": [],
      "source": [
        "import pandas as pd"
      ]
    },
    {
      "cell_type": "code",
      "execution_count": null,
      "id": "49d50654",
      "metadata": {
        "id": "49d50654"
      },
      "outputs": [],
      "source": []
    },
    {
      "cell_type": "markdown",
      "id": "a4cbd331",
      "metadata": {
        "id": "a4cbd331"
      },
      "source": [
        "##### Exercício 2 - Imprima as primeiras e as últimas linhas desse dataset"
      ]
    },
    {
      "cell_type": "code",
      "execution_count": null,
      "id": "6d5f13d4",
      "metadata": {
        "id": "6d5f13d4"
      },
      "outputs": [],
      "source": []
    },
    {
      "cell_type": "markdown",
      "id": "0e164d60",
      "metadata": {
        "id": "0e164d60"
      },
      "source": [
        "Observação: A coluna individuos refere-se a pessoas sem moradia."
      ]
    },
    {
      "cell_type": "markdown",
      "id": "4ac4a931",
      "metadata": {
        "id": "4ac4a931"
      },
      "source": [
        "##### Exercício 3 - Elimine a coluna \" Unnamed: 0\""
      ]
    },
    {
      "cell_type": "code",
      "execution_count": null,
      "id": "518d4a46",
      "metadata": {
        "id": "518d4a46"
      },
      "outputs": [],
      "source": []
    },
    {
      "cell_type": "code",
      "execution_count": null,
      "id": "0c4f7c24",
      "metadata": {
        "id": "0c4f7c24"
      },
      "outputs": [],
      "source": []
    },
    {
      "cell_type": "markdown",
      "id": "2665dfb8",
      "metadata": {
        "id": "2665dfb8"
      },
      "source": [
        "**Exercício 4 - Crie uma nova coluna chamada total que é a soma das colunas  individuos e membros_da_familia**"
      ]
    },
    {
      "cell_type": "code",
      "execution_count": null,
      "id": "145fc359",
      "metadata": {
        "id": "145fc359"
      },
      "outputs": [],
      "source": []
    },
    {
      "cell_type": "markdown",
      "id": "2d73fd3f",
      "metadata": {
        "id": "2d73fd3f"
      },
      "source": [
        "**Exercício 5 - Crie a coluna prop_individuos como uma  proporção de indivíduos em relação a coluna total que você criou anteriormente**"
      ]
    },
    {
      "cell_type": "code",
      "execution_count": null,
      "id": "8214e202",
      "metadata": {
        "id": "8214e202"
      },
      "outputs": [],
      "source": []
    },
    {
      "cell_type": "markdown",
      "id": "219e0eb2",
      "metadata": {
        "id": "219e0eb2"
      },
      "source": [
        "**Exercício 6 - Imprima as primeiras linhas das colunas *individuos*, *total* e *prop_individuos***"
      ]
    },
    {
      "cell_type": "code",
      "execution_count": null,
      "id": "a2ac8ab3",
      "metadata": {
        "id": "a2ac8ab3"
      },
      "outputs": [],
      "source": []
    },
    {
      "cell_type": "markdown",
      "id": "b157a53c",
      "metadata": {
        "id": "b157a53c"
      },
      "source": [
        "**Exercício 7  - Qual estado tem o maior número de pessoas sem moradia por 10.000 pessoas ?**\n",
        "\n",
        "Para responder siga os passos:\n",
        "\n",
        "\n",
        "- Crie uma coluna, chamada indiv_por_10k, contendo o número de pessoas sem-teto(individuos) por dez mil pessoas em cada estado.\n",
        "\n",
        "Fórmula = 10000 * df['individuos'] / df['populacao_do_estado']\n",
        "\n",
        "- Depois filtre as linhas tais que indiv_por_10k seja  maior que 20\n",
        "- Classifique os altos níveis de falta de moradia ordenando os dados em ordem decrescente pela coluna indiv_per_10k\n",
        "- selecione as colunas estado e indiv_por_10k e imprima o rsultado"
      ]
    },
    {
      "cell_type": "code",
      "execution_count": null,
      "id": "0750fba8",
      "metadata": {
        "id": "0750fba8"
      },
      "outputs": [],
      "source": []
    },
    {
      "cell_type": "code",
      "execution_count": null,
      "id": "68315cc1",
      "metadata": {
        "id": "68315cc1"
      },
      "outputs": [],
      "source": []
    },
    {
      "cell_type": "code",
      "execution_count": null,
      "id": "b8c4d225",
      "metadata": {
        "id": "b8c4d225"
      },
      "outputs": [],
      "source": []
    },
    {
      "cell_type": "code",
      "execution_count": null,
      "id": "1983e95c",
      "metadata": {
        "id": "1983e95c"
      },
      "outputs": [],
      "source": []
    },
    {
      "cell_type": "code",
      "execution_count": null,
      "id": "f8fb2ba1",
      "metadata": {
        "id": "f8fb2ba1"
      },
      "outputs": [],
      "source": []
    },
    {
      "cell_type": "code",
      "execution_count": null,
      "id": "59b4e336",
      "metadata": {
        "id": "59b4e336"
      },
      "outputs": [],
      "source": []
    }
  ],
  "metadata": {
    "kernelspec": {
      "display_name": "Python 3",
      "language": "python",
      "name": "python3"
    },
    "language_info": {
      "codemirror_mode": {
        "name": "ipython",
        "version": 3
      },
      "file_extension": ".py",
      "mimetype": "text/x-python",
      "name": "python",
      "nbconvert_exporter": "python",
      "pygments_lexer": "ipython3",
      "version": "3.8.8"
    },
    "colab": {
      "provenance": [],
      "include_colab_link": true
    }
  },
  "nbformat": 4,
  "nbformat_minor": 5
}