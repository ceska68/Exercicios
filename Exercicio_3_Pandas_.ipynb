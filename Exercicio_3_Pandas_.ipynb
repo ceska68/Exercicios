{
  "cells": [
    {
      "cell_type": "markdown",
      "metadata": {
        "id": "view-in-github",
        "colab_type": "text"
      },
      "source": [
        "<a href=\"https://colab.research.google.com/github/ceska68/Exercicios/blob/main/Exercicio_3_Pandas_.ipynb\" target=\"_parent\"><img src=\"https://colab.research.google.com/assets/colab-badge.svg\" alt=\"Open In Colab\"/></a>"
      ]
    },
    {
      "cell_type": "markdown",
      "id": "ab344dc5",
      "metadata": {
        "id": "ab344dc5"
      },
      "source": [
        "###### Os dados desse exercício fazem parte de um conjunto de dados sobre pessoas sem moradia em estados dos EUA.\n"
      ]
    },
    {
      "cell_type": "markdown",
      "id": "7b679460",
      "metadata": {
        "id": "7b679460"
      },
      "source": [
        "##### Exercício 1 - Importe o dataset dados.csv e salve com o nome df\n"
      ]
    },
    {
      "cell_type": "code",
      "execution_count": 2,
      "id": "bee7c268",
      "metadata": {
        "id": "bee7c268"
      },
      "outputs": [],
      "source": [
        "import pandas as pd"
      ]
    },
    {
      "cell_type": "code",
      "execution_count": 3,
      "id": "49d50654",
      "metadata": {
        "id": "49d50654"
      },
      "outputs": [],
      "source": [
        "df = pd.read_csv('dados.csv')"
      ]
    },
    {
      "cell_type": "markdown",
      "id": "a4cbd331",
      "metadata": {
        "id": "a4cbd331"
      },
      "source": [
        "##### Exercício 2 - Imprima as primeiras e as últimas linhas desse dataset"
      ]
    },
    {
      "cell_type": "code",
      "execution_count": 4,
      "id": "6d5f13d4",
      "metadata": {
        "id": "6d5f13d4",
        "colab": {
          "base_uri": "https://localhost:8080/"
        },
        "outputId": "d81149ad-564f-4a85-b5c9-60453750a306"
      },
      "outputs": [
        {
          "output_type": "stream",
          "name": "stdout",
          "text": [
            "   Unnamed: 0              regiao      estado  individuos  membros_da_familia  \\\n",
            "0           0  East South Central     Alabama      2570.0               864.0   \n",
            "1           1             Pacific      Alaska      1434.0               582.0   \n",
            "2           2            Mountain     Arizona      7259.0              2606.0   \n",
            "3           3  West South Central    Arkansas      2280.0               432.0   \n",
            "4           4             Pacific  California    109008.0             20964.0   \n",
            "\n",
            "   populacao_do_estado  \n",
            "0              4887681  \n",
            "1               735139  \n",
            "2              7158024  \n",
            "3              3009733  \n",
            "4             39461588  \n"
          ]
        }
      ],
      "source": [
        "print (df.head())"
      ]
    },
    {
      "cell_type": "code",
      "source": [
        "print (df.tail())"
      ],
      "metadata": {
        "id": "zIKOGmq84TyV",
        "outputId": "7faafc36-04ae-42cc-e4c4-9f3893d99aaa",
        "colab": {
          "base_uri": "https://localhost:8080/"
        }
      },
      "id": "zIKOGmq84TyV",
      "execution_count": 5,
      "outputs": [
        {
          "output_type": "stream",
          "name": "stdout",
          "text": [
            "    Unnamed: 0              regiao         estado  individuos  \\\n",
            "46          46      South Atlantic       Virginia      3928.0   \n",
            "47          47             Pacific     Washington     16424.0   \n",
            "48          48      South Atlantic  West Virginia      1021.0   \n",
            "49          49  East North Central      Wisconsin      2740.0   \n",
            "50          50            Mountain        Wyoming       434.0   \n",
            "\n",
            "    membros_da_familia  populacao_do_estado  \n",
            "46              2047.0              8501286  \n",
            "47              5880.0              7523869  \n",
            "48               222.0              1804291  \n",
            "49              2167.0              5807406  \n",
            "50               205.0               577601  \n"
          ]
        }
      ]
    },
    {
      "cell_type": "markdown",
      "id": "0e164d60",
      "metadata": {
        "id": "0e164d60"
      },
      "source": [
        "Observação: A coluna individuos refere-se a pessoas sem moradia."
      ]
    },
    {
      "cell_type": "markdown",
      "id": "4ac4a931",
      "metadata": {
        "id": "4ac4a931"
      },
      "source": [
        "##### Exercício 3 - Elimine a coluna \" Unnamed: 0\""
      ]
    },
    {
      "cell_type": "code",
      "execution_count": 7,
      "id": "518d4a46",
      "metadata": {
        "id": "518d4a46"
      },
      "outputs": [],
      "source": [
        "df.drop(['Unnamed: 0'], axis = 1, inplace = True)"
      ]
    },
    {
      "cell_type": "code",
      "execution_count": 8,
      "id": "0c4f7c24",
      "metadata": {
        "id": "0c4f7c24",
        "colab": {
          "base_uri": "https://localhost:8080/",
          "height": 206
        },
        "outputId": "839bfd38-83b2-439a-bcef-0a41840e91b7"
      },
      "outputs": [
        {
          "output_type": "execute_result",
          "data": {
            "text/plain": [
              "               regiao      estado  individuos  membros_da_familia  \\\n",
              "0  East South Central     Alabama      2570.0               864.0   \n",
              "1             Pacific      Alaska      1434.0               582.0   \n",
              "2            Mountain     Arizona      7259.0              2606.0   \n",
              "3  West South Central    Arkansas      2280.0               432.0   \n",
              "4             Pacific  California    109008.0             20964.0   \n",
              "\n",
              "   populacao_do_estado  \n",
              "0              4887681  \n",
              "1               735139  \n",
              "2              7158024  \n",
              "3              3009733  \n",
              "4             39461588  "
            ],
            "text/html": [
              "\n",
              "  <div id=\"df-1237bdc1-2cc0-42f4-a6e1-8b2da5c7c335\">\n",
              "    <div class=\"colab-df-container\">\n",
              "      <div>\n",
              "<style scoped>\n",
              "    .dataframe tbody tr th:only-of-type {\n",
              "        vertical-align: middle;\n",
              "    }\n",
              "\n",
              "    .dataframe tbody tr th {\n",
              "        vertical-align: top;\n",
              "    }\n",
              "\n",
              "    .dataframe thead th {\n",
              "        text-align: right;\n",
              "    }\n",
              "</style>\n",
              "<table border=\"1\" class=\"dataframe\">\n",
              "  <thead>\n",
              "    <tr style=\"text-align: right;\">\n",
              "      <th></th>\n",
              "      <th>regiao</th>\n",
              "      <th>estado</th>\n",
              "      <th>individuos</th>\n",
              "      <th>membros_da_familia</th>\n",
              "      <th>populacao_do_estado</th>\n",
              "    </tr>\n",
              "  </thead>\n",
              "  <tbody>\n",
              "    <tr>\n",
              "      <th>0</th>\n",
              "      <td>East South Central</td>\n",
              "      <td>Alabama</td>\n",
              "      <td>2570.0</td>\n",
              "      <td>864.0</td>\n",
              "      <td>4887681</td>\n",
              "    </tr>\n",
              "    <tr>\n",
              "      <th>1</th>\n",
              "      <td>Pacific</td>\n",
              "      <td>Alaska</td>\n",
              "      <td>1434.0</td>\n",
              "      <td>582.0</td>\n",
              "      <td>735139</td>\n",
              "    </tr>\n",
              "    <tr>\n",
              "      <th>2</th>\n",
              "      <td>Mountain</td>\n",
              "      <td>Arizona</td>\n",
              "      <td>7259.0</td>\n",
              "      <td>2606.0</td>\n",
              "      <td>7158024</td>\n",
              "    </tr>\n",
              "    <tr>\n",
              "      <th>3</th>\n",
              "      <td>West South Central</td>\n",
              "      <td>Arkansas</td>\n",
              "      <td>2280.0</td>\n",
              "      <td>432.0</td>\n",
              "      <td>3009733</td>\n",
              "    </tr>\n",
              "    <tr>\n",
              "      <th>4</th>\n",
              "      <td>Pacific</td>\n",
              "      <td>California</td>\n",
              "      <td>109008.0</td>\n",
              "      <td>20964.0</td>\n",
              "      <td>39461588</td>\n",
              "    </tr>\n",
              "  </tbody>\n",
              "</table>\n",
              "</div>\n",
              "      <button class=\"colab-df-convert\" onclick=\"convertToInteractive('df-1237bdc1-2cc0-42f4-a6e1-8b2da5c7c335')\"\n",
              "              title=\"Convert this dataframe to an interactive table.\"\n",
              "              style=\"display:none;\">\n",
              "        \n",
              "  <svg xmlns=\"http://www.w3.org/2000/svg\" height=\"24px\"viewBox=\"0 0 24 24\"\n",
              "       width=\"24px\">\n",
              "    <path d=\"M0 0h24v24H0V0z\" fill=\"none\"/>\n",
              "    <path d=\"M18.56 5.44l.94 2.06.94-2.06 2.06-.94-2.06-.94-.94-2.06-.94 2.06-2.06.94zm-11 1L8.5 8.5l.94-2.06 2.06-.94-2.06-.94L8.5 2.5l-.94 2.06-2.06.94zm10 10l.94 2.06.94-2.06 2.06-.94-2.06-.94-.94-2.06-.94 2.06-2.06.94z\"/><path d=\"M17.41 7.96l-1.37-1.37c-.4-.4-.92-.59-1.43-.59-.52 0-1.04.2-1.43.59L10.3 9.45l-7.72 7.72c-.78.78-.78 2.05 0 2.83L4 21.41c.39.39.9.59 1.41.59.51 0 1.02-.2 1.41-.59l7.78-7.78 2.81-2.81c.8-.78.8-2.07 0-2.86zM5.41 20L4 18.59l7.72-7.72 1.47 1.35L5.41 20z\"/>\n",
              "  </svg>\n",
              "      </button>\n",
              "      \n",
              "  <style>\n",
              "    .colab-df-container {\n",
              "      display:flex;\n",
              "      flex-wrap:wrap;\n",
              "      gap: 12px;\n",
              "    }\n",
              "\n",
              "    .colab-df-convert {\n",
              "      background-color: #E8F0FE;\n",
              "      border: none;\n",
              "      border-radius: 50%;\n",
              "      cursor: pointer;\n",
              "      display: none;\n",
              "      fill: #1967D2;\n",
              "      height: 32px;\n",
              "      padding: 0 0 0 0;\n",
              "      width: 32px;\n",
              "    }\n",
              "\n",
              "    .colab-df-convert:hover {\n",
              "      background-color: #E2EBFA;\n",
              "      box-shadow: 0px 1px 2px rgba(60, 64, 67, 0.3), 0px 1px 3px 1px rgba(60, 64, 67, 0.15);\n",
              "      fill: #174EA6;\n",
              "    }\n",
              "\n",
              "    [theme=dark] .colab-df-convert {\n",
              "      background-color: #3B4455;\n",
              "      fill: #D2E3FC;\n",
              "    }\n",
              "\n",
              "    [theme=dark] .colab-df-convert:hover {\n",
              "      background-color: #434B5C;\n",
              "      box-shadow: 0px 1px 3px 1px rgba(0, 0, 0, 0.15);\n",
              "      filter: drop-shadow(0px 1px 2px rgba(0, 0, 0, 0.3));\n",
              "      fill: #FFFFFF;\n",
              "    }\n",
              "  </style>\n",
              "\n",
              "      <script>\n",
              "        const buttonEl =\n",
              "          document.querySelector('#df-1237bdc1-2cc0-42f4-a6e1-8b2da5c7c335 button.colab-df-convert');\n",
              "        buttonEl.style.display =\n",
              "          google.colab.kernel.accessAllowed ? 'block' : 'none';\n",
              "\n",
              "        async function convertToInteractive(key) {\n",
              "          const element = document.querySelector('#df-1237bdc1-2cc0-42f4-a6e1-8b2da5c7c335');\n",
              "          const dataTable =\n",
              "            await google.colab.kernel.invokeFunction('convertToInteractive',\n",
              "                                                     [key], {});\n",
              "          if (!dataTable) return;\n",
              "\n",
              "          const docLinkHtml = 'Like what you see? Visit the ' +\n",
              "            '<a target=\"_blank\" href=https://colab.research.google.com/notebooks/data_table.ipynb>data table notebook</a>'\n",
              "            + ' to learn more about interactive tables.';\n",
              "          element.innerHTML = '';\n",
              "          dataTable['output_type'] = 'display_data';\n",
              "          await google.colab.output.renderOutput(dataTable, element);\n",
              "          const docLink = document.createElement('div');\n",
              "          docLink.innerHTML = docLinkHtml;\n",
              "          element.appendChild(docLink);\n",
              "        }\n",
              "      </script>\n",
              "    </div>\n",
              "  </div>\n",
              "  "
            ]
          },
          "metadata": {},
          "execution_count": 8
        }
      ],
      "source": [
        "df.head()"
      ]
    },
    {
      "cell_type": "markdown",
      "id": "2665dfb8",
      "metadata": {
        "id": "2665dfb8"
      },
      "source": [
        "**Exercício 4 - Crie uma nova coluna chamada total que é a soma das colunas  individuos e membros_da_familia**"
      ]
    },
    {
      "cell_type": "code",
      "execution_count": 10,
      "id": "145fc359",
      "metadata": {
        "id": "145fc359"
      },
      "outputs": [],
      "source": [
        "df['total'] = df['individuos'] + df['membros_da_familia']"
      ]
    },
    {
      "cell_type": "markdown",
      "id": "2d73fd3f",
      "metadata": {
        "id": "2d73fd3f"
      },
      "source": [
        "**Exercício 5 - Crie a coluna prop_individuos como uma  proporção de indivíduos em relação a coluna total que você criou anteriormente**"
      ]
    },
    {
      "cell_type": "code",
      "execution_count": 11,
      "id": "8214e202",
      "metadata": {
        "id": "8214e202"
      },
      "outputs": [],
      "source": [
        "df['prop_individuos'] = df['individuos'] / df['total']"
      ]
    },
    {
      "cell_type": "markdown",
      "id": "219e0eb2",
      "metadata": {
        "id": "219e0eb2"
      },
      "source": [
        "**Exercício 6 - Imprima as primeiras linhas das colunas *individuos*, *total* e *prop_individuos***"
      ]
    },
    {
      "cell_type": "code",
      "execution_count": 15,
      "id": "a2ac8ab3",
      "metadata": {
        "id": "a2ac8ab3",
        "colab": {
          "base_uri": "https://localhost:8080/"
        },
        "outputId": "fc8fa33b-0bee-4ec5-86b4-5ecf9e752aea"
      },
      "outputs": [
        {
          "output_type": "stream",
          "name": "stdout",
          "text": [
            "   individuos     total  prop_individuos\n",
            "0      2570.0    3434.0         0.748398\n",
            "1      1434.0    2016.0         0.711310\n",
            "2      7259.0    9865.0         0.735834\n",
            "3      2280.0    2712.0         0.840708\n",
            "4    109008.0  129972.0         0.838704\n"
          ]
        }
      ],
      "source": [
        "print(df[['individuos','total','prop_individuos']].head())"
      ]
    },
    {
      "cell_type": "markdown",
      "id": "b157a53c",
      "metadata": {
        "id": "b157a53c"
      },
      "source": [
        "**Exercício 7  - Qual estado tem o maior número de pessoas sem moradia por 10.000 pessoas ?**\n",
        "\n",
        "Para responder siga os passos:\n",
        "\n",
        "\n",
        "- Crie uma coluna, chamada indiv_por_10k, contendo o número de pessoas sem-teto(individuos) por dez mil pessoas em cada estado.\n",
        "\n",
        "Fórmula = 10000 * df['individuos'] / df['populacao_do_estado']\n",
        "\n",
        "- Depois filtre as linhas tais que indiv_por_10k seja  maior que 20\n",
        "- Classifique os altos níveis de falta de moradia ordenando os dados em ordem decrescente pela coluna indiv_per_10k\n",
        "- selecione as colunas estado e indiv_por_10k e imprima o rsultado"
      ]
    },
    {
      "cell_type": "code",
      "execution_count": 16,
      "id": "0750fba8",
      "metadata": {
        "id": "0750fba8"
      },
      "outputs": [],
      "source": [
        "df[\"indiv_por_10k\"] = 10000 * df['individuos'] / df['populacao_do_estado']"
      ]
    },
    {
      "cell_type": "code",
      "execution_count": 17,
      "id": "68315cc1",
      "metadata": {
        "id": "68315cc1",
        "colab": {
          "base_uri": "https://localhost:8080/"
        },
        "outputId": "81380922-5247-476b-aa20-3a68c7338b32"
      },
      "outputs": [
        {
          "output_type": "execute_result",
          "data": {
            "text/plain": [
              "0     5.258117\n",
              "1    19.506515\n",
              "2    10.141067\n",
              "3     7.575423\n",
              "4    27.623825\n",
              "Name: indiv_por_10k, dtype: float64"
            ]
          },
          "metadata": {},
          "execution_count": 17
        }
      ],
      "source": [
        "df[\"indiv_por_10k\"].head()"
      ]
    },
    {
      "cell_type": "code",
      "execution_count": 18,
      "id": "b8c4d225",
      "metadata": {
        "id": "b8c4d225"
      },
      "outputs": [],
      "source": [
        "df_maior_20 = df[df['indiv_por_10k']> 20]"
      ]
    },
    {
      "cell_type": "code",
      "execution_count": 19,
      "id": "1983e95c",
      "metadata": {
        "id": "1983e95c",
        "colab": {
          "base_uri": "https://localhost:8080/",
          "height": 206
        },
        "outputId": "62ddbc28-a549-42d6-c885-3d10fadafdd9"
      },
      "outputs": [
        {
          "output_type": "execute_result",
          "data": {
            "text/plain": [
              "            regiao                estado  individuos  membros_da_familia  \\\n",
              "4          Pacific            California    109008.0             20964.0   \n",
              "8   South Atlantic  District of Columbia      3770.0              3134.0   \n",
              "11         Pacific                Hawaii      4131.0              2399.0   \n",
              "28        Mountain                Nevada      7058.0               486.0   \n",
              "32    Mid-Atlantic              New York     39827.0             52070.0   \n",
              "\n",
              "    populacao_do_estado     Total     total  prop_individuos  indiv_por_10k  \n",
              "4              39461588  129972.0  129972.0         0.838704      27.623825  \n",
              "8                701547    6904.0    6904.0         0.546060      53.738381  \n",
              "11              1420593    6530.0    6530.0         0.632619      29.079406  \n",
              "28              3027341    7544.0    7544.0         0.935578      23.314189  \n",
              "32             19530351   91897.0   91897.0         0.433387      20.392363  "
            ],
            "text/html": [
              "\n",
              "  <div id=\"df-1aa6a9c6-7e3f-42a6-a890-e7ef17813e52\">\n",
              "    <div class=\"colab-df-container\">\n",
              "      <div>\n",
              "<style scoped>\n",
              "    .dataframe tbody tr th:only-of-type {\n",
              "        vertical-align: middle;\n",
              "    }\n",
              "\n",
              "    .dataframe tbody tr th {\n",
              "        vertical-align: top;\n",
              "    }\n",
              "\n",
              "    .dataframe thead th {\n",
              "        text-align: right;\n",
              "    }\n",
              "</style>\n",
              "<table border=\"1\" class=\"dataframe\">\n",
              "  <thead>\n",
              "    <tr style=\"text-align: right;\">\n",
              "      <th></th>\n",
              "      <th>regiao</th>\n",
              "      <th>estado</th>\n",
              "      <th>individuos</th>\n",
              "      <th>membros_da_familia</th>\n",
              "      <th>populacao_do_estado</th>\n",
              "      <th>Total</th>\n",
              "      <th>total</th>\n",
              "      <th>prop_individuos</th>\n",
              "      <th>indiv_por_10k</th>\n",
              "    </tr>\n",
              "  </thead>\n",
              "  <tbody>\n",
              "    <tr>\n",
              "      <th>4</th>\n",
              "      <td>Pacific</td>\n",
              "      <td>California</td>\n",
              "      <td>109008.0</td>\n",
              "      <td>20964.0</td>\n",
              "      <td>39461588</td>\n",
              "      <td>129972.0</td>\n",
              "      <td>129972.0</td>\n",
              "      <td>0.838704</td>\n",
              "      <td>27.623825</td>\n",
              "    </tr>\n",
              "    <tr>\n",
              "      <th>8</th>\n",
              "      <td>South Atlantic</td>\n",
              "      <td>District of Columbia</td>\n",
              "      <td>3770.0</td>\n",
              "      <td>3134.0</td>\n",
              "      <td>701547</td>\n",
              "      <td>6904.0</td>\n",
              "      <td>6904.0</td>\n",
              "      <td>0.546060</td>\n",
              "      <td>53.738381</td>\n",
              "    </tr>\n",
              "    <tr>\n",
              "      <th>11</th>\n",
              "      <td>Pacific</td>\n",
              "      <td>Hawaii</td>\n",
              "      <td>4131.0</td>\n",
              "      <td>2399.0</td>\n",
              "      <td>1420593</td>\n",
              "      <td>6530.0</td>\n",
              "      <td>6530.0</td>\n",
              "      <td>0.632619</td>\n",
              "      <td>29.079406</td>\n",
              "    </tr>\n",
              "    <tr>\n",
              "      <th>28</th>\n",
              "      <td>Mountain</td>\n",
              "      <td>Nevada</td>\n",
              "      <td>7058.0</td>\n",
              "      <td>486.0</td>\n",
              "      <td>3027341</td>\n",
              "      <td>7544.0</td>\n",
              "      <td>7544.0</td>\n",
              "      <td>0.935578</td>\n",
              "      <td>23.314189</td>\n",
              "    </tr>\n",
              "    <tr>\n",
              "      <th>32</th>\n",
              "      <td>Mid-Atlantic</td>\n",
              "      <td>New York</td>\n",
              "      <td>39827.0</td>\n",
              "      <td>52070.0</td>\n",
              "      <td>19530351</td>\n",
              "      <td>91897.0</td>\n",
              "      <td>91897.0</td>\n",
              "      <td>0.433387</td>\n",
              "      <td>20.392363</td>\n",
              "    </tr>\n",
              "  </tbody>\n",
              "</table>\n",
              "</div>\n",
              "      <button class=\"colab-df-convert\" onclick=\"convertToInteractive('df-1aa6a9c6-7e3f-42a6-a890-e7ef17813e52')\"\n",
              "              title=\"Convert this dataframe to an interactive table.\"\n",
              "              style=\"display:none;\">\n",
              "        \n",
              "  <svg xmlns=\"http://www.w3.org/2000/svg\" height=\"24px\"viewBox=\"0 0 24 24\"\n",
              "       width=\"24px\">\n",
              "    <path d=\"M0 0h24v24H0V0z\" fill=\"none\"/>\n",
              "    <path d=\"M18.56 5.44l.94 2.06.94-2.06 2.06-.94-2.06-.94-.94-2.06-.94 2.06-2.06.94zm-11 1L8.5 8.5l.94-2.06 2.06-.94-2.06-.94L8.5 2.5l-.94 2.06-2.06.94zm10 10l.94 2.06.94-2.06 2.06-.94-2.06-.94-.94-2.06-.94 2.06-2.06.94z\"/><path d=\"M17.41 7.96l-1.37-1.37c-.4-.4-.92-.59-1.43-.59-.52 0-1.04.2-1.43.59L10.3 9.45l-7.72 7.72c-.78.78-.78 2.05 0 2.83L4 21.41c.39.39.9.59 1.41.59.51 0 1.02-.2 1.41-.59l7.78-7.78 2.81-2.81c.8-.78.8-2.07 0-2.86zM5.41 20L4 18.59l7.72-7.72 1.47 1.35L5.41 20z\"/>\n",
              "  </svg>\n",
              "      </button>\n",
              "      \n",
              "  <style>\n",
              "    .colab-df-container {\n",
              "      display:flex;\n",
              "      flex-wrap:wrap;\n",
              "      gap: 12px;\n",
              "    }\n",
              "\n",
              "    .colab-df-convert {\n",
              "      background-color: #E8F0FE;\n",
              "      border: none;\n",
              "      border-radius: 50%;\n",
              "      cursor: pointer;\n",
              "      display: none;\n",
              "      fill: #1967D2;\n",
              "      height: 32px;\n",
              "      padding: 0 0 0 0;\n",
              "      width: 32px;\n",
              "    }\n",
              "\n",
              "    .colab-df-convert:hover {\n",
              "      background-color: #E2EBFA;\n",
              "      box-shadow: 0px 1px 2px rgba(60, 64, 67, 0.3), 0px 1px 3px 1px rgba(60, 64, 67, 0.15);\n",
              "      fill: #174EA6;\n",
              "    }\n",
              "\n",
              "    [theme=dark] .colab-df-convert {\n",
              "      background-color: #3B4455;\n",
              "      fill: #D2E3FC;\n",
              "    }\n",
              "\n",
              "    [theme=dark] .colab-df-convert:hover {\n",
              "      background-color: #434B5C;\n",
              "      box-shadow: 0px 1px 3px 1px rgba(0, 0, 0, 0.15);\n",
              "      filter: drop-shadow(0px 1px 2px rgba(0, 0, 0, 0.3));\n",
              "      fill: #FFFFFF;\n",
              "    }\n",
              "  </style>\n",
              "\n",
              "      <script>\n",
              "        const buttonEl =\n",
              "          document.querySelector('#df-1aa6a9c6-7e3f-42a6-a890-e7ef17813e52 button.colab-df-convert');\n",
              "        buttonEl.style.display =\n",
              "          google.colab.kernel.accessAllowed ? 'block' : 'none';\n",
              "\n",
              "        async function convertToInteractive(key) {\n",
              "          const element = document.querySelector('#df-1aa6a9c6-7e3f-42a6-a890-e7ef17813e52');\n",
              "          const dataTable =\n",
              "            await google.colab.kernel.invokeFunction('convertToInteractive',\n",
              "                                                     [key], {});\n",
              "          if (!dataTable) return;\n",
              "\n",
              "          const docLinkHtml = 'Like what you see? Visit the ' +\n",
              "            '<a target=\"_blank\" href=https://colab.research.google.com/notebooks/data_table.ipynb>data table notebook</a>'\n",
              "            + ' to learn more about interactive tables.';\n",
              "          element.innerHTML = '';\n",
              "          dataTable['output_type'] = 'display_data';\n",
              "          await google.colab.output.renderOutput(dataTable, element);\n",
              "          const docLink = document.createElement('div');\n",
              "          docLink.innerHTML = docLinkHtml;\n",
              "          element.appendChild(docLink);\n",
              "        }\n",
              "      </script>\n",
              "    </div>\n",
              "  </div>\n",
              "  "
            ]
          },
          "metadata": {},
          "execution_count": 19
        }
      ],
      "source": [
        "df_maior_20.head()"
      ]
    },
    {
      "cell_type": "code",
      "execution_count": 22,
      "id": "f8fb2ba1",
      "metadata": {
        "id": "f8fb2ba1"
      },
      "outputs": [],
      "source": [
        "df_maior_20_ordem_des = df_maior_20.sort_values(['indiv_por_10k'], ascending = False)"
      ]
    },
    {
      "cell_type": "code",
      "execution_count": 26,
      "id": "59b4e336",
      "metadata": {
        "id": "59b4e336",
        "colab": {
          "base_uri": "https://localhost:8080/"
        },
        "outputId": "daf79442-45c2-4ff9-a8ac-6a2dcd41a4e1"
      },
      "outputs": [
        {
          "output_type": "stream",
          "name": "stdout",
          "text": [
            "                  estado  indiv_por_10k\n",
            "8   District of Columbia      53.738381\n",
            "11                Hawaii      29.079406\n",
            "4             California      27.623825\n",
            "37                Oregon      26.636307\n",
            "28                Nevada      23.314189\n",
            "47            Washington      21.829195\n",
            "32              New York      20.392363\n"
          ]
        }
      ],
      "source": [
        "print(df_maior_20_ordem_des[['estado','indiv_por_10k']])"
      ]
    }
  ],
  "metadata": {
    "kernelspec": {
      "display_name": "Python 3",
      "language": "python",
      "name": "python3"
    },
    "language_info": {
      "codemirror_mode": {
        "name": "ipython",
        "version": 3
      },
      "file_extension": ".py",
      "mimetype": "text/x-python",
      "name": "python",
      "nbconvert_exporter": "python",
      "pygments_lexer": "ipython3",
      "version": "3.8.8"
    },
    "colab": {
      "provenance": [],
      "include_colab_link": true
    }
  },
  "nbformat": 4,
  "nbformat_minor": 5
}