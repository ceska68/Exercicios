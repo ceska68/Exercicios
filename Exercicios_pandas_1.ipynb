{
  "cells": [
    {
      "cell_type": "markdown",
      "metadata": {
        "id": "view-in-github",
        "colab_type": "text"
      },
      "source": [
        "<a href=\"https://colab.research.google.com/github/ceska68/Exercicios/blob/main/Exercicios_pandas_1.ipynb\" target=\"_parent\"><img src=\"https://colab.research.google.com/assets/colab-badge.svg\" alt=\"Open In Colab\"/></a>"
      ]
    },
    {
      "cell_type": "code",
      "execution_count": null,
      "id": "56a4ad0d",
      "metadata": {
        "id": "56a4ad0d"
      },
      "outputs": [],
      "source": []
    },
    {
      "cell_type": "markdown",
      "id": "250ccdda",
      "metadata": {
        "id": "250ccdda"
      },
      "source": [
        "#### Exercício \n",
        "\n",
        "Muitas vezes os dados que você irá acessar virão no formato de dicionários.\n",
        "\n",
        "**Crie  um DataFrame usando o dicionário abaixo e  use a lista rótulos(também abaixo) como índice.**"
      ]
    },
    {
      "cell_type": "code",
      "execution_count": null,
      "id": "6d2c29d7",
      "metadata": {
        "id": "6d2c29d7"
      },
      "outputs": [],
      "source": [
        "import pandas as pd"
      ]
    },
    {
      "cell_type": "code",
      "execution_count": null,
      "id": "a1a1ef97",
      "metadata": {
        "id": "a1a1ef97"
      },
      "outputs": [],
      "source": [
        "exam_data = {'nome': ['Sandra', 'Carlos', 'Regiane', 'Cesar', 'Eliana', 'Marcelio', 'Marcos', 'Leandra', 'Roberto', 'João'],\n",
        "'pontuação': [10, 9, 6.5, 8.7, 9, 6.8, 9.5, 5, 8, 4],\n",
        "'tentativas': [1, 3, 2, 3, 2, 3, 1, 1, 2, 1],\n",
        "'aprovado': ['sim', 'sim', 'não', 'sim', 'sim', 'não', 'sim', 'não', 'sim', 'não']}\n",
        "\n",
        "rotulos = ['a', 'b', 'c', 'd', 'e', 'f', 'g', 'h', 'i', 'j']"
      ]
    },
    {
      "cell_type": "markdown",
      "id": "83e39fc8",
      "metadata": {
        "id": "83e39fc8"
      },
      "source": [
        "**crie o dataframe:**"
      ]
    },
    {
      "cell_type": "code",
      "execution_count": null,
      "id": "a803f78a",
      "metadata": {
        "id": "a803f78a"
      },
      "outputs": [],
      "source": [
        "\n",
        "\n"
      ]
    },
    {
      "cell_type": "markdown",
      "id": "1f37783e",
      "metadata": {
        "id": "1f37783e"
      },
      "source": [
        "**visualize algumas linhas da  tabela que você criou**"
      ]
    },
    {
      "cell_type": "code",
      "execution_count": null,
      "id": "f6804b86",
      "metadata": {
        "id": "f6804b86"
      },
      "outputs": [],
      "source": [
        "\n"
      ]
    },
    {
      "cell_type": "markdown",
      "id": "8900799f",
      "metadata": {
        "id": "8900799f"
      },
      "source": [
        "**mude o nome da coluna pontuação para notas**"
      ]
    },
    {
      "cell_type": "code",
      "execution_count": null,
      "id": "41e689b0",
      "metadata": {
        "id": "41e689b0"
      },
      "outputs": [],
      "source": []
    },
    {
      "cell_type": "code",
      "execution_count": null,
      "id": "ac46f174",
      "metadata": {
        "id": "ac46f174"
      },
      "outputs": [],
      "source": []
    },
    {
      "cell_type": "markdown",
      "id": "0839ca0f",
      "metadata": {
        "id": "0839ca0f"
      },
      "source": [
        "**Imprima informações basicas do dataframe que você criou**"
      ]
    },
    {
      "cell_type": "code",
      "execution_count": null,
      "id": "20e8a251",
      "metadata": {
        "id": "20e8a251"
      },
      "outputs": [],
      "source": []
    },
    {
      "cell_type": "markdown",
      "id": "30cc959c",
      "metadata": {
        "id": "30cc959c"
      },
      "source": [
        "**Imprima as colunas do seu dataframe**\n"
      ]
    },
    {
      "cell_type": "code",
      "execution_count": null,
      "id": "1d5229fa",
      "metadata": {
        "id": "1d5229fa"
      },
      "outputs": [],
      "source": []
    },
    {
      "cell_type": "code",
      "execution_count": null,
      "id": "d73ca6b3",
      "metadata": {
        "id": "d73ca6b3"
      },
      "outputs": [],
      "source": []
    }
  ],
  "metadata": {
    "kernelspec": {
      "display_name": "Python 3",
      "language": "python",
      "name": "python3"
    },
    "language_info": {
      "codemirror_mode": {
        "name": "ipython",
        "version": 3
      },
      "file_extension": ".py",
      "mimetype": "text/x-python",
      "name": "python",
      "nbconvert_exporter": "python",
      "pygments_lexer": "ipython3",
      "version": "3.8.8"
    },
    "colab": {
      "provenance": [],
      "include_colab_link": true
    }
  },
  "nbformat": 4,
  "nbformat_minor": 5
}