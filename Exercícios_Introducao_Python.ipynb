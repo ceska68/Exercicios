{
  "nbformat": 4,
  "nbformat_minor": 0,
  "metadata": {
    "colab": {
      "provenance": [],
      "include_colab_link": true
    },
    "kernelspec": {
      "name": "python3",
      "display_name": "Python 3"
    },
    "language_info": {
      "name": "python"
    }
  },
  "cells": [
    {
      "cell_type": "markdown",
      "metadata": {
        "id": "view-in-github",
        "colab_type": "text"
      },
      "source": [
        "<a href=\"https://colab.research.google.com/github/ceska68/Exercicios/blob/main/Exerc%C3%ADcios_Introducao_Python.ipynb\" target=\"_parent\"><img src=\"https://colab.research.google.com/assets/colab-badge.svg\" alt=\"Open In Colab\"/></a>"
      ]
    },
    {
      "cell_type": "markdown",
      "source": [
        "# Exercícios de Lógica de Programação em Python"
      ],
      "metadata": {
        "id": "W6TJJ9VHQKUH"
      }
    },
    {
      "cell_type": "markdown",
      "source": [
        "## Exercício 1 (Aquecimento): Vamos criar uma calculadora (simples) com as operações soma, subtração, multiplicação, divisão.\n",
        "\n",
        "Dica: crie funções para tarefas específicas como, por exemplo, uma função `soma(a,b)`, uma função `subtracao(a,b)`, ... e depois use estas funções para criar a função `calculadora()`.\n",
        "\n",
        "Lembre-se de que não se pode dividir por zero."
      ],
      "metadata": {
        "id": "Ibj7Joj9QdwL"
      }
    },
    {
      "cell_type": "code",
      "execution_count": 1,
      "metadata": {
        "id": "0ER-YTL8QEWm"
      },
      "outputs": [],
      "source": [
        "def soma(a,b):\n",
        " print(a+b)\n",
        "\n",
        "def subtracao(a,b):\n",
        " print(a-b)\n",
        "\n",
        "def multiplicacao(a,b):\n",
        " print(a*b)\n",
        "\n",
        "def divisao(a,b):\n",
        "  if b == 0:\n",
        "   return(\"Erro: denominador zerado\")\n",
        "  else:  print(a/b)"
      ]
    },
    {
      "cell_type": "code",
      "source": [
        "def calculadora():\n",
        "  i = 0\n",
        "  while i == 0:\n",
        "    j = float(input('''Escolha o número da operação a ser realizada:\n",
        "    1) soma\n",
        "    2) subtração\n",
        "    3) multiplicação\n",
        "    4) divisão\n",
        "    5) encerrar calculadora\\n'''))\n",
        "\n",
        "    if j == 5:\n",
        "      \n",
        "      break\n",
        "\n",
        "    a = float(input(\"Digite o primeiro valor: \"))\n",
        "    b = float(input(\"Digite o segundo valor: \"))\n",
        "\n",
        "    if j == 1:\n",
        "      print(\"\\nEscolhida a operação de soma\")\n",
        "      soma(a,b)\n",
        "    elif j == 2:\n",
        "      print(\"\\nEscolhida a operação de subtração\")\n",
        "      subtracao(a,b)\n",
        "    elif j == 3:\n",
        "      print(\"\\nEscolhida a operação de multiplicação\")\n",
        "      multiplicacao(a,b)\n",
        "    elif j == 4:\n",
        "      print(\"\\nEscolhida a operação de divisão\")\n",
        "      divisao(a,b)\n",
        "    else:\n",
        "      print(\"\\nEscolha uma operação válida\")\n",
        "  print(\"Encerrando calculadora\")"
      ],
      "metadata": {
        "id": "qENPYxkQQSuc"
      },
      "execution_count": 2,
      "outputs": []
    },
    {
      "cell_type": "code",
      "source": [
        "calculadora()"
      ],
      "metadata": {
        "colab": {
          "base_uri": "https://localhost:8080/"
        },
        "id": "q1CPFs1bQSe7",
        "outputId": "da9cf3e0-22f1-42c8-e386-c83542341d2c"
      },
      "execution_count": 4,
      "outputs": [
        {
          "output_type": "stream",
          "name": "stdout",
          "text": [
            "Escolha o número da operação a ser realizada:\n",
            "    1) soma\n",
            "    2) subtração\n",
            "    3) multiplicação\n",
            "    4) divisão\n",
            "    5) encerrar calculadora\n",
            "2\n",
            "Digite o primeiro valor: 10.5\n",
            "Digite o segundo valor: 8\n",
            "\n",
            "Escolhida a operação de subtração\n",
            "2.5\n",
            "Escolha o número da operação a ser realizada:\n",
            "    1) soma\n",
            "    2) subtração\n",
            "    3) multiplicação\n",
            "    4) divisão\n",
            "    5) encerrar calculadora\n",
            "4\n",
            "Digite o primeiro valor: 10\n",
            "Digite o segundo valor: 3\n",
            "\n",
            "Escolhida a operação de divisão\n",
            "3.3333333333333335\n",
            "Escolha o número da operação a ser realizada:\n",
            "    1) soma\n",
            "    2) subtração\n",
            "    3) multiplicação\n",
            "    4) divisão\n",
            "    5) encerrar calculadora\n",
            "5\n",
            "Encerrando calculadora\n"
          ]
        }
      ]
    },
    {
      "cell_type": "markdown",
      "source": [
        "### Exercício 2: Em um curso da Sirius temos alunos dos mais variados perfis, tendo diferentes faixas etárias, morando em diferentes estados do Brasil e que tiraram diferentes notas. Essas informações estão em diferentes listas, uma somente com os nomes, outras somente com as notas, outra com a idades e outro com os estados de residência.\n",
        "\n",
        "Com base nisso crie funções que ajudem a responder as perguntas considerando os dados a seguir."
      ],
      "metadata": {
        "id": "QQZ2bBqeYOmu"
      }
    },
    {
      "cell_type": "code",
      "source": [
        "# dados\n",
        "nomes = ['João', 'José', 'Fernando', 'Rafaela', 'Kleber', 'Laercio', 'Carlos','Paula','Adriana','Walkyria','Guilherme','Gustavo','Gabriel', 'Mayara', 'Ana', 'Daniela', 'Rafael', 'Daiane', 'Maria', 'Mateus', 'Monique', 'Brian', 'Henrique', 'Alberto', 'Mônica', 'Bruce', 'Simone']\n",
        "notas = [8,7,6,9,3,8,7,5,9,1,4,5,8,4,9,7,5,6,2,7,4,5,8,7,9,10,5]\n",
        "idades = [25,17,56,32,27,31,48,24,41,50,29,22,30,31,28,52,27,33,35,36,38,26,29,35,38,41,46]\n",
        "estados = ['PR','SP','SP','MG','RJ','MG','PB','AM','SC','MS','SP','MG','AM','RO','MG','BA','MG','ES','CE','MG','PA','PI','PE','MG','RR','MG','SE']"
      ],
      "metadata": {
        "id": "_jyuP-rnQSdt"
      },
      "execution_count": 8,
      "outputs": []
    },
    {
      "cell_type": "markdown",
      "source": [
        "#### 1) Crie uma função que seleciona o nome de todas as pessoas que residem em um determinado estado. Por exemplo, a função `alunos_por_estado(nomes, estados, 'SP')` deve retornar todos os nomes dos alunos que moram em São Paulo."
      ],
      "metadata": {
        "id": "4RcD29Dqcjnt"
      }
    },
    {
      "cell_type": "code",
      "source": [
        "def alunos_por_estado(lista_nomes, lista_estados, estado):\n",
        "   nomes = []\n",
        "   estados = []\n",
        "   for i in range(len(lista_estados)):\n",
        "     if lista_estados[i] == estado:\n",
        "       nomes.append(lista_nomes[i])\n",
        "       estados.append(lista_estados[i])\n",
        "   return nomes, estados "
      ],
      "metadata": {
        "id": "6_1P-Pkqcj74"
      },
      "execution_count": 19,
      "outputs": []
    },
    {
      "cell_type": "code",
      "source": [
        "alunos_por_estado(nomes, estados, 'SP')"
      ],
      "metadata": {
        "colab": {
          "base_uri": "https://localhost:8080/"
        },
        "id": "Yq_1GCeAgthx",
        "outputId": "d8d98e27-a99d-49ff-c745-c881357bee79"
      },
      "execution_count": 20,
      "outputs": [
        {
          "output_type": "execute_result",
          "data": {
            "text/plain": [
              "(['José', 'Fernando', 'Guilherme'], ['SP', 'SP', 'SP'])"
            ]
          },
          "metadata": {},
          "execution_count": 20
        }
      ]
    },
    {
      "cell_type": "code",
      "source": [
        "alunos_por_estado(nomes, estados, 'MG')"
      ],
      "metadata": {
        "colab": {
          "base_uri": "https://localhost:8080/"
        },
        "id": "RRGuqwg8VN_x",
        "outputId": "3b8fd8d1-e709-439a-f66d-5f88fe64cf69"
      },
      "execution_count": 23,
      "outputs": [
        {
          "output_type": "execute_result",
          "data": {
            "text/plain": [
              "(['Rafaela',\n",
              "  'Laercio',\n",
              "  'Gustavo',\n",
              "  'Ana',\n",
              "  'Rafael',\n",
              "  'Mateus',\n",
              "  'Alberto',\n",
              "  'Bruce'],\n",
              " ['MG', 'MG', 'MG', 'MG', 'MG', 'MG', 'MG', 'MG'])"
            ]
          },
          "metadata": {},
          "execution_count": 23
        }
      ]
    },
    {
      "cell_type": "markdown",
      "source": [
        "#### 2) Crie uma função que calcula quantas pessoas foram aprovadas por estado, considerando média 6. Por exemplo, a função `quant_aprov_estado(estados, notas, 'SP')` deve retornar quantos alunos foram aprovados no estado de São Paulo."
      ],
      "metadata": {
        "id": "WMMMrm-uc3wz"
      }
    },
    {
      "cell_type": "code",
      "source": [
        "def quant_aprov_estado(lista_estados, lista_notas, estado):\n",
        "   cont = 0\n",
        "   for i in range(len(lista_estados)):\n",
        "     if (lista_estados[i] == estado) & (lista_notas[i] >= 6) :\n",
        "       cont += 1\n",
        "   print(f'Há um total de {cont} aprovados no estado de {estado}')"
      ],
      "metadata": {
        "id": "aHJtbdGVc73x"
      },
      "execution_count": 26,
      "outputs": []
    },
    {
      "cell_type": "code",
      "source": [
        "quant_aprov_estado(estados, notas, 'SP')"
      ],
      "metadata": {
        "colab": {
          "base_uri": "https://localhost:8080/"
        },
        "id": "L_guJdqRhXdY",
        "outputId": "f07cd0c6-c382-4d79-f05f-6db85eed4125"
      },
      "execution_count": 25,
      "outputs": [
        {
          "output_type": "stream",
          "name": "stdout",
          "text": [
            "Há um total de 2 aprovados no estado SP\n"
          ]
        }
      ]
    },
    {
      "cell_type": "code",
      "source": [
        "quant_aprov_estado(estados, notas, 'MG')"
      ],
      "metadata": {
        "colab": {
          "base_uri": "https://localhost:8080/"
        },
        "id": "flMHUM4SW-F5",
        "outputId": "c2cd9e15-3c41-45e6-ca6d-0e5588cfad3b"
      },
      "execution_count": 28,
      "outputs": [
        {
          "output_type": "stream",
          "name": "stdout",
          "text": [
            "Há um total de 6 aprovados no estado de MG\n"
          ]
        }
      ]
    },
    {
      "cell_type": "markdown",
      "source": [
        "#### 3) Crie uma função que calcula quantos alunos há por estado. Por exemplo, a função `alunos_por_estado(estados)` deve retornar uma mensagem dizendo quantos alunos há em cada estado."
      ],
      "metadata": {
        "id": "H2rxUkYdikLQ"
      }
    },
    {
      "cell_type": "code",
      "source": [
        "def alunos_por_estado(lista_estados):\n",
        "   estados_unicos = list(set(lista_estados))\n",
        "   print(estados_unicos)\n",
        "   for estado in estados_unicos:\n",
        "     cont = 0\n",
        "     for i in range(len(lista_estados)):\n",
        "       if lista_estados[i] == estado:\n",
        "         cont += 1\n",
        "         if cont > 1:\n",
        "           print(f'No estado de {estado} há {cont} alunos.')\n",
        "         else: print(f'No estado de {estado} há {cont} aluno.')\n"
      ],
      "metadata": {
        "id": "GOvbE5uUhbjX"
      },
      "execution_count": 43,
      "outputs": []
    },
    {
      "cell_type": "code",
      "source": [
        "alunos_por_estado(estados)"
      ],
      "metadata": {
        "colab": {
          "base_uri": "https://localhost:8080/"
        },
        "id": "6ZNGGaVlkuqa",
        "outputId": "edf2bb70-46fc-42ed-fe7a-0e0728654645"
      },
      "execution_count": 44,
      "outputs": [
        {
          "output_type": "stream",
          "name": "stdout",
          "text": [
            "['PR', 'PI', 'MS', 'PA', 'SE', 'MG', 'PB', 'AM', 'SC', 'RO', 'ES', 'SP', 'BA', 'CE', 'PE', 'RR', 'RJ']\n",
            "No estado de PR há 1 aluno.\n",
            "No estado de PI há 1 aluno.\n",
            "No estado de MS há 1 aluno.\n",
            "No estado de PA há 1 aluno.\n",
            "No estado de SE há 1 aluno.\n",
            "No estado de MG há 1 aluno.\n",
            "No estado de MG há 2 alunos.\n",
            "No estado de MG há 3 alunos.\n",
            "No estado de MG há 4 alunos.\n",
            "No estado de MG há 5 alunos.\n",
            "No estado de MG há 6 alunos.\n",
            "No estado de MG há 7 alunos.\n",
            "No estado de MG há 8 alunos.\n",
            "No estado de PB há 1 aluno.\n",
            "No estado de AM há 1 aluno.\n",
            "No estado de AM há 2 alunos.\n",
            "No estado de SC há 1 aluno.\n",
            "No estado de RO há 1 aluno.\n",
            "No estado de ES há 1 aluno.\n",
            "No estado de SP há 1 aluno.\n",
            "No estado de SP há 2 alunos.\n",
            "No estado de SP há 3 alunos.\n",
            "No estado de BA há 1 aluno.\n",
            "No estado de CE há 1 aluno.\n",
            "No estado de PE há 1 aluno.\n",
            "No estado de RR há 1 aluno.\n",
            "No estado de RJ há 1 aluno.\n"
          ]
        }
      ]
    },
    {
      "cell_type": "markdown",
      "source": [
        "#### 4) Crie uma função que calcula a média das notas dos alunos de um determinado estado. Por exemplo, a função `media_por_estado(notas, estados, 'SP')` deve retornar a média das notas do alunos (com duas casas decimais) do estado de São Paulo."
      ],
      "metadata": {
        "id": "roX11LBBkEgr"
      }
    },
    {
      "cell_type": "code",
      "source": [
        "def media_por_estado(lista_notas, lista_estados, estado):\n",
        "  notas_estado = []\n",
        "  for i in range(len(lista_estados)):\n",
        "    if lista_estados[i] == estado:\n",
        "      notas_estado.append(lista_notas[i])\n",
        "\n",
        "  media = sum(notas_estado) / len(notas_estado)\n",
        "  print(f'a média das notas dos alunos do estado de {estado} é de {round(media,2)}.')\n"
      ],
      "metadata": {
        "id": "JVEZlfqjkE6M"
      },
      "execution_count": 49,
      "outputs": []
    },
    {
      "cell_type": "code",
      "source": [
        "media_por_estado(notas, estados, 'SP')"
      ],
      "metadata": {
        "colab": {
          "base_uri": "https://localhost:8080/"
        },
        "id": "ybvRcKHTmono",
        "outputId": "4464ac57-a0ce-4849-c3a5-c42100f651c7"
      },
      "execution_count": 50,
      "outputs": [
        {
          "output_type": "stream",
          "name": "stdout",
          "text": [
            "a média das notas dos alunos do estado de SP é de 5.67.\n"
          ]
        }
      ]
    },
    {
      "cell_type": "markdown",
      "source": [
        "#### 5) Crie uma função que calcula a média das idades dos alunos aprovados (considerando media 6) de um determinado estado. Por exemplo, a função `media_idade_aprov_por_estado(notas, estados, idades, 'SP')` deve retornar a média das idades do alunos (com duas casas decimais) aprovados que residem no estado de São Paulo."
      ],
      "metadata": {
        "id": "53LQI5JvnjjL"
      }
    },
    {
      "cell_type": "code",
      "source": [
        "# seu código"
      ],
      "metadata": {
        "id": "wCJTqBFemsDG"
      },
      "execution_count": null,
      "outputs": []
    },
    {
      "cell_type": "code",
      "source": [
        "media_idade_aprov_por_estado(notas, estados, idades, 'SP')"
      ],
      "metadata": {
        "colab": {
          "base_uri": "https://localhost:8080/"
        },
        "id": "RVqtGN_ToqNc",
        "outputId": "1899de05-38f8-4b12-e9b7-763e84bb380c"
      },
      "execution_count": null,
      "outputs": [
        {
          "output_type": "stream",
          "name": "stdout",
          "text": [
            "A média de idade dos alunos aprovados do estado de SP é 36.5\n"
          ]
        }
      ]
    },
    {
      "cell_type": "code",
      "source": [],
      "metadata": {
        "id": "0z3gQmECou36"
      },
      "execution_count": null,
      "outputs": []
    }
  ]
}