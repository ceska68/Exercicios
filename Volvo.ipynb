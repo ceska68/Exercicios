{
  "cells": [
    {
      "cell_type": "markdown",
      "metadata": {
        "id": "upnSxyBkrM01"
      },
      "source": [
        "# Volvo (nome do grupo)"
      ]
    },
    {
      "cell_type": "markdown",
      "metadata": {
        "id": "Gm4wy8PhrM02"
      },
      "source": [
        "Estimativa de Valores de Horímetro das Máquinas da frota circulante\n",
        "\n",
        "**Drive**: https://drive.google.com/drive/folders/1HS80lS_XzGH7Tz9juk08d2IR65zZ4Cyv\n",
        "\n",
        "**Trello**: \n",
        "\n",
        "**Github**:"
      ]
    },
    {
      "cell_type": "markdown",
      "metadata": {
        "id": "SGLNs5WtrM03"
      },
      "source": [
        "## 0 - Informações sobre o projeto (contexto)"
      ]
    },
    {
      "cell_type": "markdown",
      "metadata": {
        "id": "ulRyKyjmrM03"
      },
      "source": []
    },
    {
      "cell_type": "markdown",
      "metadata": {
        "id": "bxupJt2qrM03"
      },
      "source": []
    },
    {
      "cell_type": "markdown",
      "metadata": {
        "id": "ir9d8bySrM03"
      },
      "source": [
        "## 1 - Import libs"
      ]
    },
    {
      "cell_type": "code",
      "execution_count": null,
      "metadata": {
        "id": "3jAKa6JzrM04"
      },
      "outputs": [],
      "source": [
        "import pandas as pd\n",
        "import numpy as np\n",
        "\n",
        "import matplotlib.pyplot as plt\n",
        "import seaborn as sns\n",
        "from ipywidgets import interact"
      ]
    },
    {
      "cell_type": "markdown",
      "metadata": {
        "id": "eppIynbRrM04"
      },
      "source": [
        "## 2 - Read data"
      ]
    },
    {
      "cell_type": "code",
      "execution_count": null,
      "metadata": {
        "id": "J9J2Eo5KrM05"
      },
      "outputs": [],
      "source": [
        "# Read data\n",
        "df_Eq = pd.read_excel('../Data/23w06_Equipamentos.xlsx')\n",
        "df_ST = pd.read_excel('../Data/23w06_SeriesTemporais_Horimetros.xlsx', header = 3)\n",
        "\n",
        "# Rename columns\n",
        "df_Eq.rename(columns = {'Chassis ID' : 'ID'}, inplace = True)\n",
        "df_ST.rename(columns = {'Chassis Id*' : 'ID',\n",
        "                        'Machine History Date Day' : 'Day',\n",
        "                        'Compensated Working Hours By Day': 'Time' }, inplace = True)\n",
        "\n",
        "# Drop columns\n",
        "df_ST.drop('Unnamed: 0', axis = 1,inplace = True)"
      ]
    },
    {
      "cell_type": "markdown",
      "metadata": {
        "id": "eFdvEIpZrM05"
      },
      "source": [
        "## 3 - Business Understanding / Data understanding"
      ]
    },
    {
      "cell_type": "markdown",
      "metadata": {
        "id": "c4lS8p01rM05"
      },
      "source": [
        "### Hipóteses\n",
        "\n",
        "* H0: É possível prever o horímetro da máquina com base no historico de resgistros com\n",
        "precisão significativamente maior que a fornecida pelo cálculo atual (baseado em médias)\n",
        "\n",
        "* H1: É possivel utilizar a mesma técnica para os 3 cenários de medição do problema:\n",
        "Máquinas que enviaram dados nos últimos 4 dias; máquinas que enviaram dados mas não\n",
        "recententemente; máquinas que nunca enviaram dados.\n",
        "\n",
        "* H2: A técnica proposta garante resultados independentemente da classe da máquina:\n",
        "AHL; WL; EXC\n",
        "\n",
        "* H3: A técnica proposta garante resultados independentemente do segmento de aplicação\n",
        "da máquina.\n",
        "\n",
        "* H4: A técnica proposta garante resultados independentemente do país onde a máquina\n",
        "está localizada\n",
        "\n",
        "* H5: A técnica proposta garante resultados independentemente do Dealer que realizou a\n",
        "venda\n",
        "\n",
        "* H6: A técnica proposta garante resultados independentemente da idade da máquina"
      ]
    },
    {
      "cell_type": "markdown",
      "metadata": {
        "id": "fSmGk3IhrM06"
      },
      "source": [
        "### Objetivo:\n",
        "\n",
        "**Impacto do Projeto**\n",
        "\n",
        "***Melhor Gestão da Frota Circulante***\n",
        "* Aumento da eficiência operacional da rede de distribuição\n",
        "* Antecipação de necessidades dos Clientes\n",
        "* Aumento da Produtividade das Máquinas (Uptime)\n",
        "* Identificação de novas oportunidades em vendas de Peças e Serviços não são exploradas\n",
        "* Aumento de satisfação dos clientes Volvo CE"
      ]
    },
    {
      "cell_type": "code",
      "execution_count": null,
      "metadata": {
        "id": "nw-OdiierM06",
        "outputId": "20f12fd0-e20f-4ea0-a1e3-0ea47edc21bc"
      },
      "outputs": [
        {
          "data": {
            "text/html": [
              "<div>\n",
              "<style scoped>\n",
              "    .dataframe tbody tr th:only-of-type {\n",
              "        vertical-align: middle;\n",
              "    }\n",
              "\n",
              "    .dataframe tbody tr th {\n",
              "        vertical-align: top;\n",
              "    }\n",
              "\n",
              "    .dataframe thead th {\n",
              "        text-align: right;\n",
              "    }\n",
              "</style>\n",
              "<table border=\"1\" class=\"dataframe\">\n",
              "  <thead>\n",
              "    <tr style=\"text-align: right;\">\n",
              "      <th></th>\n",
              "      <th>Região</th>\n",
              "      <th>País</th>\n",
              "      <th>Dealer</th>\n",
              "      <th>Segmento</th>\n",
              "      <th>Modelo</th>\n",
              "      <th>ID</th>\n",
              "      <th>PIN17</th>\n",
              "      <th>Delivery Date</th>\n",
              "      <th>Obs.:</th>\n",
              "      <th>Estado</th>\n",
              "      <th>Região.1</th>\n",
              "    </tr>\n",
              "  </thead>\n",
              "  <tbody>\n",
              "    <tr>\n",
              "      <th>0</th>\n",
              "      <td>Hispânico Sul</td>\n",
              "      <td>Argentina</td>\n",
              "      <td>EPSA</td>\n",
              "      <td>Mining</td>\n",
              "      <td>ART</td>\n",
              "      <td>A040F320538</td>\n",
              "      <td>VCEA040FCG0320538</td>\n",
              "      <td>2020-11-26</td>\n",
              "      <td>NaN</td>\n",
              "      <td>San Luis</td>\n",
              "      <td>Argentina</td>\n",
              "    </tr>\n",
              "    <tr>\n",
              "      <th>1</th>\n",
              "      <td>Hispânico Sul</td>\n",
              "      <td>Argentina</td>\n",
              "      <td>EPSA</td>\n",
              "      <td>Construction</td>\n",
              "      <td>ART</td>\n",
              "      <td>A30G732052</td>\n",
              "      <td>VCE0A30GCL0732052</td>\n",
              "      <td>2020-06-22</td>\n",
              "      <td>NaN</td>\n",
              "      <td>San Juan</td>\n",
              "      <td>Argentina</td>\n",
              "    </tr>\n",
              "    <tr>\n",
              "      <th>2</th>\n",
              "      <td>Hispânico Sul</td>\n",
              "      <td>Argentina</td>\n",
              "      <td>EPSA</td>\n",
              "      <td>Mining</td>\n",
              "      <td>ART</td>\n",
              "      <td>A30G732029</td>\n",
              "      <td>NaN</td>\n",
              "      <td>2019-11-27</td>\n",
              "      <td>Não encontramos com os métodos de pesquisa uti...</td>\n",
              "      <td>Entre Ríos</td>\n",
              "      <td>Argentina</td>\n",
              "    </tr>\n",
              "    <tr>\n",
              "      <th>3</th>\n",
              "      <td>Hispânico Sul</td>\n",
              "      <td>Argentina</td>\n",
              "      <td>EPSA</td>\n",
              "      <td>Mining</td>\n",
              "      <td>EXC</td>\n",
              "      <td>EC210282764</td>\n",
              "      <td>VCEC210DH00282764</td>\n",
              "      <td>2019-06-06</td>\n",
              "      <td>NaN</td>\n",
              "      <td>0</td>\n",
              "      <td>Argentina</td>\n",
              "    </tr>\n",
              "    <tr>\n",
              "      <th>4</th>\n",
              "      <td>Hispânico Sul</td>\n",
              "      <td>Argentina</td>\n",
              "      <td>EPSA</td>\n",
              "      <td>Forestry</td>\n",
              "      <td>EXC</td>\n",
              "      <td>EC210282811</td>\n",
              "      <td>VCEC210DV00282811</td>\n",
              "      <td>2019-09-13</td>\n",
              "      <td>Não encontramos com os métodos de pesquisa uti...</td>\n",
              "      <td>0</td>\n",
              "      <td>Argentina</td>\n",
              "    </tr>\n",
              "  </tbody>\n",
              "</table>\n",
              "</div>"
            ],
            "text/plain": [
              "          Região       País Dealer      Segmento Modelo           ID  \\\n",
              "0  Hispânico Sul  Argentina   EPSA        Mining    ART  A040F320538   \n",
              "1  Hispânico Sul  Argentina   EPSA  Construction    ART   A30G732052   \n",
              "2  Hispânico Sul  Argentina   EPSA        Mining    ART   A30G732029   \n",
              "3  Hispânico Sul  Argentina   EPSA        Mining    EXC  EC210282764   \n",
              "4  Hispânico Sul  Argentina   EPSA      Forestry    EXC  EC210282811   \n",
              "\n",
              "               PIN17 Delivery Date  \\\n",
              "0  VCEA040FCG0320538    2020-11-26   \n",
              "1  VCE0A30GCL0732052    2020-06-22   \n",
              "2                NaN    2019-11-27   \n",
              "3  VCEC210DH00282764    2019-06-06   \n",
              "4  VCEC210DV00282811    2019-09-13   \n",
              "\n",
              "                                               Obs.:      Estado   Região.1  \n",
              "0                                                NaN    San Luis  Argentina  \n",
              "1                                                NaN    San Juan  Argentina  \n",
              "2  Não encontramos com os métodos de pesquisa uti...  Entre Ríos  Argentina  \n",
              "3                                                NaN           0  Argentina  \n",
              "4  Não encontramos com os métodos de pesquisa uti...           0  Argentina  "
            ]
          },
          "execution_count": 3,
          "metadata": {},
          "output_type": "execute_result"
        }
      ],
      "source": [
        "df_Eq.head()"
      ]
    },
    {
      "cell_type": "code",
      "execution_count": null,
      "metadata": {
        "id": "PvWkd4-irM07",
        "outputId": "17809d1c-5629-48a9-9b1c-7eafc09bc4bd"
      },
      "outputs": [
        {
          "data": {
            "text/html": [
              "<div>\n",
              "<style scoped>\n",
              "    .dataframe tbody tr th:only-of-type {\n",
              "        vertical-align: middle;\n",
              "    }\n",
              "\n",
              "    .dataframe tbody tr th {\n",
              "        vertical-align: top;\n",
              "    }\n",
              "\n",
              "    .dataframe thead th {\n",
              "        text-align: right;\n",
              "    }\n",
              "</style>\n",
              "<table border=\"1\" class=\"dataframe\">\n",
              "  <thead>\n",
              "    <tr style=\"text-align: right;\">\n",
              "      <th></th>\n",
              "      <th>ID</th>\n",
              "      <th>Day</th>\n",
              "      <th>Time</th>\n",
              "    </tr>\n",
              "  </thead>\n",
              "  <tbody>\n",
              "    <tr>\n",
              "      <th>0</th>\n",
              "      <td>A030F720057</td>\n",
              "      <td>2016-12-09</td>\n",
              "      <td>0.00</td>\n",
              "    </tr>\n",
              "    <tr>\n",
              "      <th>1</th>\n",
              "      <td>A030F720057</td>\n",
              "      <td>2016-12-10</td>\n",
              "      <td>5.75</td>\n",
              "    </tr>\n",
              "    <tr>\n",
              "      <th>2</th>\n",
              "      <td>A030F720057</td>\n",
              "      <td>2016-12-11</td>\n",
              "      <td>8.95</td>\n",
              "    </tr>\n",
              "    <tr>\n",
              "      <th>3</th>\n",
              "      <td>A030F720057</td>\n",
              "      <td>2016-12-12</td>\n",
              "      <td>1.60</td>\n",
              "    </tr>\n",
              "    <tr>\n",
              "      <th>4</th>\n",
              "      <td>A030F720057</td>\n",
              "      <td>2016-12-13</td>\n",
              "      <td>8.20</td>\n",
              "    </tr>\n",
              "  </tbody>\n",
              "</table>\n",
              "</div>"
            ],
            "text/plain": [
              "            ID        Day  Time\n",
              "0  A030F720057 2016-12-09  0.00\n",
              "1  A030F720057 2016-12-10  5.75\n",
              "2  A030F720057 2016-12-11  8.95\n",
              "3  A030F720057 2016-12-12  1.60\n",
              "4  A030F720057 2016-12-13  8.20"
            ]
          },
          "execution_count": 4,
          "metadata": {},
          "output_type": "execute_result"
        }
      ],
      "source": [
        "df_ST.head()"
      ]
    },
    {
      "cell_type": "code",
      "execution_count": null,
      "metadata": {
        "id": "W_vbtQWvrM07",
        "outputId": "ffbbe9fa-b375-4900-d3f1-4396f68d731c"
      },
      "outputs": [
        {
          "name": "stdout",
          "output_type": "stream",
          "text": [
            "<class 'pandas.core.frame.DataFrame'>\n",
            "RangeIndex: 63 entries, 0 to 62\n",
            "Data columns (total 11 columns):\n",
            " #   Column         Non-Null Count  Dtype         \n",
            "---  ------         --------------  -----         \n",
            " 0   Região         63 non-null     object        \n",
            " 1   País           63 non-null     object        \n",
            " 2   Dealer         63 non-null     object        \n",
            " 3   Segmento       63 non-null     object        \n",
            " 4   Modelo         63 non-null     object        \n",
            " 5   ID             63 non-null     object        \n",
            " 6   PIN17          57 non-null     object        \n",
            " 7   Delivery Date  62 non-null     datetime64[ns]\n",
            " 8   Obs.:          15 non-null     object        \n",
            " 9   Estado         63 non-null     object        \n",
            " 10  Região.1       63 non-null     object        \n",
            "dtypes: datetime64[ns](1), object(10)\n",
            "memory usage: 5.5+ KB\n"
          ]
        }
      ],
      "source": [
        "df_Eq.info()"
      ]
    },
    {
      "cell_type": "code",
      "execution_count": null,
      "metadata": {
        "id": "Ruj8DUOQrM07",
        "outputId": "b7692366-e6b2-4f8e-c071-d19414856099"
      },
      "outputs": [
        {
          "name": "stdout",
          "output_type": "stream",
          "text": [
            "<class 'pandas.core.frame.DataFrame'>\n",
            "RangeIndex: 118161 entries, 0 to 118160\n",
            "Data columns (total 3 columns):\n",
            " #   Column  Non-Null Count   Dtype         \n",
            "---  ------  --------------   -----         \n",
            " 0   ID      118161 non-null  object        \n",
            " 1   Day     118161 non-null  datetime64[ns]\n",
            " 2   Time    118161 non-null  float64       \n",
            "dtypes: datetime64[ns](1), float64(1), object(1)\n",
            "memory usage: 2.7+ MB\n"
          ]
        }
      ],
      "source": [
        "df_ST.info()"
      ]
    },
    {
      "cell_type": "code",
      "execution_count": null,
      "metadata": {
        "id": "q_Cv3US6rM07",
        "outputId": "8f80e054-d0a5-45c1-b3d6-54ffef3cb997"
      },
      "outputs": [
        {
          "name": "stderr",
          "output_type": "stream",
          "text": [
            "C:\\Users\\aurel\\AppData\\Local\\Temp\\ipykernel_2176\\4270243714.py:1: FutureWarning: Treating datetime data as categorical rather than numeric in `.describe` is deprecated and will be removed in a future version of pandas. Specify `datetime_is_numeric=True` to silence this warning and adopt the future behavior now.\n",
            "  df_Eq.describe()\n"
          ]
        },
        {
          "data": {
            "text/html": [
              "<div>\n",
              "<style scoped>\n",
              "    .dataframe tbody tr th:only-of-type {\n",
              "        vertical-align: middle;\n",
              "    }\n",
              "\n",
              "    .dataframe tbody tr th {\n",
              "        vertical-align: top;\n",
              "    }\n",
              "\n",
              "    .dataframe thead th {\n",
              "        text-align: right;\n",
              "    }\n",
              "</style>\n",
              "<table border=\"1\" class=\"dataframe\">\n",
              "  <thead>\n",
              "    <tr style=\"text-align: right;\">\n",
              "      <th></th>\n",
              "      <th>Região</th>\n",
              "      <th>País</th>\n",
              "      <th>Dealer</th>\n",
              "      <th>Segmento</th>\n",
              "      <th>Modelo</th>\n",
              "      <th>ID</th>\n",
              "      <th>PIN17</th>\n",
              "      <th>Delivery Date</th>\n",
              "      <th>Obs.:</th>\n",
              "      <th>Estado</th>\n",
              "      <th>Região.1</th>\n",
              "    </tr>\n",
              "  </thead>\n",
              "  <tbody>\n",
              "    <tr>\n",
              "      <th>count</th>\n",
              "      <td>63</td>\n",
              "      <td>63</td>\n",
              "      <td>63</td>\n",
              "      <td>63</td>\n",
              "      <td>63</td>\n",
              "      <td>63</td>\n",
              "      <td>57</td>\n",
              "      <td>62</td>\n",
              "      <td>15</td>\n",
              "      <td>63</td>\n",
              "      <td>63</td>\n",
              "    </tr>\n",
              "    <tr>\n",
              "      <th>unique</th>\n",
              "      <td>3</td>\n",
              "      <td>3</td>\n",
              "      <td>7</td>\n",
              "      <td>5</td>\n",
              "      <td>3</td>\n",
              "      <td>63</td>\n",
              "      <td>57</td>\n",
              "      <td>60</td>\n",
              "      <td>12</td>\n",
              "      <td>29</td>\n",
              "      <td>7</td>\n",
              "    </tr>\n",
              "    <tr>\n",
              "      <th>top</th>\n",
              "      <td>Brasil</td>\n",
              "      <td>Brasil</td>\n",
              "      <td>Tecnoeste</td>\n",
              "      <td>Mining</td>\n",
              "      <td>ART</td>\n",
              "      <td>A040F320538</td>\n",
              "      <td>VCEA040FCG0320538</td>\n",
              "      <td>2018-06-15 00:00:00</td>\n",
              "      <td>Não existe articulado na Dinâmica no CareTrack.</td>\n",
              "      <td>Minas Gerais</td>\n",
              "      <td>Sudeste</td>\n",
              "    </tr>\n",
              "    <tr>\n",
              "      <th>freq</th>\n",
              "      <td>45</td>\n",
              "      <td>45</td>\n",
              "      <td>10</td>\n",
              "      <td>23</td>\n",
              "      <td>21</td>\n",
              "      <td>1</td>\n",
              "      <td>1</td>\n",
              "      <td>2</td>\n",
              "      <td>3</td>\n",
              "      <td>9</td>\n",
              "      <td>14</td>\n",
              "    </tr>\n",
              "    <tr>\n",
              "      <th>first</th>\n",
              "      <td>NaN</td>\n",
              "      <td>NaN</td>\n",
              "      <td>NaN</td>\n",
              "      <td>NaN</td>\n",
              "      <td>NaN</td>\n",
              "      <td>NaN</td>\n",
              "      <td>NaN</td>\n",
              "      <td>2012-03-09 00:00:00</td>\n",
              "      <td>NaN</td>\n",
              "      <td>NaN</td>\n",
              "      <td>NaN</td>\n",
              "    </tr>\n",
              "    <tr>\n",
              "      <th>last</th>\n",
              "      <td>NaN</td>\n",
              "      <td>NaN</td>\n",
              "      <td>NaN</td>\n",
              "      <td>NaN</td>\n",
              "      <td>NaN</td>\n",
              "      <td>NaN</td>\n",
              "      <td>NaN</td>\n",
              "      <td>2021-08-19 00:00:00</td>\n",
              "      <td>NaN</td>\n",
              "      <td>NaN</td>\n",
              "      <td>NaN</td>\n",
              "    </tr>\n",
              "  </tbody>\n",
              "</table>\n",
              "</div>"
            ],
            "text/plain": [
              "        Região    País     Dealer Segmento Modelo           ID  \\\n",
              "count       63      63         63       63     63           63   \n",
              "unique       3       3          7        5      3           63   \n",
              "top     Brasil  Brasil  Tecnoeste   Mining    ART  A040F320538   \n",
              "freq        45      45         10       23     21            1   \n",
              "first      NaN     NaN        NaN      NaN    NaN          NaN   \n",
              "last       NaN     NaN        NaN      NaN    NaN          NaN   \n",
              "\n",
              "                    PIN17        Delivery Date  \\\n",
              "count                  57                   62   \n",
              "unique                 57                   60   \n",
              "top     VCEA040FCG0320538  2018-06-15 00:00:00   \n",
              "freq                    1                    2   \n",
              "first                 NaN  2012-03-09 00:00:00   \n",
              "last                  NaN  2021-08-19 00:00:00   \n",
              "\n",
              "                                                  Obs.:        Estado Região.1  \n",
              "count                                                15            63       63  \n",
              "unique                                               12            29        7  \n",
              "top     Não existe articulado na Dinâmica no CareTrack.  Minas Gerais  Sudeste  \n",
              "freq                                                  3             9       14  \n",
              "first                                               NaN           NaN      NaN  \n",
              "last                                                NaN           NaN      NaN  "
            ]
          },
          "execution_count": 72,
          "metadata": {},
          "output_type": "execute_result"
        }
      ],
      "source": [
        "df_Eq.describe()"
      ]
    },
    {
      "cell_type": "code",
      "execution_count": null,
      "metadata": {
        "id": "nLAq4q8srM08",
        "outputId": "9da03a2c-3464-4369-eed5-a9878c7fb30d"
      },
      "outputs": [
        {
          "data": {
            "text/html": [
              "<div>\n",
              "<style scoped>\n",
              "    .dataframe tbody tr th:only-of-type {\n",
              "        vertical-align: middle;\n",
              "    }\n",
              "\n",
              "    .dataframe tbody tr th {\n",
              "        vertical-align: top;\n",
              "    }\n",
              "\n",
              "    .dataframe thead th {\n",
              "        text-align: right;\n",
              "    }\n",
              "</style>\n",
              "<table border=\"1\" class=\"dataframe\">\n",
              "  <thead>\n",
              "    <tr style=\"text-align: right;\">\n",
              "      <th></th>\n",
              "      <th>Time</th>\n",
              "    </tr>\n",
              "  </thead>\n",
              "  <tbody>\n",
              "    <tr>\n",
              "      <th>count</th>\n",
              "      <td>118161.000000</td>\n",
              "    </tr>\n",
              "    <tr>\n",
              "      <th>mean</th>\n",
              "      <td>5.803329</td>\n",
              "    </tr>\n",
              "    <tr>\n",
              "      <th>std</th>\n",
              "      <td>6.365152</td>\n",
              "    </tr>\n",
              "    <tr>\n",
              "      <th>min</th>\n",
              "      <td>0.000000</td>\n",
              "    </tr>\n",
              "    <tr>\n",
              "      <th>25%</th>\n",
              "      <td>0.038235</td>\n",
              "    </tr>\n",
              "    <tr>\n",
              "      <th>50%</th>\n",
              "      <td>4.200000</td>\n",
              "    </tr>\n",
              "    <tr>\n",
              "      <th>75%</th>\n",
              "      <td>9.200000</td>\n",
              "    </tr>\n",
              "    <tr>\n",
              "      <th>max</th>\n",
              "      <td>85.450000</td>\n",
              "    </tr>\n",
              "  </tbody>\n",
              "</table>\n",
              "</div>"
            ],
            "text/plain": [
              "                Time\n",
              "count  118161.000000\n",
              "mean        5.803329\n",
              "std         6.365152\n",
              "min         0.000000\n",
              "25%         0.038235\n",
              "50%         4.200000\n",
              "75%         9.200000\n",
              "max        85.450000"
            ]
          },
          "execution_count": 73,
          "metadata": {},
          "output_type": "execute_result"
        }
      ],
      "source": [
        "df_ST.describe()"
      ]
    },
    {
      "cell_type": "code",
      "execution_count": null,
      "metadata": {
        "id": "XlhlWl50rM08",
        "outputId": "f75c1f7b-740b-45da-f198-518717fc56c7"
      },
      "outputs": [
        {
          "data": {
            "text/plain": [
              "63"
            ]
          },
          "execution_count": 5,
          "metadata": {},
          "output_type": "execute_result"
        }
      ],
      "source": [
        "df_Eq.ID.nunique()"
      ]
    },
    {
      "cell_type": "code",
      "execution_count": null,
      "metadata": {
        "id": "lpSIqiFprM08",
        "outputId": "ac627a35-557e-46ed-def2-1e564523e89c"
      },
      "outputs": [
        {
          "data": {
            "text/plain": [
              "62"
            ]
          },
          "execution_count": 6,
          "metadata": {},
          "output_type": "execute_result"
        }
      ],
      "source": [
        "df_ST.ID.nunique()"
      ]
    },
    {
      "cell_type": "code",
      "execution_count": null,
      "metadata": {
        "id": "Kq0pdgAfrM08"
      },
      "outputs": [],
      "source": [
        "id_Eq = df_Eq.ID.unique().tolist()\n",
        "id_ST = df_ST.ID.unique().tolist()"
      ]
    },
    {
      "cell_type": "code",
      "execution_count": null,
      "metadata": {
        "id": "rArOoN1hrM09",
        "outputId": "21ee3a65-0a72-4f73-f3ad-6f9c57fd5a9c"
      },
      "outputs": [
        {
          "data": {
            "text/html": [
              "<div>\n",
              "<style scoped>\n",
              "    .dataframe tbody tr th:only-of-type {\n",
              "        vertical-align: middle;\n",
              "    }\n",
              "\n",
              "    .dataframe tbody tr th {\n",
              "        vertical-align: top;\n",
              "    }\n",
              "\n",
              "    .dataframe thead th {\n",
              "        text-align: right;\n",
              "    }\n",
              "</style>\n",
              "<table border=\"1\" class=\"dataframe\">\n",
              "  <thead>\n",
              "    <tr style=\"text-align: right;\">\n",
              "      <th></th>\n",
              "      <th>Região</th>\n",
              "      <th>País</th>\n",
              "      <th>Dealer</th>\n",
              "      <th>Segmento</th>\n",
              "      <th>Modelo</th>\n",
              "      <th>ID</th>\n",
              "      <th>PIN17</th>\n",
              "      <th>Delivery Date</th>\n",
              "      <th>Obs.:</th>\n",
              "      <th>Estado</th>\n",
              "      <th>Região.1</th>\n",
              "    </tr>\n",
              "  </thead>\n",
              "  <tbody>\n",
              "    <tr>\n",
              "      <th>47</th>\n",
              "      <td>Brasil</td>\n",
              "      <td>Brasil</td>\n",
              "      <td>Tracbel</td>\n",
              "      <td>Mining</td>\n",
              "      <td>ART</td>\n",
              "      <td>A30F720054</td>\n",
              "      <td>VCEA030FLF0720054</td>\n",
              "      <td>2016-10-13</td>\n",
              "      <td>NaN</td>\n",
              "      <td>Minas Gerais</td>\n",
              "      <td>Sudeste</td>\n",
              "    </tr>\n",
              "  </tbody>\n",
              "</table>\n",
              "</div>"
            ],
            "text/plain": [
              "    Região    País   Dealer Segmento Modelo          ID              PIN17  \\\n",
              "47  Brasil  Brasil  Tracbel   Mining    ART  A30F720054  VCEA030FLF0720054   \n",
              "\n",
              "   Delivery Date Obs.:        Estado Região.1  \n",
              "47    2016-10-13   NaN  Minas Gerais  Sudeste  "
            ]
          },
          "execution_count": 8,
          "metadata": {},
          "output_type": "execute_result"
        }
      ],
      "source": [
        "df_Eq.query('ID != @id_ST')"
      ]
    },
    {
      "cell_type": "code",
      "execution_count": null,
      "metadata": {
        "id": "Xwp5qDu_rM09",
        "outputId": "d1b87324-e097-4431-f484-4fb1426bfe7a"
      },
      "outputs": [
        {
          "data": {
            "text/html": [
              "<div>\n",
              "<style scoped>\n",
              "    .dataframe tbody tr th:only-of-type {\n",
              "        vertical-align: middle;\n",
              "    }\n",
              "\n",
              "    .dataframe tbody tr th {\n",
              "        vertical-align: top;\n",
              "    }\n",
              "\n",
              "    .dataframe thead th {\n",
              "        text-align: right;\n",
              "    }\n",
              "</style>\n",
              "<table border=\"1\" class=\"dataframe\">\n",
              "  <thead>\n",
              "    <tr style=\"text-align: right;\">\n",
              "      <th></th>\n",
              "      <th>ID</th>\n",
              "      <th>Day</th>\n",
              "      <th>Time</th>\n",
              "    </tr>\n",
              "  </thead>\n",
              "  <tbody>\n",
              "  </tbody>\n",
              "</table>\n",
              "</div>"
            ],
            "text/plain": [
              "Empty DataFrame\n",
              "Columns: [ID, Day, Time]\n",
              "Index: []"
            ]
          },
          "execution_count": 9,
          "metadata": {},
          "output_type": "execute_result"
        }
      ],
      "source": [
        "df_ST.query('ID != @id_Eq')"
      ]
    },
    {
      "cell_type": "code",
      "execution_count": null,
      "metadata": {
        "id": "vbsMrSZnrM09",
        "outputId": "24ca1dbd-4f3c-4139-cb70-b860d4915f18",
        "colab": {
          "referenced_widgets": [
            "4e25a49aff5e4004a917394387ff1467"
          ]
        }
      },
      "outputs": [
        {
          "data": {
            "application/vnd.jupyter.widget-view+json": {
              "model_id": "4e25a49aff5e4004a917394387ff1467",
              "version_major": 2,
              "version_minor": 0
            },
            "text/plain": [
              "interactive(children=(Dropdown(description='agg_fun', options=('sum', 'mean', 'max'), value='sum'), Output()),…"
            ]
          },
          "metadata": {},
          "output_type": "display_data"
        }
      ],
      "source": [
        "@interact(agg_fun = ['sum', 'mean','max'])\n",
        "\n",
        "def funcao(agg_fun):\n",
        "    df = df_ST.groupby('ID', sort = 'Time')[['Time']].agg(agg_fun)\\\n",
        "              .reset_index()\\\n",
        "              .sort_values('Time', ascending = False)\\\n",
        "              .head(25)\n",
        "    \n",
        "    return df"
      ]
    },
    {
      "cell_type": "code",
      "execution_count": null,
      "metadata": {
        "id": "7EsTFR5RrM09",
        "outputId": "f92fee13-321b-484a-ac40-017418ad8e6c",
        "colab": {
          "referenced_widgets": [
            "840249544bd447d592dd18f45c9cefac"
          ]
        }
      },
      "outputs": [
        {
          "data": {
            "application/vnd.jupyter.widget-view+json": {
              "model_id": "840249544bd447d592dd18f45c9cefac",
              "version_major": 2,
              "version_minor": 0
            },
            "text/plain": [
              "interactive(children=(Dropdown(description='id', options=('A030F720057', 'A040F320538', 'A040F320657', 'A040F3…"
            ]
          },
          "metadata": {},
          "output_type": "display_data"
        }
      ],
      "source": [
        "@interact(id = df_ST.ID.unique().tolist())\n",
        "def plot(id):\n",
        "    plt.figure(figsize= (16,3))\n",
        "    ax = sns.lineplot(data = df_ST[df_ST.ID == id],\n",
        "                      x = 'Day',\n",
        "                      y = 'Time')   \n",
        "    plt.show()\n"
      ]
    },
    {
      "cell_type": "markdown",
      "metadata": {
        "id": "Edl53pOXrM0-"
      },
      "source": [
        "# Observações / ideias "
      ]
    },
    {
      "cell_type": "markdown",
      "metadata": {
        "id": "s3nsOubcrM0-"
      },
      "source": [
        "* Quantidade de ID's diferente nos conjuntos de dados\n",
        "* Casos com quantidade de hora trabalhada superior a 24hrs"
      ]
    }
  ],
  "metadata": {
    "kernelspec": {
      "display_name": "base",
      "language": "python",
      "name": "python3"
    },
    "language_info": {
      "codemirror_mode": {
        "name": "ipython",
        "version": 3
      },
      "file_extension": ".py",
      "mimetype": "text/x-python",
      "name": "python",
      "nbconvert_exporter": "python",
      "pygments_lexer": "ipython3",
      "version": "3.10.9"
    },
    "orig_nbformat": 4,
    "colab": {
      "provenance": []
    }
  },
  "nbformat": 4,
  "nbformat_minor": 0
}