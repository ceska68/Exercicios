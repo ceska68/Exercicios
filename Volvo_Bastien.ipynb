{
  "cells": [
    {
      "cell_type": "markdown",
      "metadata": {
        "id": "view-in-github",
        "colab_type": "text"
      },
      "source": [
        "<a href=\"https://colab.research.google.com/github/ceska68/Exercicios/blob/main/Volvo_Bastien.ipynb\" target=\"_parent\"><img src=\"https://colab.research.google.com/assets/colab-badge.svg\" alt=\"Open In Colab\"/></a>"
      ]
    },
    {
      "cell_type": "markdown",
      "metadata": {
        "id": "upnSxyBkrM01"
      },
      "source": [
        "# Volvo (nome do grupo)"
      ]
    },
    {
      "cell_type": "markdown",
      "metadata": {
        "id": "Gm4wy8PhrM02"
      },
      "source": [
        "Estimativa de Valores de Horímetro das Máquinas da frota circulante\n",
        "\n",
        "**Drive**: https://drive.google.com/drive/folders/1HS80lS_XzGH7Tz9juk08d2IR65zZ4Cyv\n",
        "\n",
        "**Trello**: \n",
        "\n",
        "**Github**:"
      ]
    },
    {
      "cell_type": "markdown",
      "metadata": {
        "id": "SGLNs5WtrM03"
      },
      "source": [
        "## 0 - Informações sobre o projeto (contexto)"
      ]
    },
    {
      "cell_type": "markdown",
      "metadata": {
        "id": "ulRyKyjmrM03"
      },
      "source": []
    },
    {
      "cell_type": "markdown",
      "metadata": {
        "id": "bxupJt2qrM03"
      },
      "source": []
    },
    {
      "cell_type": "markdown",
      "metadata": {
        "id": "ir9d8bySrM03"
      },
      "source": [
        "## 1 - Import libs"
      ]
    },
    {
      "cell_type": "code",
      "execution_count": 36,
      "metadata": {
        "id": "3jAKa6JzrM04"
      },
      "outputs": [],
      "source": [
        "import pandas as pd\n",
        "import numpy as np\n",
        "\n",
        "import matplotlib.pyplot as plt\n",
        "import seaborn as sns\n",
        "from ipywidgets import interact"
      ]
    },
    {
      "cell_type": "markdown",
      "metadata": {
        "id": "eppIynbRrM04"
      },
      "source": [
        "## 2 - Read data"
      ]
    },
    {
      "cell_type": "code",
      "execution_count": 37,
      "metadata": {
        "id": "J9J2Eo5KrM05"
      },
      "outputs": [],
      "source": [
        "# Read data\n",
        "table_equipments = pd.read_excel('23w06_Equipamentos.xlsx')\n",
        "table_time_series  = pd.read_excel('23w06_SeriesTemporais_Horimetros.xlsx', header=3)\n",
        "\n"
      ]
    },
    {
      "cell_type": "code",
      "source": [
        "# Read table_equipments\n",
        "table_equipments.head()"
      ],
      "metadata": {
        "colab": {
          "base_uri": "https://localhost:8080/",
          "height": 206
        },
        "id": "FUrHuG5xmsAH",
        "outputId": "f9049f94-6758-46f7-cb39-5b5df1562fb9"
      },
      "execution_count": 38,
      "outputs": [
        {
          "output_type": "execute_result",
          "data": {
            "text/plain": [
              "          Região       País Dealer      Segmento Modelo   Chassis ID  \\\n",
              "0  Hispânico Sul  Argentina   EPSA        Mining    ART  A040F320538   \n",
              "1  Hispânico Sul  Argentina   EPSA  Construction    ART   A30G732052   \n",
              "2  Hispânico Sul  Argentina   EPSA        Mining    ART   A30G732029   \n",
              "3  Hispânico Sul  Argentina   EPSA        Mining    EXC  EC210282764   \n",
              "4  Hispânico Sul  Argentina   EPSA      Forestry    EXC  EC210282811   \n",
              "\n",
              "               PIN17 Delivery Date  \\\n",
              "0  VCEA040FCG0320538    2020-11-26   \n",
              "1  VCE0A30GCL0732052    2020-06-22   \n",
              "2                NaN    2019-11-27   \n",
              "3  VCEC210DH00282764    2019-06-06   \n",
              "4  VCEC210DV00282811    2019-09-13   \n",
              "\n",
              "                                               Obs.:      Estado   Região.1  \n",
              "0                                                NaN    San Luis  Argentina  \n",
              "1                                                NaN    San Juan  Argentina  \n",
              "2  Não encontramos com os métodos de pesquisa uti...  Entre Ríos  Argentina  \n",
              "3                                                NaN           0  Argentina  \n",
              "4  Não encontramos com os métodos de pesquisa uti...           0  Argentina  "
            ],
            "text/html": [
              "\n",
              "  <div id=\"df-3a7a5df9-7518-4e6f-a7c9-b7eaa572ce66\">\n",
              "    <div class=\"colab-df-container\">\n",
              "      <div>\n",
              "<style scoped>\n",
              "    .dataframe tbody tr th:only-of-type {\n",
              "        vertical-align: middle;\n",
              "    }\n",
              "\n",
              "    .dataframe tbody tr th {\n",
              "        vertical-align: top;\n",
              "    }\n",
              "\n",
              "    .dataframe thead th {\n",
              "        text-align: right;\n",
              "    }\n",
              "</style>\n",
              "<table border=\"1\" class=\"dataframe\">\n",
              "  <thead>\n",
              "    <tr style=\"text-align: right;\">\n",
              "      <th></th>\n",
              "      <th>Região</th>\n",
              "      <th>País</th>\n",
              "      <th>Dealer</th>\n",
              "      <th>Segmento</th>\n",
              "      <th>Modelo</th>\n",
              "      <th>Chassis ID</th>\n",
              "      <th>PIN17</th>\n",
              "      <th>Delivery Date</th>\n",
              "      <th>Obs.:</th>\n",
              "      <th>Estado</th>\n",
              "      <th>Região.1</th>\n",
              "    </tr>\n",
              "  </thead>\n",
              "  <tbody>\n",
              "    <tr>\n",
              "      <th>0</th>\n",
              "      <td>Hispânico Sul</td>\n",
              "      <td>Argentina</td>\n",
              "      <td>EPSA</td>\n",
              "      <td>Mining</td>\n",
              "      <td>ART</td>\n",
              "      <td>A040F320538</td>\n",
              "      <td>VCEA040FCG0320538</td>\n",
              "      <td>2020-11-26</td>\n",
              "      <td>NaN</td>\n",
              "      <td>San Luis</td>\n",
              "      <td>Argentina</td>\n",
              "    </tr>\n",
              "    <tr>\n",
              "      <th>1</th>\n",
              "      <td>Hispânico Sul</td>\n",
              "      <td>Argentina</td>\n",
              "      <td>EPSA</td>\n",
              "      <td>Construction</td>\n",
              "      <td>ART</td>\n",
              "      <td>A30G732052</td>\n",
              "      <td>VCE0A30GCL0732052</td>\n",
              "      <td>2020-06-22</td>\n",
              "      <td>NaN</td>\n",
              "      <td>San Juan</td>\n",
              "      <td>Argentina</td>\n",
              "    </tr>\n",
              "    <tr>\n",
              "      <th>2</th>\n",
              "      <td>Hispânico Sul</td>\n",
              "      <td>Argentina</td>\n",
              "      <td>EPSA</td>\n",
              "      <td>Mining</td>\n",
              "      <td>ART</td>\n",
              "      <td>A30G732029</td>\n",
              "      <td>NaN</td>\n",
              "      <td>2019-11-27</td>\n",
              "      <td>Não encontramos com os métodos de pesquisa uti...</td>\n",
              "      <td>Entre Ríos</td>\n",
              "      <td>Argentina</td>\n",
              "    </tr>\n",
              "    <tr>\n",
              "      <th>3</th>\n",
              "      <td>Hispânico Sul</td>\n",
              "      <td>Argentina</td>\n",
              "      <td>EPSA</td>\n",
              "      <td>Mining</td>\n",
              "      <td>EXC</td>\n",
              "      <td>EC210282764</td>\n",
              "      <td>VCEC210DH00282764</td>\n",
              "      <td>2019-06-06</td>\n",
              "      <td>NaN</td>\n",
              "      <td>0</td>\n",
              "      <td>Argentina</td>\n",
              "    </tr>\n",
              "    <tr>\n",
              "      <th>4</th>\n",
              "      <td>Hispânico Sul</td>\n",
              "      <td>Argentina</td>\n",
              "      <td>EPSA</td>\n",
              "      <td>Forestry</td>\n",
              "      <td>EXC</td>\n",
              "      <td>EC210282811</td>\n",
              "      <td>VCEC210DV00282811</td>\n",
              "      <td>2019-09-13</td>\n",
              "      <td>Não encontramos com os métodos de pesquisa uti...</td>\n",
              "      <td>0</td>\n",
              "      <td>Argentina</td>\n",
              "    </tr>\n",
              "  </tbody>\n",
              "</table>\n",
              "</div>\n",
              "      <button class=\"colab-df-convert\" onclick=\"convertToInteractive('df-3a7a5df9-7518-4e6f-a7c9-b7eaa572ce66')\"\n",
              "              title=\"Convert this dataframe to an interactive table.\"\n",
              "              style=\"display:none;\">\n",
              "        \n",
              "  <svg xmlns=\"http://www.w3.org/2000/svg\" height=\"24px\"viewBox=\"0 0 24 24\"\n",
              "       width=\"24px\">\n",
              "    <path d=\"M0 0h24v24H0V0z\" fill=\"none\"/>\n",
              "    <path d=\"M18.56 5.44l.94 2.06.94-2.06 2.06-.94-2.06-.94-.94-2.06-.94 2.06-2.06.94zm-11 1L8.5 8.5l.94-2.06 2.06-.94-2.06-.94L8.5 2.5l-.94 2.06-2.06.94zm10 10l.94 2.06.94-2.06 2.06-.94-2.06-.94-.94-2.06-.94 2.06-2.06.94z\"/><path d=\"M17.41 7.96l-1.37-1.37c-.4-.4-.92-.59-1.43-.59-.52 0-1.04.2-1.43.59L10.3 9.45l-7.72 7.72c-.78.78-.78 2.05 0 2.83L4 21.41c.39.39.9.59 1.41.59.51 0 1.02-.2 1.41-.59l7.78-7.78 2.81-2.81c.8-.78.8-2.07 0-2.86zM5.41 20L4 18.59l7.72-7.72 1.47 1.35L5.41 20z\"/>\n",
              "  </svg>\n",
              "      </button>\n",
              "      \n",
              "  <style>\n",
              "    .colab-df-container {\n",
              "      display:flex;\n",
              "      flex-wrap:wrap;\n",
              "      gap: 12px;\n",
              "    }\n",
              "\n",
              "    .colab-df-convert {\n",
              "      background-color: #E8F0FE;\n",
              "      border: none;\n",
              "      border-radius: 50%;\n",
              "      cursor: pointer;\n",
              "      display: none;\n",
              "      fill: #1967D2;\n",
              "      height: 32px;\n",
              "      padding: 0 0 0 0;\n",
              "      width: 32px;\n",
              "    }\n",
              "\n",
              "    .colab-df-convert:hover {\n",
              "      background-color: #E2EBFA;\n",
              "      box-shadow: 0px 1px 2px rgba(60, 64, 67, 0.3), 0px 1px 3px 1px rgba(60, 64, 67, 0.15);\n",
              "      fill: #174EA6;\n",
              "    }\n",
              "\n",
              "    [theme=dark] .colab-df-convert {\n",
              "      background-color: #3B4455;\n",
              "      fill: #D2E3FC;\n",
              "    }\n",
              "\n",
              "    [theme=dark] .colab-df-convert:hover {\n",
              "      background-color: #434B5C;\n",
              "      box-shadow: 0px 1px 3px 1px rgba(0, 0, 0, 0.15);\n",
              "      filter: drop-shadow(0px 1px 2px rgba(0, 0, 0, 0.3));\n",
              "      fill: #FFFFFF;\n",
              "    }\n",
              "  </style>\n",
              "\n",
              "      <script>\n",
              "        const buttonEl =\n",
              "          document.querySelector('#df-3a7a5df9-7518-4e6f-a7c9-b7eaa572ce66 button.colab-df-convert');\n",
              "        buttonEl.style.display =\n",
              "          google.colab.kernel.accessAllowed ? 'block' : 'none';\n",
              "\n",
              "        async function convertToInteractive(key) {\n",
              "          const element = document.querySelector('#df-3a7a5df9-7518-4e6f-a7c9-b7eaa572ce66');\n",
              "          const dataTable =\n",
              "            await google.colab.kernel.invokeFunction('convertToInteractive',\n",
              "                                                     [key], {});\n",
              "          if (!dataTable) return;\n",
              "\n",
              "          const docLinkHtml = 'Like what you see? Visit the ' +\n",
              "            '<a target=\"_blank\" href=https://colab.research.google.com/notebooks/data_table.ipynb>data table notebook</a>'\n",
              "            + ' to learn more about interactive tables.';\n",
              "          element.innerHTML = '';\n",
              "          dataTable['output_type'] = 'display_data';\n",
              "          await google.colab.output.renderOutput(dataTable, element);\n",
              "          const docLink = document.createElement('div');\n",
              "          docLink.innerHTML = docLinkHtml;\n",
              "          element.appendChild(docLink);\n",
              "        }\n",
              "      </script>\n",
              "    </div>\n",
              "  </div>\n",
              "  "
            ]
          },
          "metadata": {},
          "execution_count": 38
        }
      ]
    },
    {
      "cell_type": "code",
      "source": [
        "# Read table_time_series\n",
        "table_time_series.head()"
      ],
      "metadata": {
        "colab": {
          "base_uri": "https://localhost:8080/",
          "height": 206
        },
        "id": "EYgnqD-5m23g",
        "outputId": "6d5ad214-e44a-425a-95ca-0080b04433dd"
      },
      "execution_count": 39,
      "outputs": [
        {
          "output_type": "execute_result",
          "data": {
            "text/plain": [
              "   Unnamed: 0  Chassis Id* Machine History Date Day  \\\n",
              "0         NaN  A030F720057               2016-12-09   \n",
              "1         NaN  A030F720057               2016-12-10   \n",
              "2         NaN  A030F720057               2016-12-11   \n",
              "3         NaN  A030F720057               2016-12-12   \n",
              "4         NaN  A030F720057               2016-12-13   \n",
              "\n",
              "   Compensated Working Hours By Day  \n",
              "0                              0.00  \n",
              "1                              5.75  \n",
              "2                              8.95  \n",
              "3                              1.60  \n",
              "4                              8.20  "
            ],
            "text/html": [
              "\n",
              "  <div id=\"df-d99cfab7-45d0-4ddc-910b-b8d177cabe6b\">\n",
              "    <div class=\"colab-df-container\">\n",
              "      <div>\n",
              "<style scoped>\n",
              "    .dataframe tbody tr th:only-of-type {\n",
              "        vertical-align: middle;\n",
              "    }\n",
              "\n",
              "    .dataframe tbody tr th {\n",
              "        vertical-align: top;\n",
              "    }\n",
              "\n",
              "    .dataframe thead th {\n",
              "        text-align: right;\n",
              "    }\n",
              "</style>\n",
              "<table border=\"1\" class=\"dataframe\">\n",
              "  <thead>\n",
              "    <tr style=\"text-align: right;\">\n",
              "      <th></th>\n",
              "      <th>Unnamed: 0</th>\n",
              "      <th>Chassis Id*</th>\n",
              "      <th>Machine History Date Day</th>\n",
              "      <th>Compensated Working Hours By Day</th>\n",
              "    </tr>\n",
              "  </thead>\n",
              "  <tbody>\n",
              "    <tr>\n",
              "      <th>0</th>\n",
              "      <td>NaN</td>\n",
              "      <td>A030F720057</td>\n",
              "      <td>2016-12-09</td>\n",
              "      <td>0.00</td>\n",
              "    </tr>\n",
              "    <tr>\n",
              "      <th>1</th>\n",
              "      <td>NaN</td>\n",
              "      <td>A030F720057</td>\n",
              "      <td>2016-12-10</td>\n",
              "      <td>5.75</td>\n",
              "    </tr>\n",
              "    <tr>\n",
              "      <th>2</th>\n",
              "      <td>NaN</td>\n",
              "      <td>A030F720057</td>\n",
              "      <td>2016-12-11</td>\n",
              "      <td>8.95</td>\n",
              "    </tr>\n",
              "    <tr>\n",
              "      <th>3</th>\n",
              "      <td>NaN</td>\n",
              "      <td>A030F720057</td>\n",
              "      <td>2016-12-12</td>\n",
              "      <td>1.60</td>\n",
              "    </tr>\n",
              "    <tr>\n",
              "      <th>4</th>\n",
              "      <td>NaN</td>\n",
              "      <td>A030F720057</td>\n",
              "      <td>2016-12-13</td>\n",
              "      <td>8.20</td>\n",
              "    </tr>\n",
              "  </tbody>\n",
              "</table>\n",
              "</div>\n",
              "      <button class=\"colab-df-convert\" onclick=\"convertToInteractive('df-d99cfab7-45d0-4ddc-910b-b8d177cabe6b')\"\n",
              "              title=\"Convert this dataframe to an interactive table.\"\n",
              "              style=\"display:none;\">\n",
              "        \n",
              "  <svg xmlns=\"http://www.w3.org/2000/svg\" height=\"24px\"viewBox=\"0 0 24 24\"\n",
              "       width=\"24px\">\n",
              "    <path d=\"M0 0h24v24H0V0z\" fill=\"none\"/>\n",
              "    <path d=\"M18.56 5.44l.94 2.06.94-2.06 2.06-.94-2.06-.94-.94-2.06-.94 2.06-2.06.94zm-11 1L8.5 8.5l.94-2.06 2.06-.94-2.06-.94L8.5 2.5l-.94 2.06-2.06.94zm10 10l.94 2.06.94-2.06 2.06-.94-2.06-.94-.94-2.06-.94 2.06-2.06.94z\"/><path d=\"M17.41 7.96l-1.37-1.37c-.4-.4-.92-.59-1.43-.59-.52 0-1.04.2-1.43.59L10.3 9.45l-7.72 7.72c-.78.78-.78 2.05 0 2.83L4 21.41c.39.39.9.59 1.41.59.51 0 1.02-.2 1.41-.59l7.78-7.78 2.81-2.81c.8-.78.8-2.07 0-2.86zM5.41 20L4 18.59l7.72-7.72 1.47 1.35L5.41 20z\"/>\n",
              "  </svg>\n",
              "      </button>\n",
              "      \n",
              "  <style>\n",
              "    .colab-df-container {\n",
              "      display:flex;\n",
              "      flex-wrap:wrap;\n",
              "      gap: 12px;\n",
              "    }\n",
              "\n",
              "    .colab-df-convert {\n",
              "      background-color: #E8F0FE;\n",
              "      border: none;\n",
              "      border-radius: 50%;\n",
              "      cursor: pointer;\n",
              "      display: none;\n",
              "      fill: #1967D2;\n",
              "      height: 32px;\n",
              "      padding: 0 0 0 0;\n",
              "      width: 32px;\n",
              "    }\n",
              "\n",
              "    .colab-df-convert:hover {\n",
              "      background-color: #E2EBFA;\n",
              "      box-shadow: 0px 1px 2px rgba(60, 64, 67, 0.3), 0px 1px 3px 1px rgba(60, 64, 67, 0.15);\n",
              "      fill: #174EA6;\n",
              "    }\n",
              "\n",
              "    [theme=dark] .colab-df-convert {\n",
              "      background-color: #3B4455;\n",
              "      fill: #D2E3FC;\n",
              "    }\n",
              "\n",
              "    [theme=dark] .colab-df-convert:hover {\n",
              "      background-color: #434B5C;\n",
              "      box-shadow: 0px 1px 3px 1px rgba(0, 0, 0, 0.15);\n",
              "      filter: drop-shadow(0px 1px 2px rgba(0, 0, 0, 0.3));\n",
              "      fill: #FFFFFF;\n",
              "    }\n",
              "  </style>\n",
              "\n",
              "      <script>\n",
              "        const buttonEl =\n",
              "          document.querySelector('#df-d99cfab7-45d0-4ddc-910b-b8d177cabe6b button.colab-df-convert');\n",
              "        buttonEl.style.display =\n",
              "          google.colab.kernel.accessAllowed ? 'block' : 'none';\n",
              "\n",
              "        async function convertToInteractive(key) {\n",
              "          const element = document.querySelector('#df-d99cfab7-45d0-4ddc-910b-b8d177cabe6b');\n",
              "          const dataTable =\n",
              "            await google.colab.kernel.invokeFunction('convertToInteractive',\n",
              "                                                     [key], {});\n",
              "          if (!dataTable) return;\n",
              "\n",
              "          const docLinkHtml = 'Like what you see? Visit the ' +\n",
              "            '<a target=\"_blank\" href=https://colab.research.google.com/notebooks/data_table.ipynb>data table notebook</a>'\n",
              "            + ' to learn more about interactive tables.';\n",
              "          element.innerHTML = '';\n",
              "          dataTable['output_type'] = 'display_data';\n",
              "          await google.colab.output.renderOutput(dataTable, element);\n",
              "          const docLink = document.createElement('div');\n",
              "          docLink.innerHTML = docLinkHtml;\n",
              "          element.appendChild(docLink);\n",
              "        }\n",
              "      </script>\n",
              "    </div>\n",
              "  </div>\n",
              "  "
            ]
          },
          "metadata": {},
          "execution_count": 39
        }
      ]
    },
    {
      "cell_type": "code",
      "source": [
        "# Rename columns\n",
        "table_equipments.rename(columns = {'Chassis ID' : 'ID'}, inplace = True)\n",
        "table_time_series.rename(columns = {'Chassis Id*' : 'ID',\n",
        "                        'Machine History Date Day' : 'Day',\n",
        "                        'Compensated Working Hours By Day': 'Time' }, inplace = True)\n",
        "\n",
        "# Drop columns\n",
        "table_time_series.drop('Unnamed: 0', axis = 1,inplace = True)"
      ],
      "metadata": {
        "id": "Ok0GhhR-moEJ"
      },
      "execution_count": 40,
      "outputs": []
    },
    {
      "cell_type": "markdown",
      "metadata": {
        "id": "eFdvEIpZrM05"
      },
      "source": [
        "## 3 - Business Understanding / Data understanding"
      ]
    },
    {
      "cell_type": "markdown",
      "metadata": {
        "id": "c4lS8p01rM05"
      },
      "source": [
        "### Hipóteses\n",
        "\n",
        "* H0: É possível prever o horímetro da máquina com base no historico de resgistros com\n",
        "precisão significativamente maior que a fornecida pelo cálculo atual (baseado em médias)\n",
        "\n",
        "* H1: É possivel utilizar a mesma técnica para os 3 cenários de medição do problema:\n",
        "Máquinas que enviaram dados nos últimos 4 dias; máquinas que enviaram dados mas não\n",
        "recententemente; máquinas que nunca enviaram dados.\n",
        "\n",
        "* H2: A técnica proposta garante resultados independentemente da classe da máquina:\n",
        "AHL; WL; EXC\n",
        "\n",
        "* H3: A técnica proposta garante resultados independentemente do segmento de aplicação\n",
        "da máquina.\n",
        "\n",
        "* H4: A técnica proposta garante resultados independentemente do país onde a máquina\n",
        "está localizada\n",
        "\n",
        "* H5: A técnica proposta garante resultados independentemente do Dealer que realizou a\n",
        "venda\n",
        "\n",
        "* H6: A técnica proposta garante resultados independentemente da idade da máquina"
      ]
    },
    {
      "cell_type": "markdown",
      "metadata": {
        "id": "fSmGk3IhrM06"
      },
      "source": [
        "### Objetivo:\n",
        "\n",
        "**Impacto do Projeto**\n",
        "\n",
        "***Melhor Gestão da Frota Circulante***\n",
        "* Aumento da eficiência operacional da rede de distribuição\n",
        "* Antecipação de necessidades dos Clientes\n",
        "* Aumento da Produtividade das Máquinas (Uptime)\n",
        "* Identificação de novas oportunidades em vendas de Peças e Serviços não são exploradas\n",
        "* Aumento de satisfação dos clientes Volvo CE"
      ]
    },
    {
      "cell_type": "code",
      "execution_count": 41,
      "metadata": {
        "id": "nw-OdiierM06",
        "outputId": "57033cfc-c691-4096-b132-0bf528eacc52",
        "colab": {
          "base_uri": "https://localhost:8080/",
          "height": 206
        }
      },
      "outputs": [
        {
          "output_type": "execute_result",
          "data": {
            "text/plain": [
              "          Região       País Dealer      Segmento Modelo           ID  \\\n",
              "0  Hispânico Sul  Argentina   EPSA        Mining    ART  A040F320538   \n",
              "1  Hispânico Sul  Argentina   EPSA  Construction    ART   A30G732052   \n",
              "2  Hispânico Sul  Argentina   EPSA        Mining    ART   A30G732029   \n",
              "3  Hispânico Sul  Argentina   EPSA        Mining    EXC  EC210282764   \n",
              "4  Hispânico Sul  Argentina   EPSA      Forestry    EXC  EC210282811   \n",
              "\n",
              "               PIN17 Delivery Date  \\\n",
              "0  VCEA040FCG0320538    2020-11-26   \n",
              "1  VCE0A30GCL0732052    2020-06-22   \n",
              "2                NaN    2019-11-27   \n",
              "3  VCEC210DH00282764    2019-06-06   \n",
              "4  VCEC210DV00282811    2019-09-13   \n",
              "\n",
              "                                               Obs.:      Estado   Região.1  \n",
              "0                                                NaN    San Luis  Argentina  \n",
              "1                                                NaN    San Juan  Argentina  \n",
              "2  Não encontramos com os métodos de pesquisa uti...  Entre Ríos  Argentina  \n",
              "3                                                NaN           0  Argentina  \n",
              "4  Não encontramos com os métodos de pesquisa uti...           0  Argentina  "
            ],
            "text/html": [
              "\n",
              "  <div id=\"df-f5038bf0-5de0-4bd9-9d12-2a94da84e24f\">\n",
              "    <div class=\"colab-df-container\">\n",
              "      <div>\n",
              "<style scoped>\n",
              "    .dataframe tbody tr th:only-of-type {\n",
              "        vertical-align: middle;\n",
              "    }\n",
              "\n",
              "    .dataframe tbody tr th {\n",
              "        vertical-align: top;\n",
              "    }\n",
              "\n",
              "    .dataframe thead th {\n",
              "        text-align: right;\n",
              "    }\n",
              "</style>\n",
              "<table border=\"1\" class=\"dataframe\">\n",
              "  <thead>\n",
              "    <tr style=\"text-align: right;\">\n",
              "      <th></th>\n",
              "      <th>Região</th>\n",
              "      <th>País</th>\n",
              "      <th>Dealer</th>\n",
              "      <th>Segmento</th>\n",
              "      <th>Modelo</th>\n",
              "      <th>ID</th>\n",
              "      <th>PIN17</th>\n",
              "      <th>Delivery Date</th>\n",
              "      <th>Obs.:</th>\n",
              "      <th>Estado</th>\n",
              "      <th>Região.1</th>\n",
              "    </tr>\n",
              "  </thead>\n",
              "  <tbody>\n",
              "    <tr>\n",
              "      <th>0</th>\n",
              "      <td>Hispânico Sul</td>\n",
              "      <td>Argentina</td>\n",
              "      <td>EPSA</td>\n",
              "      <td>Mining</td>\n",
              "      <td>ART</td>\n",
              "      <td>A040F320538</td>\n",
              "      <td>VCEA040FCG0320538</td>\n",
              "      <td>2020-11-26</td>\n",
              "      <td>NaN</td>\n",
              "      <td>San Luis</td>\n",
              "      <td>Argentina</td>\n",
              "    </tr>\n",
              "    <tr>\n",
              "      <th>1</th>\n",
              "      <td>Hispânico Sul</td>\n",
              "      <td>Argentina</td>\n",
              "      <td>EPSA</td>\n",
              "      <td>Construction</td>\n",
              "      <td>ART</td>\n",
              "      <td>A30G732052</td>\n",
              "      <td>VCE0A30GCL0732052</td>\n",
              "      <td>2020-06-22</td>\n",
              "      <td>NaN</td>\n",
              "      <td>San Juan</td>\n",
              "      <td>Argentina</td>\n",
              "    </tr>\n",
              "    <tr>\n",
              "      <th>2</th>\n",
              "      <td>Hispânico Sul</td>\n",
              "      <td>Argentina</td>\n",
              "      <td>EPSA</td>\n",
              "      <td>Mining</td>\n",
              "      <td>ART</td>\n",
              "      <td>A30G732029</td>\n",
              "      <td>NaN</td>\n",
              "      <td>2019-11-27</td>\n",
              "      <td>Não encontramos com os métodos de pesquisa uti...</td>\n",
              "      <td>Entre Ríos</td>\n",
              "      <td>Argentina</td>\n",
              "    </tr>\n",
              "    <tr>\n",
              "      <th>3</th>\n",
              "      <td>Hispânico Sul</td>\n",
              "      <td>Argentina</td>\n",
              "      <td>EPSA</td>\n",
              "      <td>Mining</td>\n",
              "      <td>EXC</td>\n",
              "      <td>EC210282764</td>\n",
              "      <td>VCEC210DH00282764</td>\n",
              "      <td>2019-06-06</td>\n",
              "      <td>NaN</td>\n",
              "      <td>0</td>\n",
              "      <td>Argentina</td>\n",
              "    </tr>\n",
              "    <tr>\n",
              "      <th>4</th>\n",
              "      <td>Hispânico Sul</td>\n",
              "      <td>Argentina</td>\n",
              "      <td>EPSA</td>\n",
              "      <td>Forestry</td>\n",
              "      <td>EXC</td>\n",
              "      <td>EC210282811</td>\n",
              "      <td>VCEC210DV00282811</td>\n",
              "      <td>2019-09-13</td>\n",
              "      <td>Não encontramos com os métodos de pesquisa uti...</td>\n",
              "      <td>0</td>\n",
              "      <td>Argentina</td>\n",
              "    </tr>\n",
              "  </tbody>\n",
              "</table>\n",
              "</div>\n",
              "      <button class=\"colab-df-convert\" onclick=\"convertToInteractive('df-f5038bf0-5de0-4bd9-9d12-2a94da84e24f')\"\n",
              "              title=\"Convert this dataframe to an interactive table.\"\n",
              "              style=\"display:none;\">\n",
              "        \n",
              "  <svg xmlns=\"http://www.w3.org/2000/svg\" height=\"24px\"viewBox=\"0 0 24 24\"\n",
              "       width=\"24px\">\n",
              "    <path d=\"M0 0h24v24H0V0z\" fill=\"none\"/>\n",
              "    <path d=\"M18.56 5.44l.94 2.06.94-2.06 2.06-.94-2.06-.94-.94-2.06-.94 2.06-2.06.94zm-11 1L8.5 8.5l.94-2.06 2.06-.94-2.06-.94L8.5 2.5l-.94 2.06-2.06.94zm10 10l.94 2.06.94-2.06 2.06-.94-2.06-.94-.94-2.06-.94 2.06-2.06.94z\"/><path d=\"M17.41 7.96l-1.37-1.37c-.4-.4-.92-.59-1.43-.59-.52 0-1.04.2-1.43.59L10.3 9.45l-7.72 7.72c-.78.78-.78 2.05 0 2.83L4 21.41c.39.39.9.59 1.41.59.51 0 1.02-.2 1.41-.59l7.78-7.78 2.81-2.81c.8-.78.8-2.07 0-2.86zM5.41 20L4 18.59l7.72-7.72 1.47 1.35L5.41 20z\"/>\n",
              "  </svg>\n",
              "      </button>\n",
              "      \n",
              "  <style>\n",
              "    .colab-df-container {\n",
              "      display:flex;\n",
              "      flex-wrap:wrap;\n",
              "      gap: 12px;\n",
              "    }\n",
              "\n",
              "    .colab-df-convert {\n",
              "      background-color: #E8F0FE;\n",
              "      border: none;\n",
              "      border-radius: 50%;\n",
              "      cursor: pointer;\n",
              "      display: none;\n",
              "      fill: #1967D2;\n",
              "      height: 32px;\n",
              "      padding: 0 0 0 0;\n",
              "      width: 32px;\n",
              "    }\n",
              "\n",
              "    .colab-df-convert:hover {\n",
              "      background-color: #E2EBFA;\n",
              "      box-shadow: 0px 1px 2px rgba(60, 64, 67, 0.3), 0px 1px 3px 1px rgba(60, 64, 67, 0.15);\n",
              "      fill: #174EA6;\n",
              "    }\n",
              "\n",
              "    [theme=dark] .colab-df-convert {\n",
              "      background-color: #3B4455;\n",
              "      fill: #D2E3FC;\n",
              "    }\n",
              "\n",
              "    [theme=dark] .colab-df-convert:hover {\n",
              "      background-color: #434B5C;\n",
              "      box-shadow: 0px 1px 3px 1px rgba(0, 0, 0, 0.15);\n",
              "      filter: drop-shadow(0px 1px 2px rgba(0, 0, 0, 0.3));\n",
              "      fill: #FFFFFF;\n",
              "    }\n",
              "  </style>\n",
              "\n",
              "      <script>\n",
              "        const buttonEl =\n",
              "          document.querySelector('#df-f5038bf0-5de0-4bd9-9d12-2a94da84e24f button.colab-df-convert');\n",
              "        buttonEl.style.display =\n",
              "          google.colab.kernel.accessAllowed ? 'block' : 'none';\n",
              "\n",
              "        async function convertToInteractive(key) {\n",
              "          const element = document.querySelector('#df-f5038bf0-5de0-4bd9-9d12-2a94da84e24f');\n",
              "          const dataTable =\n",
              "            await google.colab.kernel.invokeFunction('convertToInteractive',\n",
              "                                                     [key], {});\n",
              "          if (!dataTable) return;\n",
              "\n",
              "          const docLinkHtml = 'Like what you see? Visit the ' +\n",
              "            '<a target=\"_blank\" href=https://colab.research.google.com/notebooks/data_table.ipynb>data table notebook</a>'\n",
              "            + ' to learn more about interactive tables.';\n",
              "          element.innerHTML = '';\n",
              "          dataTable['output_type'] = 'display_data';\n",
              "          await google.colab.output.renderOutput(dataTable, element);\n",
              "          const docLink = document.createElement('div');\n",
              "          docLink.innerHTML = docLinkHtml;\n",
              "          element.appendChild(docLink);\n",
              "        }\n",
              "      </script>\n",
              "    </div>\n",
              "  </div>\n",
              "  "
            ]
          },
          "metadata": {},
          "execution_count": 41
        }
      ],
      "source": [
        "table_equipments.head()"
      ]
    },
    {
      "cell_type": "code",
      "execution_count": 42,
      "metadata": {
        "id": "PvWkd4-irM07",
        "outputId": "8fb876a5-2f40-445d-f416-1b6eeda2500e",
        "colab": {
          "base_uri": "https://localhost:8080/",
          "height": 206
        }
      },
      "outputs": [
        {
          "output_type": "execute_result",
          "data": {
            "text/plain": [
              "            ID        Day  Time\n",
              "0  A030F720057 2016-12-09  0.00\n",
              "1  A030F720057 2016-12-10  5.75\n",
              "2  A030F720057 2016-12-11  8.95\n",
              "3  A030F720057 2016-12-12  1.60\n",
              "4  A030F720057 2016-12-13  8.20"
            ],
            "text/html": [
              "\n",
              "  <div id=\"df-7d7c9c1d-b8f6-4984-8bbe-d648b1e7813d\">\n",
              "    <div class=\"colab-df-container\">\n",
              "      <div>\n",
              "<style scoped>\n",
              "    .dataframe tbody tr th:only-of-type {\n",
              "        vertical-align: middle;\n",
              "    }\n",
              "\n",
              "    .dataframe tbody tr th {\n",
              "        vertical-align: top;\n",
              "    }\n",
              "\n",
              "    .dataframe thead th {\n",
              "        text-align: right;\n",
              "    }\n",
              "</style>\n",
              "<table border=\"1\" class=\"dataframe\">\n",
              "  <thead>\n",
              "    <tr style=\"text-align: right;\">\n",
              "      <th></th>\n",
              "      <th>ID</th>\n",
              "      <th>Day</th>\n",
              "      <th>Time</th>\n",
              "    </tr>\n",
              "  </thead>\n",
              "  <tbody>\n",
              "    <tr>\n",
              "      <th>0</th>\n",
              "      <td>A030F720057</td>\n",
              "      <td>2016-12-09</td>\n",
              "      <td>0.00</td>\n",
              "    </tr>\n",
              "    <tr>\n",
              "      <th>1</th>\n",
              "      <td>A030F720057</td>\n",
              "      <td>2016-12-10</td>\n",
              "      <td>5.75</td>\n",
              "    </tr>\n",
              "    <tr>\n",
              "      <th>2</th>\n",
              "      <td>A030F720057</td>\n",
              "      <td>2016-12-11</td>\n",
              "      <td>8.95</td>\n",
              "    </tr>\n",
              "    <tr>\n",
              "      <th>3</th>\n",
              "      <td>A030F720057</td>\n",
              "      <td>2016-12-12</td>\n",
              "      <td>1.60</td>\n",
              "    </tr>\n",
              "    <tr>\n",
              "      <th>4</th>\n",
              "      <td>A030F720057</td>\n",
              "      <td>2016-12-13</td>\n",
              "      <td>8.20</td>\n",
              "    </tr>\n",
              "  </tbody>\n",
              "</table>\n",
              "</div>\n",
              "      <button class=\"colab-df-convert\" onclick=\"convertToInteractive('df-7d7c9c1d-b8f6-4984-8bbe-d648b1e7813d')\"\n",
              "              title=\"Convert this dataframe to an interactive table.\"\n",
              "              style=\"display:none;\">\n",
              "        \n",
              "  <svg xmlns=\"http://www.w3.org/2000/svg\" height=\"24px\"viewBox=\"0 0 24 24\"\n",
              "       width=\"24px\">\n",
              "    <path d=\"M0 0h24v24H0V0z\" fill=\"none\"/>\n",
              "    <path d=\"M18.56 5.44l.94 2.06.94-2.06 2.06-.94-2.06-.94-.94-2.06-.94 2.06-2.06.94zm-11 1L8.5 8.5l.94-2.06 2.06-.94-2.06-.94L8.5 2.5l-.94 2.06-2.06.94zm10 10l.94 2.06.94-2.06 2.06-.94-2.06-.94-.94-2.06-.94 2.06-2.06.94z\"/><path d=\"M17.41 7.96l-1.37-1.37c-.4-.4-.92-.59-1.43-.59-.52 0-1.04.2-1.43.59L10.3 9.45l-7.72 7.72c-.78.78-.78 2.05 0 2.83L4 21.41c.39.39.9.59 1.41.59.51 0 1.02-.2 1.41-.59l7.78-7.78 2.81-2.81c.8-.78.8-2.07 0-2.86zM5.41 20L4 18.59l7.72-7.72 1.47 1.35L5.41 20z\"/>\n",
              "  </svg>\n",
              "      </button>\n",
              "      \n",
              "  <style>\n",
              "    .colab-df-container {\n",
              "      display:flex;\n",
              "      flex-wrap:wrap;\n",
              "      gap: 12px;\n",
              "    }\n",
              "\n",
              "    .colab-df-convert {\n",
              "      background-color: #E8F0FE;\n",
              "      border: none;\n",
              "      border-radius: 50%;\n",
              "      cursor: pointer;\n",
              "      display: none;\n",
              "      fill: #1967D2;\n",
              "      height: 32px;\n",
              "      padding: 0 0 0 0;\n",
              "      width: 32px;\n",
              "    }\n",
              "\n",
              "    .colab-df-convert:hover {\n",
              "      background-color: #E2EBFA;\n",
              "      box-shadow: 0px 1px 2px rgba(60, 64, 67, 0.3), 0px 1px 3px 1px rgba(60, 64, 67, 0.15);\n",
              "      fill: #174EA6;\n",
              "    }\n",
              "\n",
              "    [theme=dark] .colab-df-convert {\n",
              "      background-color: #3B4455;\n",
              "      fill: #D2E3FC;\n",
              "    }\n",
              "\n",
              "    [theme=dark] .colab-df-convert:hover {\n",
              "      background-color: #434B5C;\n",
              "      box-shadow: 0px 1px 3px 1px rgba(0, 0, 0, 0.15);\n",
              "      filter: drop-shadow(0px 1px 2px rgba(0, 0, 0, 0.3));\n",
              "      fill: #FFFFFF;\n",
              "    }\n",
              "  </style>\n",
              "\n",
              "      <script>\n",
              "        const buttonEl =\n",
              "          document.querySelector('#df-7d7c9c1d-b8f6-4984-8bbe-d648b1e7813d button.colab-df-convert');\n",
              "        buttonEl.style.display =\n",
              "          google.colab.kernel.accessAllowed ? 'block' : 'none';\n",
              "\n",
              "        async function convertToInteractive(key) {\n",
              "          const element = document.querySelector('#df-7d7c9c1d-b8f6-4984-8bbe-d648b1e7813d');\n",
              "          const dataTable =\n",
              "            await google.colab.kernel.invokeFunction('convertToInteractive',\n",
              "                                                     [key], {});\n",
              "          if (!dataTable) return;\n",
              "\n",
              "          const docLinkHtml = 'Like what you see? Visit the ' +\n",
              "            '<a target=\"_blank\" href=https://colab.research.google.com/notebooks/data_table.ipynb>data table notebook</a>'\n",
              "            + ' to learn more about interactive tables.';\n",
              "          element.innerHTML = '';\n",
              "          dataTable['output_type'] = 'display_data';\n",
              "          await google.colab.output.renderOutput(dataTable, element);\n",
              "          const docLink = document.createElement('div');\n",
              "          docLink.innerHTML = docLinkHtml;\n",
              "          element.appendChild(docLink);\n",
              "        }\n",
              "      </script>\n",
              "    </div>\n",
              "  </div>\n",
              "  "
            ]
          },
          "metadata": {},
          "execution_count": 42
        }
      ],
      "source": [
        "table_time_series.head()"
      ]
    },
    {
      "cell_type": "code",
      "execution_count": 43,
      "metadata": {
        "id": "W_vbtQWvrM07",
        "outputId": "af3b6b82-11de-4175-c059-a808298a428a",
        "colab": {
          "base_uri": "https://localhost:8080/"
        }
      },
      "outputs": [
        {
          "output_type": "stream",
          "name": "stdout",
          "text": [
            "<class 'pandas.core.frame.DataFrame'>\n",
            "RangeIndex: 63 entries, 0 to 62\n",
            "Data columns (total 11 columns):\n",
            " #   Column         Non-Null Count  Dtype         \n",
            "---  ------         --------------  -----         \n",
            " 0   Região         63 non-null     object        \n",
            " 1   País           63 non-null     object        \n",
            " 2   Dealer         63 non-null     object        \n",
            " 3   Segmento       63 non-null     object        \n",
            " 4   Modelo         63 non-null     object        \n",
            " 5   ID             63 non-null     object        \n",
            " 6   PIN17          57 non-null     object        \n",
            " 7   Delivery Date  62 non-null     datetime64[ns]\n",
            " 8   Obs.:          15 non-null     object        \n",
            " 9   Estado         63 non-null     object        \n",
            " 10  Região.1       63 non-null     object        \n",
            "dtypes: datetime64[ns](1), object(10)\n",
            "memory usage: 5.5+ KB\n"
          ]
        }
      ],
      "source": [
        "table_equipments.info()"
      ]
    },
    {
      "cell_type": "code",
      "execution_count": 44,
      "metadata": {
        "id": "Ruj8DUOQrM07",
        "outputId": "7c3baa86-0678-48ae-afd2-c5dfeb001e06",
        "colab": {
          "base_uri": "https://localhost:8080/"
        }
      },
      "outputs": [
        {
          "output_type": "stream",
          "name": "stdout",
          "text": [
            "<class 'pandas.core.frame.DataFrame'>\n",
            "RangeIndex: 118161 entries, 0 to 118160\n",
            "Data columns (total 3 columns):\n",
            " #   Column  Non-Null Count   Dtype         \n",
            "---  ------  --------------   -----         \n",
            " 0   ID      118161 non-null  object        \n",
            " 1   Day     118161 non-null  datetime64[ns]\n",
            " 2   Time    118161 non-null  float64       \n",
            "dtypes: datetime64[ns](1), float64(1), object(1)\n",
            "memory usage: 2.7+ MB\n"
          ]
        }
      ],
      "source": [
        "table_time_series.info()"
      ]
    },
    {
      "cell_type": "code",
      "execution_count": 45,
      "metadata": {
        "id": "q_Cv3US6rM07",
        "outputId": "f20706d6-cf74-4b83-d410-f7c9b1ade8b8",
        "colab": {
          "base_uri": "https://localhost:8080/",
          "height": 292
        }
      },
      "outputs": [
        {
          "output_type": "stream",
          "name": "stderr",
          "text": [
            "<ipython-input-45-0b85796f827e>:1: FutureWarning: Treating datetime data as categorical rather than numeric in `.describe` is deprecated and will be removed in a future version of pandas. Specify `datetime_is_numeric=True` to silence this warning and adopt the future behavior now.\n",
            "  table_equipments.describe()\n"
          ]
        },
        {
          "output_type": "execute_result",
          "data": {
            "text/plain": [
              "        Região    País     Dealer Segmento Modelo           ID  \\\n",
              "count       63      63         63       63     63           63   \n",
              "unique       3       3          7        5      3           63   \n",
              "top     Brasil  Brasil  Tecnoeste   Mining    ART  A040F320538   \n",
              "freq        45      45         10       23     21            1   \n",
              "first      NaN     NaN        NaN      NaN    NaN          NaN   \n",
              "last       NaN     NaN        NaN      NaN    NaN          NaN   \n",
              "\n",
              "                    PIN17        Delivery Date  \\\n",
              "count                  57                   62   \n",
              "unique                 57                   60   \n",
              "top     VCEA040FCG0320538  2018-06-15 00:00:00   \n",
              "freq                    1                    2   \n",
              "first                 NaN  2012-03-09 00:00:00   \n",
              "last                  NaN  2021-08-19 00:00:00   \n",
              "\n",
              "                                                  Obs.:        Estado Região.1  \n",
              "count                                                15            63       63  \n",
              "unique                                               12            29        7  \n",
              "top     Não existe articulado na Dinâmica no CareTrack.  Minas Gerais  Sudeste  \n",
              "freq                                                  3             9       14  \n",
              "first                                               NaN           NaN      NaN  \n",
              "last                                                NaN           NaN      NaN  "
            ],
            "text/html": [
              "\n",
              "  <div id=\"df-af8a6b9f-8f8f-43a7-8cba-41d18bfc8110\">\n",
              "    <div class=\"colab-df-container\">\n",
              "      <div>\n",
              "<style scoped>\n",
              "    .dataframe tbody tr th:only-of-type {\n",
              "        vertical-align: middle;\n",
              "    }\n",
              "\n",
              "    .dataframe tbody tr th {\n",
              "        vertical-align: top;\n",
              "    }\n",
              "\n",
              "    .dataframe thead th {\n",
              "        text-align: right;\n",
              "    }\n",
              "</style>\n",
              "<table border=\"1\" class=\"dataframe\">\n",
              "  <thead>\n",
              "    <tr style=\"text-align: right;\">\n",
              "      <th></th>\n",
              "      <th>Região</th>\n",
              "      <th>País</th>\n",
              "      <th>Dealer</th>\n",
              "      <th>Segmento</th>\n",
              "      <th>Modelo</th>\n",
              "      <th>ID</th>\n",
              "      <th>PIN17</th>\n",
              "      <th>Delivery Date</th>\n",
              "      <th>Obs.:</th>\n",
              "      <th>Estado</th>\n",
              "      <th>Região.1</th>\n",
              "    </tr>\n",
              "  </thead>\n",
              "  <tbody>\n",
              "    <tr>\n",
              "      <th>count</th>\n",
              "      <td>63</td>\n",
              "      <td>63</td>\n",
              "      <td>63</td>\n",
              "      <td>63</td>\n",
              "      <td>63</td>\n",
              "      <td>63</td>\n",
              "      <td>57</td>\n",
              "      <td>62</td>\n",
              "      <td>15</td>\n",
              "      <td>63</td>\n",
              "      <td>63</td>\n",
              "    </tr>\n",
              "    <tr>\n",
              "      <th>unique</th>\n",
              "      <td>3</td>\n",
              "      <td>3</td>\n",
              "      <td>7</td>\n",
              "      <td>5</td>\n",
              "      <td>3</td>\n",
              "      <td>63</td>\n",
              "      <td>57</td>\n",
              "      <td>60</td>\n",
              "      <td>12</td>\n",
              "      <td>29</td>\n",
              "      <td>7</td>\n",
              "    </tr>\n",
              "    <tr>\n",
              "      <th>top</th>\n",
              "      <td>Brasil</td>\n",
              "      <td>Brasil</td>\n",
              "      <td>Tecnoeste</td>\n",
              "      <td>Mining</td>\n",
              "      <td>ART</td>\n",
              "      <td>A040F320538</td>\n",
              "      <td>VCEA040FCG0320538</td>\n",
              "      <td>2018-06-15 00:00:00</td>\n",
              "      <td>Não existe articulado na Dinâmica no CareTrack.</td>\n",
              "      <td>Minas Gerais</td>\n",
              "      <td>Sudeste</td>\n",
              "    </tr>\n",
              "    <tr>\n",
              "      <th>freq</th>\n",
              "      <td>45</td>\n",
              "      <td>45</td>\n",
              "      <td>10</td>\n",
              "      <td>23</td>\n",
              "      <td>21</td>\n",
              "      <td>1</td>\n",
              "      <td>1</td>\n",
              "      <td>2</td>\n",
              "      <td>3</td>\n",
              "      <td>9</td>\n",
              "      <td>14</td>\n",
              "    </tr>\n",
              "    <tr>\n",
              "      <th>first</th>\n",
              "      <td>NaN</td>\n",
              "      <td>NaN</td>\n",
              "      <td>NaN</td>\n",
              "      <td>NaN</td>\n",
              "      <td>NaN</td>\n",
              "      <td>NaN</td>\n",
              "      <td>NaN</td>\n",
              "      <td>2012-03-09 00:00:00</td>\n",
              "      <td>NaN</td>\n",
              "      <td>NaN</td>\n",
              "      <td>NaN</td>\n",
              "    </tr>\n",
              "    <tr>\n",
              "      <th>last</th>\n",
              "      <td>NaN</td>\n",
              "      <td>NaN</td>\n",
              "      <td>NaN</td>\n",
              "      <td>NaN</td>\n",
              "      <td>NaN</td>\n",
              "      <td>NaN</td>\n",
              "      <td>NaN</td>\n",
              "      <td>2021-08-19 00:00:00</td>\n",
              "      <td>NaN</td>\n",
              "      <td>NaN</td>\n",
              "      <td>NaN</td>\n",
              "    </tr>\n",
              "  </tbody>\n",
              "</table>\n",
              "</div>\n",
              "      <button class=\"colab-df-convert\" onclick=\"convertToInteractive('df-af8a6b9f-8f8f-43a7-8cba-41d18bfc8110')\"\n",
              "              title=\"Convert this dataframe to an interactive table.\"\n",
              "              style=\"display:none;\">\n",
              "        \n",
              "  <svg xmlns=\"http://www.w3.org/2000/svg\" height=\"24px\"viewBox=\"0 0 24 24\"\n",
              "       width=\"24px\">\n",
              "    <path d=\"M0 0h24v24H0V0z\" fill=\"none\"/>\n",
              "    <path d=\"M18.56 5.44l.94 2.06.94-2.06 2.06-.94-2.06-.94-.94-2.06-.94 2.06-2.06.94zm-11 1L8.5 8.5l.94-2.06 2.06-.94-2.06-.94L8.5 2.5l-.94 2.06-2.06.94zm10 10l.94 2.06.94-2.06 2.06-.94-2.06-.94-.94-2.06-.94 2.06-2.06.94z\"/><path d=\"M17.41 7.96l-1.37-1.37c-.4-.4-.92-.59-1.43-.59-.52 0-1.04.2-1.43.59L10.3 9.45l-7.72 7.72c-.78.78-.78 2.05 0 2.83L4 21.41c.39.39.9.59 1.41.59.51 0 1.02-.2 1.41-.59l7.78-7.78 2.81-2.81c.8-.78.8-2.07 0-2.86zM5.41 20L4 18.59l7.72-7.72 1.47 1.35L5.41 20z\"/>\n",
              "  </svg>\n",
              "      </button>\n",
              "      \n",
              "  <style>\n",
              "    .colab-df-container {\n",
              "      display:flex;\n",
              "      flex-wrap:wrap;\n",
              "      gap: 12px;\n",
              "    }\n",
              "\n",
              "    .colab-df-convert {\n",
              "      background-color: #E8F0FE;\n",
              "      border: none;\n",
              "      border-radius: 50%;\n",
              "      cursor: pointer;\n",
              "      display: none;\n",
              "      fill: #1967D2;\n",
              "      height: 32px;\n",
              "      padding: 0 0 0 0;\n",
              "      width: 32px;\n",
              "    }\n",
              "\n",
              "    .colab-df-convert:hover {\n",
              "      background-color: #E2EBFA;\n",
              "      box-shadow: 0px 1px 2px rgba(60, 64, 67, 0.3), 0px 1px 3px 1px rgba(60, 64, 67, 0.15);\n",
              "      fill: #174EA6;\n",
              "    }\n",
              "\n",
              "    [theme=dark] .colab-df-convert {\n",
              "      background-color: #3B4455;\n",
              "      fill: #D2E3FC;\n",
              "    }\n",
              "\n",
              "    [theme=dark] .colab-df-convert:hover {\n",
              "      background-color: #434B5C;\n",
              "      box-shadow: 0px 1px 3px 1px rgba(0, 0, 0, 0.15);\n",
              "      filter: drop-shadow(0px 1px 2px rgba(0, 0, 0, 0.3));\n",
              "      fill: #FFFFFF;\n",
              "    }\n",
              "  </style>\n",
              "\n",
              "      <script>\n",
              "        const buttonEl =\n",
              "          document.querySelector('#df-af8a6b9f-8f8f-43a7-8cba-41d18bfc8110 button.colab-df-convert');\n",
              "        buttonEl.style.display =\n",
              "          google.colab.kernel.accessAllowed ? 'block' : 'none';\n",
              "\n",
              "        async function convertToInteractive(key) {\n",
              "          const element = document.querySelector('#df-af8a6b9f-8f8f-43a7-8cba-41d18bfc8110');\n",
              "          const dataTable =\n",
              "            await google.colab.kernel.invokeFunction('convertToInteractive',\n",
              "                                                     [key], {});\n",
              "          if (!dataTable) return;\n",
              "\n",
              "          const docLinkHtml = 'Like what you see? Visit the ' +\n",
              "            '<a target=\"_blank\" href=https://colab.research.google.com/notebooks/data_table.ipynb>data table notebook</a>'\n",
              "            + ' to learn more about interactive tables.';\n",
              "          element.innerHTML = '';\n",
              "          dataTable['output_type'] = 'display_data';\n",
              "          await google.colab.output.renderOutput(dataTable, element);\n",
              "          const docLink = document.createElement('div');\n",
              "          docLink.innerHTML = docLinkHtml;\n",
              "          element.appendChild(docLink);\n",
              "        }\n",
              "      </script>\n",
              "    </div>\n",
              "  </div>\n",
              "  "
            ]
          },
          "metadata": {},
          "execution_count": 45
        }
      ],
      "source": [
        "table_equipments.describe()"
      ]
    },
    {
      "cell_type": "code",
      "execution_count": 46,
      "metadata": {
        "id": "nLAq4q8srM08",
        "outputId": "6b16d55c-c0c0-4d16-a400-6161c66e2305",
        "colab": {
          "base_uri": "https://localhost:8080/",
          "height": 300
        }
      },
      "outputs": [
        {
          "output_type": "execute_result",
          "data": {
            "text/plain": [
              "                Time\n",
              "count  118161.000000\n",
              "mean        5.803329\n",
              "std         6.365152\n",
              "min         0.000000\n",
              "25%         0.038235\n",
              "50%         4.200000\n",
              "75%         9.200000\n",
              "max        85.450000"
            ],
            "text/html": [
              "\n",
              "  <div id=\"df-eefa2d45-ccf9-46c5-b8e6-57dad78aae42\">\n",
              "    <div class=\"colab-df-container\">\n",
              "      <div>\n",
              "<style scoped>\n",
              "    .dataframe tbody tr th:only-of-type {\n",
              "        vertical-align: middle;\n",
              "    }\n",
              "\n",
              "    .dataframe tbody tr th {\n",
              "        vertical-align: top;\n",
              "    }\n",
              "\n",
              "    .dataframe thead th {\n",
              "        text-align: right;\n",
              "    }\n",
              "</style>\n",
              "<table border=\"1\" class=\"dataframe\">\n",
              "  <thead>\n",
              "    <tr style=\"text-align: right;\">\n",
              "      <th></th>\n",
              "      <th>Time</th>\n",
              "    </tr>\n",
              "  </thead>\n",
              "  <tbody>\n",
              "    <tr>\n",
              "      <th>count</th>\n",
              "      <td>118161.000000</td>\n",
              "    </tr>\n",
              "    <tr>\n",
              "      <th>mean</th>\n",
              "      <td>5.803329</td>\n",
              "    </tr>\n",
              "    <tr>\n",
              "      <th>std</th>\n",
              "      <td>6.365152</td>\n",
              "    </tr>\n",
              "    <tr>\n",
              "      <th>min</th>\n",
              "      <td>0.000000</td>\n",
              "    </tr>\n",
              "    <tr>\n",
              "      <th>25%</th>\n",
              "      <td>0.038235</td>\n",
              "    </tr>\n",
              "    <tr>\n",
              "      <th>50%</th>\n",
              "      <td>4.200000</td>\n",
              "    </tr>\n",
              "    <tr>\n",
              "      <th>75%</th>\n",
              "      <td>9.200000</td>\n",
              "    </tr>\n",
              "    <tr>\n",
              "      <th>max</th>\n",
              "      <td>85.450000</td>\n",
              "    </tr>\n",
              "  </tbody>\n",
              "</table>\n",
              "</div>\n",
              "      <button class=\"colab-df-convert\" onclick=\"convertToInteractive('df-eefa2d45-ccf9-46c5-b8e6-57dad78aae42')\"\n",
              "              title=\"Convert this dataframe to an interactive table.\"\n",
              "              style=\"display:none;\">\n",
              "        \n",
              "  <svg xmlns=\"http://www.w3.org/2000/svg\" height=\"24px\"viewBox=\"0 0 24 24\"\n",
              "       width=\"24px\">\n",
              "    <path d=\"M0 0h24v24H0V0z\" fill=\"none\"/>\n",
              "    <path d=\"M18.56 5.44l.94 2.06.94-2.06 2.06-.94-2.06-.94-.94-2.06-.94 2.06-2.06.94zm-11 1L8.5 8.5l.94-2.06 2.06-.94-2.06-.94L8.5 2.5l-.94 2.06-2.06.94zm10 10l.94 2.06.94-2.06 2.06-.94-2.06-.94-.94-2.06-.94 2.06-2.06.94z\"/><path d=\"M17.41 7.96l-1.37-1.37c-.4-.4-.92-.59-1.43-.59-.52 0-1.04.2-1.43.59L10.3 9.45l-7.72 7.72c-.78.78-.78 2.05 0 2.83L4 21.41c.39.39.9.59 1.41.59.51 0 1.02-.2 1.41-.59l7.78-7.78 2.81-2.81c.8-.78.8-2.07 0-2.86zM5.41 20L4 18.59l7.72-7.72 1.47 1.35L5.41 20z\"/>\n",
              "  </svg>\n",
              "      </button>\n",
              "      \n",
              "  <style>\n",
              "    .colab-df-container {\n",
              "      display:flex;\n",
              "      flex-wrap:wrap;\n",
              "      gap: 12px;\n",
              "    }\n",
              "\n",
              "    .colab-df-convert {\n",
              "      background-color: #E8F0FE;\n",
              "      border: none;\n",
              "      border-radius: 50%;\n",
              "      cursor: pointer;\n",
              "      display: none;\n",
              "      fill: #1967D2;\n",
              "      height: 32px;\n",
              "      padding: 0 0 0 0;\n",
              "      width: 32px;\n",
              "    }\n",
              "\n",
              "    .colab-df-convert:hover {\n",
              "      background-color: #E2EBFA;\n",
              "      box-shadow: 0px 1px 2px rgba(60, 64, 67, 0.3), 0px 1px 3px 1px rgba(60, 64, 67, 0.15);\n",
              "      fill: #174EA6;\n",
              "    }\n",
              "\n",
              "    [theme=dark] .colab-df-convert {\n",
              "      background-color: #3B4455;\n",
              "      fill: #D2E3FC;\n",
              "    }\n",
              "\n",
              "    [theme=dark] .colab-df-convert:hover {\n",
              "      background-color: #434B5C;\n",
              "      box-shadow: 0px 1px 3px 1px rgba(0, 0, 0, 0.15);\n",
              "      filter: drop-shadow(0px 1px 2px rgba(0, 0, 0, 0.3));\n",
              "      fill: #FFFFFF;\n",
              "    }\n",
              "  </style>\n",
              "\n",
              "      <script>\n",
              "        const buttonEl =\n",
              "          document.querySelector('#df-eefa2d45-ccf9-46c5-b8e6-57dad78aae42 button.colab-df-convert');\n",
              "        buttonEl.style.display =\n",
              "          google.colab.kernel.accessAllowed ? 'block' : 'none';\n",
              "\n",
              "        async function convertToInteractive(key) {\n",
              "          const element = document.querySelector('#df-eefa2d45-ccf9-46c5-b8e6-57dad78aae42');\n",
              "          const dataTable =\n",
              "            await google.colab.kernel.invokeFunction('convertToInteractive',\n",
              "                                                     [key], {});\n",
              "          if (!dataTable) return;\n",
              "\n",
              "          const docLinkHtml = 'Like what you see? Visit the ' +\n",
              "            '<a target=\"_blank\" href=https://colab.research.google.com/notebooks/data_table.ipynb>data table notebook</a>'\n",
              "            + ' to learn more about interactive tables.';\n",
              "          element.innerHTML = '';\n",
              "          dataTable['output_type'] = 'display_data';\n",
              "          await google.colab.output.renderOutput(dataTable, element);\n",
              "          const docLink = document.createElement('div');\n",
              "          docLink.innerHTML = docLinkHtml;\n",
              "          element.appendChild(docLink);\n",
              "        }\n",
              "      </script>\n",
              "    </div>\n",
              "  </div>\n",
              "  "
            ]
          },
          "metadata": {},
          "execution_count": 46
        }
      ],
      "source": [
        "table_time_series.describe()"
      ]
    },
    {
      "cell_type": "code",
      "execution_count": 47,
      "metadata": {
        "id": "XlhlWl50rM08",
        "outputId": "994de00a-6ced-4106-c19d-81c186644ec9",
        "colab": {
          "base_uri": "https://localhost:8080/"
        }
      },
      "outputs": [
        {
          "output_type": "execute_result",
          "data": {
            "text/plain": [
              "63"
            ]
          },
          "metadata": {},
          "execution_count": 47
        }
      ],
      "source": [
        "table_equipments.ID.nunique()"
      ]
    },
    {
      "cell_type": "code",
      "execution_count": 48,
      "metadata": {
        "id": "lpSIqiFprM08",
        "outputId": "b944ea47-abb3-4d3a-8634-5307c440e9ca",
        "colab": {
          "base_uri": "https://localhost:8080/"
        }
      },
      "outputs": [
        {
          "output_type": "execute_result",
          "data": {
            "text/plain": [
              "62"
            ]
          },
          "metadata": {},
          "execution_count": 48
        }
      ],
      "source": [
        "table_time_series.ID.nunique()"
      ]
    },
    {
      "cell_type": "code",
      "execution_count": 49,
      "metadata": {
        "id": "Kq0pdgAfrM08"
      },
      "outputs": [],
      "source": [
        "id_equipments = table_equipments.ID.unique().tolist()\n",
        "id_time_series = table_time_series.ID.unique().tolist()"
      ]
    },
    {
      "cell_type": "code",
      "execution_count": 50,
      "metadata": {
        "id": "rArOoN1hrM09",
        "outputId": "33e8c3ea-f78d-428d-efc8-59f4b7362bd1",
        "colab": {
          "base_uri": "https://localhost:8080/",
          "height": 81
        }
      },
      "outputs": [
        {
          "output_type": "execute_result",
          "data": {
            "text/plain": [
              "    Região    País   Dealer Segmento Modelo          ID              PIN17  \\\n",
              "47  Brasil  Brasil  Tracbel   Mining    ART  A30F720054  VCEA030FLF0720054   \n",
              "\n",
              "   Delivery Date Obs.:        Estado Região.1  \n",
              "47    2016-10-13   NaN  Minas Gerais  Sudeste  "
            ],
            "text/html": [
              "\n",
              "  <div id=\"df-39be7018-9938-4c33-9bda-84a85b89341b\">\n",
              "    <div class=\"colab-df-container\">\n",
              "      <div>\n",
              "<style scoped>\n",
              "    .dataframe tbody tr th:only-of-type {\n",
              "        vertical-align: middle;\n",
              "    }\n",
              "\n",
              "    .dataframe tbody tr th {\n",
              "        vertical-align: top;\n",
              "    }\n",
              "\n",
              "    .dataframe thead th {\n",
              "        text-align: right;\n",
              "    }\n",
              "</style>\n",
              "<table border=\"1\" class=\"dataframe\">\n",
              "  <thead>\n",
              "    <tr style=\"text-align: right;\">\n",
              "      <th></th>\n",
              "      <th>Região</th>\n",
              "      <th>País</th>\n",
              "      <th>Dealer</th>\n",
              "      <th>Segmento</th>\n",
              "      <th>Modelo</th>\n",
              "      <th>ID</th>\n",
              "      <th>PIN17</th>\n",
              "      <th>Delivery Date</th>\n",
              "      <th>Obs.:</th>\n",
              "      <th>Estado</th>\n",
              "      <th>Região.1</th>\n",
              "    </tr>\n",
              "  </thead>\n",
              "  <tbody>\n",
              "    <tr>\n",
              "      <th>47</th>\n",
              "      <td>Brasil</td>\n",
              "      <td>Brasil</td>\n",
              "      <td>Tracbel</td>\n",
              "      <td>Mining</td>\n",
              "      <td>ART</td>\n",
              "      <td>A30F720054</td>\n",
              "      <td>VCEA030FLF0720054</td>\n",
              "      <td>2016-10-13</td>\n",
              "      <td>NaN</td>\n",
              "      <td>Minas Gerais</td>\n",
              "      <td>Sudeste</td>\n",
              "    </tr>\n",
              "  </tbody>\n",
              "</table>\n",
              "</div>\n",
              "      <button class=\"colab-df-convert\" onclick=\"convertToInteractive('df-39be7018-9938-4c33-9bda-84a85b89341b')\"\n",
              "              title=\"Convert this dataframe to an interactive table.\"\n",
              "              style=\"display:none;\">\n",
              "        \n",
              "  <svg xmlns=\"http://www.w3.org/2000/svg\" height=\"24px\"viewBox=\"0 0 24 24\"\n",
              "       width=\"24px\">\n",
              "    <path d=\"M0 0h24v24H0V0z\" fill=\"none\"/>\n",
              "    <path d=\"M18.56 5.44l.94 2.06.94-2.06 2.06-.94-2.06-.94-.94-2.06-.94 2.06-2.06.94zm-11 1L8.5 8.5l.94-2.06 2.06-.94-2.06-.94L8.5 2.5l-.94 2.06-2.06.94zm10 10l.94 2.06.94-2.06 2.06-.94-2.06-.94-.94-2.06-.94 2.06-2.06.94z\"/><path d=\"M17.41 7.96l-1.37-1.37c-.4-.4-.92-.59-1.43-.59-.52 0-1.04.2-1.43.59L10.3 9.45l-7.72 7.72c-.78.78-.78 2.05 0 2.83L4 21.41c.39.39.9.59 1.41.59.51 0 1.02-.2 1.41-.59l7.78-7.78 2.81-2.81c.8-.78.8-2.07 0-2.86zM5.41 20L4 18.59l7.72-7.72 1.47 1.35L5.41 20z\"/>\n",
              "  </svg>\n",
              "      </button>\n",
              "      \n",
              "  <style>\n",
              "    .colab-df-container {\n",
              "      display:flex;\n",
              "      flex-wrap:wrap;\n",
              "      gap: 12px;\n",
              "    }\n",
              "\n",
              "    .colab-df-convert {\n",
              "      background-color: #E8F0FE;\n",
              "      border: none;\n",
              "      border-radius: 50%;\n",
              "      cursor: pointer;\n",
              "      display: none;\n",
              "      fill: #1967D2;\n",
              "      height: 32px;\n",
              "      padding: 0 0 0 0;\n",
              "      width: 32px;\n",
              "    }\n",
              "\n",
              "    .colab-df-convert:hover {\n",
              "      background-color: #E2EBFA;\n",
              "      box-shadow: 0px 1px 2px rgba(60, 64, 67, 0.3), 0px 1px 3px 1px rgba(60, 64, 67, 0.15);\n",
              "      fill: #174EA6;\n",
              "    }\n",
              "\n",
              "    [theme=dark] .colab-df-convert {\n",
              "      background-color: #3B4455;\n",
              "      fill: #D2E3FC;\n",
              "    }\n",
              "\n",
              "    [theme=dark] .colab-df-convert:hover {\n",
              "      background-color: #434B5C;\n",
              "      box-shadow: 0px 1px 3px 1px rgba(0, 0, 0, 0.15);\n",
              "      filter: drop-shadow(0px 1px 2px rgba(0, 0, 0, 0.3));\n",
              "      fill: #FFFFFF;\n",
              "    }\n",
              "  </style>\n",
              "\n",
              "      <script>\n",
              "        const buttonEl =\n",
              "          document.querySelector('#df-39be7018-9938-4c33-9bda-84a85b89341b button.colab-df-convert');\n",
              "        buttonEl.style.display =\n",
              "          google.colab.kernel.accessAllowed ? 'block' : 'none';\n",
              "\n",
              "        async function convertToInteractive(key) {\n",
              "          const element = document.querySelector('#df-39be7018-9938-4c33-9bda-84a85b89341b');\n",
              "          const dataTable =\n",
              "            await google.colab.kernel.invokeFunction('convertToInteractive',\n",
              "                                                     [key], {});\n",
              "          if (!dataTable) return;\n",
              "\n",
              "          const docLinkHtml = 'Like what you see? Visit the ' +\n",
              "            '<a target=\"_blank\" href=https://colab.research.google.com/notebooks/data_table.ipynb>data table notebook</a>'\n",
              "            + ' to learn more about interactive tables.';\n",
              "          element.innerHTML = '';\n",
              "          dataTable['output_type'] = 'display_data';\n",
              "          await google.colab.output.renderOutput(dataTable, element);\n",
              "          const docLink = document.createElement('div');\n",
              "          docLink.innerHTML = docLinkHtml;\n",
              "          element.appendChild(docLink);\n",
              "        }\n",
              "      </script>\n",
              "    </div>\n",
              "  </div>\n",
              "  "
            ]
          },
          "metadata": {},
          "execution_count": 50
        }
      ],
      "source": [
        "table_equipments.query('ID != @id_time_series')"
      ]
    },
    {
      "cell_type": "code",
      "execution_count": 51,
      "metadata": {
        "id": "Xwp5qDu_rM09",
        "outputId": "5cf50218-1bf7-4fc8-af06-d37cf1277d6b",
        "colab": {
          "base_uri": "https://localhost:8080/",
          "height": 49
        }
      },
      "outputs": [
        {
          "output_type": "execute_result",
          "data": {
            "text/plain": [
              "Empty DataFrame\n",
              "Columns: [ID, Day, Time]\n",
              "Index: []"
            ],
            "text/html": [
              "\n",
              "  <div id=\"df-80dc1adf-bd0b-4ba9-85c9-0aa70d595508\">\n",
              "    <div class=\"colab-df-container\">\n",
              "      <div>\n",
              "<style scoped>\n",
              "    .dataframe tbody tr th:only-of-type {\n",
              "        vertical-align: middle;\n",
              "    }\n",
              "\n",
              "    .dataframe tbody tr th {\n",
              "        vertical-align: top;\n",
              "    }\n",
              "\n",
              "    .dataframe thead th {\n",
              "        text-align: right;\n",
              "    }\n",
              "</style>\n",
              "<table border=\"1\" class=\"dataframe\">\n",
              "  <thead>\n",
              "    <tr style=\"text-align: right;\">\n",
              "      <th></th>\n",
              "      <th>ID</th>\n",
              "      <th>Day</th>\n",
              "      <th>Time</th>\n",
              "    </tr>\n",
              "  </thead>\n",
              "  <tbody>\n",
              "  </tbody>\n",
              "</table>\n",
              "</div>\n",
              "      <button class=\"colab-df-convert\" onclick=\"convertToInteractive('df-80dc1adf-bd0b-4ba9-85c9-0aa70d595508')\"\n",
              "              title=\"Convert this dataframe to an interactive table.\"\n",
              "              style=\"display:none;\">\n",
              "        \n",
              "  <svg xmlns=\"http://www.w3.org/2000/svg\" height=\"24px\"viewBox=\"0 0 24 24\"\n",
              "       width=\"24px\">\n",
              "    <path d=\"M0 0h24v24H0V0z\" fill=\"none\"/>\n",
              "    <path d=\"M18.56 5.44l.94 2.06.94-2.06 2.06-.94-2.06-.94-.94-2.06-.94 2.06-2.06.94zm-11 1L8.5 8.5l.94-2.06 2.06-.94-2.06-.94L8.5 2.5l-.94 2.06-2.06.94zm10 10l.94 2.06.94-2.06 2.06-.94-2.06-.94-.94-2.06-.94 2.06-2.06.94z\"/><path d=\"M17.41 7.96l-1.37-1.37c-.4-.4-.92-.59-1.43-.59-.52 0-1.04.2-1.43.59L10.3 9.45l-7.72 7.72c-.78.78-.78 2.05 0 2.83L4 21.41c.39.39.9.59 1.41.59.51 0 1.02-.2 1.41-.59l7.78-7.78 2.81-2.81c.8-.78.8-2.07 0-2.86zM5.41 20L4 18.59l7.72-7.72 1.47 1.35L5.41 20z\"/>\n",
              "  </svg>\n",
              "      </button>\n",
              "      \n",
              "  <style>\n",
              "    .colab-df-container {\n",
              "      display:flex;\n",
              "      flex-wrap:wrap;\n",
              "      gap: 12px;\n",
              "    }\n",
              "\n",
              "    .colab-df-convert {\n",
              "      background-color: #E8F0FE;\n",
              "      border: none;\n",
              "      border-radius: 50%;\n",
              "      cursor: pointer;\n",
              "      display: none;\n",
              "      fill: #1967D2;\n",
              "      height: 32px;\n",
              "      padding: 0 0 0 0;\n",
              "      width: 32px;\n",
              "    }\n",
              "\n",
              "    .colab-df-convert:hover {\n",
              "      background-color: #E2EBFA;\n",
              "      box-shadow: 0px 1px 2px rgba(60, 64, 67, 0.3), 0px 1px 3px 1px rgba(60, 64, 67, 0.15);\n",
              "      fill: #174EA6;\n",
              "    }\n",
              "\n",
              "    [theme=dark] .colab-df-convert {\n",
              "      background-color: #3B4455;\n",
              "      fill: #D2E3FC;\n",
              "    }\n",
              "\n",
              "    [theme=dark] .colab-df-convert:hover {\n",
              "      background-color: #434B5C;\n",
              "      box-shadow: 0px 1px 3px 1px rgba(0, 0, 0, 0.15);\n",
              "      filter: drop-shadow(0px 1px 2px rgba(0, 0, 0, 0.3));\n",
              "      fill: #FFFFFF;\n",
              "    }\n",
              "  </style>\n",
              "\n",
              "      <script>\n",
              "        const buttonEl =\n",
              "          document.querySelector('#df-80dc1adf-bd0b-4ba9-85c9-0aa70d595508 button.colab-df-convert');\n",
              "        buttonEl.style.display =\n",
              "          google.colab.kernel.accessAllowed ? 'block' : 'none';\n",
              "\n",
              "        async function convertToInteractive(key) {\n",
              "          const element = document.querySelector('#df-80dc1adf-bd0b-4ba9-85c9-0aa70d595508');\n",
              "          const dataTable =\n",
              "            await google.colab.kernel.invokeFunction('convertToInteractive',\n",
              "                                                     [key], {});\n",
              "          if (!dataTable) return;\n",
              "\n",
              "          const docLinkHtml = 'Like what you see? Visit the ' +\n",
              "            '<a target=\"_blank\" href=https://colab.research.google.com/notebooks/data_table.ipynb>data table notebook</a>'\n",
              "            + ' to learn more about interactive tables.';\n",
              "          element.innerHTML = '';\n",
              "          dataTable['output_type'] = 'display_data';\n",
              "          await google.colab.output.renderOutput(dataTable, element);\n",
              "          const docLink = document.createElement('div');\n",
              "          docLink.innerHTML = docLinkHtml;\n",
              "          element.appendChild(docLink);\n",
              "        }\n",
              "      </script>\n",
              "    </div>\n",
              "  </div>\n",
              "  "
            ]
          },
          "metadata": {},
          "execution_count": 51
        }
      ],
      "source": [
        "table_time_series.query('ID != @id_equipments')"
      ]
    },
    {
      "cell_type": "code",
      "execution_count": 52,
      "metadata": {
        "id": "vbsMrSZnrM09",
        "outputId": "def64e95-8a8c-4830-e25e-e954a010facd",
        "colab": {
          "referenced_widgets": [
            "c46e44e68ab54ff49e1054258f859062",
            "896eee62f1ad4893811653146f27c020",
            "df556ec1aac14768921229d4b328c569",
            "3829eeff08af448c89dd3e99387ee5ad",
            "6579ebe8636c46df8eef71f575221077",
            "5901088c478e47e9bfc0b2f46f7f3c5d",
            "2335322cc06c4f3b9fd744e5d6fac5af"
          ],
          "base_uri": "https://localhost:8080/",
          "height": 865
        }
      },
      "outputs": [
        {
          "output_type": "display_data",
          "data": {
            "text/plain": [
              "interactive(children=(Dropdown(description='agg_fun', options=('sum', 'mean', 'max'), value='sum'), Output()),…"
            ],
            "application/vnd.jupyter.widget-view+json": {
              "version_major": 2,
              "version_minor": 0,
              "model_id": "c46e44e68ab54ff49e1054258f859062"
            }
          },
          "metadata": {}
        }
      ],
      "source": [
        "@interact(agg_fun = ['sum', 'mean','max'])\n",
        "\n",
        "def funcao(agg_fun):\n",
        "    df = table_time_series.groupby('ID', sort = 'Time')[['Time']].agg(agg_fun)\\\n",
        "              .reset_index()\\\n",
        "              .sort_values('Time', ascending = False)\\\n",
        "              .head(25)\n",
        "    \n",
        "    return df"
      ]
    },
    {
      "cell_type": "code",
      "execution_count": 53,
      "metadata": {
        "id": "7EsTFR5RrM09",
        "outputId": "411e935c-611e-478a-a065-dea0c7c244ec",
        "colab": {
          "referenced_widgets": [
            "5564df52904844ffb08686b177ab9428",
            "a05d2246fd1d46dabe4a98d8f51152b6",
            "347b442e5c27444699691131662d305d",
            "dd4b5266669e4c61a3e7107f7b8818cc",
            "a76162c868674fb7a54834431a674512",
            "a85c9cba2ed54b619bb3eb221698be5f",
            "083855e4226d4132929347947972322c"
          ],
          "base_uri": "https://localhost:8080/",
          "height": 357
        }
      },
      "outputs": [
        {
          "output_type": "display_data",
          "data": {
            "text/plain": [
              "interactive(children=(Dropdown(description='id', options=('A030F720057', 'A040F320538', 'A040F320657', 'A040F3…"
            ],
            "application/vnd.jupyter.widget-view+json": {
              "version_major": 2,
              "version_minor": 0,
              "model_id": "5564df52904844ffb08686b177ab9428"
            }
          },
          "metadata": {}
        }
      ],
      "source": [
        "@interact(id = table_time_series.ID.unique().tolist())\n",
        "def plot(id):\n",
        "    plt.figure(figsize= (16,3))\n",
        "    ax = sns.lineplot(data = table_time_series[table_time_series.ID == id],\n",
        "                      x = 'Day',\n",
        "                      y = 'Time')   \n",
        "    plt.show()\n"
      ]
    },
    {
      "cell_type": "code",
      "source": [
        "# Join table\n",
        "table_final = pd.merge(table_time_series, table_equipments, on='ID', how='inner')\n",
        "\n",
        "# Read new table\n",
        "table_final.head()"
      ],
      "metadata": {
        "colab": {
          "base_uri": "https://localhost:8080/",
          "height": 206
        },
        "id": "KdbvHwF_qbUS",
        "outputId": "5c26a696-41a1-49fe-e520-4df1398775e1"
      },
      "execution_count": 54,
      "outputs": [
        {
          "output_type": "execute_result",
          "data": {
            "text/plain": [
              "            ID        Day  Time  Região    País Dealer  Segmento Modelo  \\\n",
              "0  A030F720057 2016-12-09  0.00  Brasil  Brasil  Linck  Industry    ART   \n",
              "1  A030F720057 2016-12-10  5.75  Brasil  Brasil  Linck  Industry    ART   \n",
              "2  A030F720057 2016-12-11  8.95  Brasil  Brasil  Linck  Industry    ART   \n",
              "3  A030F720057 2016-12-12  1.60  Brasil  Brasil  Linck  Industry    ART   \n",
              "4  A030F720057 2016-12-13  8.20  Brasil  Brasil  Linck  Industry    ART   \n",
              "\n",
              "               PIN17 Delivery Date Obs.:  Estado Região.1  \n",
              "0  VCEA030FEG0720057    2019-01-15   NaN  Paraná      Sul  \n",
              "1  VCEA030FEG0720057    2019-01-15   NaN  Paraná      Sul  \n",
              "2  VCEA030FEG0720057    2019-01-15   NaN  Paraná      Sul  \n",
              "3  VCEA030FEG0720057    2019-01-15   NaN  Paraná      Sul  \n",
              "4  VCEA030FEG0720057    2019-01-15   NaN  Paraná      Sul  "
            ],
            "text/html": [
              "\n",
              "  <div id=\"df-61cf88a3-4e26-40ed-8379-b765d27ea940\">\n",
              "    <div class=\"colab-df-container\">\n",
              "      <div>\n",
              "<style scoped>\n",
              "    .dataframe tbody tr th:only-of-type {\n",
              "        vertical-align: middle;\n",
              "    }\n",
              "\n",
              "    .dataframe tbody tr th {\n",
              "        vertical-align: top;\n",
              "    }\n",
              "\n",
              "    .dataframe thead th {\n",
              "        text-align: right;\n",
              "    }\n",
              "</style>\n",
              "<table border=\"1\" class=\"dataframe\">\n",
              "  <thead>\n",
              "    <tr style=\"text-align: right;\">\n",
              "      <th></th>\n",
              "      <th>ID</th>\n",
              "      <th>Day</th>\n",
              "      <th>Time</th>\n",
              "      <th>Região</th>\n",
              "      <th>País</th>\n",
              "      <th>Dealer</th>\n",
              "      <th>Segmento</th>\n",
              "      <th>Modelo</th>\n",
              "      <th>PIN17</th>\n",
              "      <th>Delivery Date</th>\n",
              "      <th>Obs.:</th>\n",
              "      <th>Estado</th>\n",
              "      <th>Região.1</th>\n",
              "    </tr>\n",
              "  </thead>\n",
              "  <tbody>\n",
              "    <tr>\n",
              "      <th>0</th>\n",
              "      <td>A030F720057</td>\n",
              "      <td>2016-12-09</td>\n",
              "      <td>0.00</td>\n",
              "      <td>Brasil</td>\n",
              "      <td>Brasil</td>\n",
              "      <td>Linck</td>\n",
              "      <td>Industry</td>\n",
              "      <td>ART</td>\n",
              "      <td>VCEA030FEG0720057</td>\n",
              "      <td>2019-01-15</td>\n",
              "      <td>NaN</td>\n",
              "      <td>Paraná</td>\n",
              "      <td>Sul</td>\n",
              "    </tr>\n",
              "    <tr>\n",
              "      <th>1</th>\n",
              "      <td>A030F720057</td>\n",
              "      <td>2016-12-10</td>\n",
              "      <td>5.75</td>\n",
              "      <td>Brasil</td>\n",
              "      <td>Brasil</td>\n",
              "      <td>Linck</td>\n",
              "      <td>Industry</td>\n",
              "      <td>ART</td>\n",
              "      <td>VCEA030FEG0720057</td>\n",
              "      <td>2019-01-15</td>\n",
              "      <td>NaN</td>\n",
              "      <td>Paraná</td>\n",
              "      <td>Sul</td>\n",
              "    </tr>\n",
              "    <tr>\n",
              "      <th>2</th>\n",
              "      <td>A030F720057</td>\n",
              "      <td>2016-12-11</td>\n",
              "      <td>8.95</td>\n",
              "      <td>Brasil</td>\n",
              "      <td>Brasil</td>\n",
              "      <td>Linck</td>\n",
              "      <td>Industry</td>\n",
              "      <td>ART</td>\n",
              "      <td>VCEA030FEG0720057</td>\n",
              "      <td>2019-01-15</td>\n",
              "      <td>NaN</td>\n",
              "      <td>Paraná</td>\n",
              "      <td>Sul</td>\n",
              "    </tr>\n",
              "    <tr>\n",
              "      <th>3</th>\n",
              "      <td>A030F720057</td>\n",
              "      <td>2016-12-12</td>\n",
              "      <td>1.60</td>\n",
              "      <td>Brasil</td>\n",
              "      <td>Brasil</td>\n",
              "      <td>Linck</td>\n",
              "      <td>Industry</td>\n",
              "      <td>ART</td>\n",
              "      <td>VCEA030FEG0720057</td>\n",
              "      <td>2019-01-15</td>\n",
              "      <td>NaN</td>\n",
              "      <td>Paraná</td>\n",
              "      <td>Sul</td>\n",
              "    </tr>\n",
              "    <tr>\n",
              "      <th>4</th>\n",
              "      <td>A030F720057</td>\n",
              "      <td>2016-12-13</td>\n",
              "      <td>8.20</td>\n",
              "      <td>Brasil</td>\n",
              "      <td>Brasil</td>\n",
              "      <td>Linck</td>\n",
              "      <td>Industry</td>\n",
              "      <td>ART</td>\n",
              "      <td>VCEA030FEG0720057</td>\n",
              "      <td>2019-01-15</td>\n",
              "      <td>NaN</td>\n",
              "      <td>Paraná</td>\n",
              "      <td>Sul</td>\n",
              "    </tr>\n",
              "  </tbody>\n",
              "</table>\n",
              "</div>\n",
              "      <button class=\"colab-df-convert\" onclick=\"convertToInteractive('df-61cf88a3-4e26-40ed-8379-b765d27ea940')\"\n",
              "              title=\"Convert this dataframe to an interactive table.\"\n",
              "              style=\"display:none;\">\n",
              "        \n",
              "  <svg xmlns=\"http://www.w3.org/2000/svg\" height=\"24px\"viewBox=\"0 0 24 24\"\n",
              "       width=\"24px\">\n",
              "    <path d=\"M0 0h24v24H0V0z\" fill=\"none\"/>\n",
              "    <path d=\"M18.56 5.44l.94 2.06.94-2.06 2.06-.94-2.06-.94-.94-2.06-.94 2.06-2.06.94zm-11 1L8.5 8.5l.94-2.06 2.06-.94-2.06-.94L8.5 2.5l-.94 2.06-2.06.94zm10 10l.94 2.06.94-2.06 2.06-.94-2.06-.94-.94-2.06-.94 2.06-2.06.94z\"/><path d=\"M17.41 7.96l-1.37-1.37c-.4-.4-.92-.59-1.43-.59-.52 0-1.04.2-1.43.59L10.3 9.45l-7.72 7.72c-.78.78-.78 2.05 0 2.83L4 21.41c.39.39.9.59 1.41.59.51 0 1.02-.2 1.41-.59l7.78-7.78 2.81-2.81c.8-.78.8-2.07 0-2.86zM5.41 20L4 18.59l7.72-7.72 1.47 1.35L5.41 20z\"/>\n",
              "  </svg>\n",
              "      </button>\n",
              "      \n",
              "  <style>\n",
              "    .colab-df-container {\n",
              "      display:flex;\n",
              "      flex-wrap:wrap;\n",
              "      gap: 12px;\n",
              "    }\n",
              "\n",
              "    .colab-df-convert {\n",
              "      background-color: #E8F0FE;\n",
              "      border: none;\n",
              "      border-radius: 50%;\n",
              "      cursor: pointer;\n",
              "      display: none;\n",
              "      fill: #1967D2;\n",
              "      height: 32px;\n",
              "      padding: 0 0 0 0;\n",
              "      width: 32px;\n",
              "    }\n",
              "\n",
              "    .colab-df-convert:hover {\n",
              "      background-color: #E2EBFA;\n",
              "      box-shadow: 0px 1px 2px rgba(60, 64, 67, 0.3), 0px 1px 3px 1px rgba(60, 64, 67, 0.15);\n",
              "      fill: #174EA6;\n",
              "    }\n",
              "\n",
              "    [theme=dark] .colab-df-convert {\n",
              "      background-color: #3B4455;\n",
              "      fill: #D2E3FC;\n",
              "    }\n",
              "\n",
              "    [theme=dark] .colab-df-convert:hover {\n",
              "      background-color: #434B5C;\n",
              "      box-shadow: 0px 1px 3px 1px rgba(0, 0, 0, 0.15);\n",
              "      filter: drop-shadow(0px 1px 2px rgba(0, 0, 0, 0.3));\n",
              "      fill: #FFFFFF;\n",
              "    }\n",
              "  </style>\n",
              "\n",
              "      <script>\n",
              "        const buttonEl =\n",
              "          document.querySelector('#df-61cf88a3-4e26-40ed-8379-b765d27ea940 button.colab-df-convert');\n",
              "        buttonEl.style.display =\n",
              "          google.colab.kernel.accessAllowed ? 'block' : 'none';\n",
              "\n",
              "        async function convertToInteractive(key) {\n",
              "          const element = document.querySelector('#df-61cf88a3-4e26-40ed-8379-b765d27ea940');\n",
              "          const dataTable =\n",
              "            await google.colab.kernel.invokeFunction('convertToInteractive',\n",
              "                                                     [key], {});\n",
              "          if (!dataTable) return;\n",
              "\n",
              "          const docLinkHtml = 'Like what you see? Visit the ' +\n",
              "            '<a target=\"_blank\" href=https://colab.research.google.com/notebooks/data_table.ipynb>data table notebook</a>'\n",
              "            + ' to learn more about interactive tables.';\n",
              "          element.innerHTML = '';\n",
              "          dataTable['output_type'] = 'display_data';\n",
              "          await google.colab.output.renderOutput(dataTable, element);\n",
              "          const docLink = document.createElement('div');\n",
              "          docLink.innerHTML = docLinkHtml;\n",
              "          element.appendChild(docLink);\n",
              "        }\n",
              "      </script>\n",
              "    </div>\n",
              "  </div>\n",
              "  "
            ]
          },
          "metadata": {},
          "execution_count": 54
        }
      ]
    },
    {
      "cell_type": "code",
      "source": [
        "# Delete time over 24h\n",
        "table_final = table_final[table_final['Time'] < 24]\n",
        "\n",
        "# Read new table\n",
        "table_final.head()"
      ],
      "metadata": {
        "colab": {
          "base_uri": "https://localhost:8080/",
          "height": 206
        },
        "id": "qSZxhQ6JnvbU",
        "outputId": "1c9b467c-95b8-4303-95fd-2e5c9a44c5ee"
      },
      "execution_count": 55,
      "outputs": [
        {
          "output_type": "execute_result",
          "data": {
            "text/plain": [
              "            ID        Day  Time  Região    País Dealer  Segmento Modelo  \\\n",
              "0  A030F720057 2016-12-09  0.00  Brasil  Brasil  Linck  Industry    ART   \n",
              "1  A030F720057 2016-12-10  5.75  Brasil  Brasil  Linck  Industry    ART   \n",
              "2  A030F720057 2016-12-11  8.95  Brasil  Brasil  Linck  Industry    ART   \n",
              "3  A030F720057 2016-12-12  1.60  Brasil  Brasil  Linck  Industry    ART   \n",
              "4  A030F720057 2016-12-13  8.20  Brasil  Brasil  Linck  Industry    ART   \n",
              "\n",
              "               PIN17 Delivery Date Obs.:  Estado Região.1  \n",
              "0  VCEA030FEG0720057    2019-01-15   NaN  Paraná      Sul  \n",
              "1  VCEA030FEG0720057    2019-01-15   NaN  Paraná      Sul  \n",
              "2  VCEA030FEG0720057    2019-01-15   NaN  Paraná      Sul  \n",
              "3  VCEA030FEG0720057    2019-01-15   NaN  Paraná      Sul  \n",
              "4  VCEA030FEG0720057    2019-01-15   NaN  Paraná      Sul  "
            ],
            "text/html": [
              "\n",
              "  <div id=\"df-0e5461c4-9a6e-4920-b875-cafd43af6af5\">\n",
              "    <div class=\"colab-df-container\">\n",
              "      <div>\n",
              "<style scoped>\n",
              "    .dataframe tbody tr th:only-of-type {\n",
              "        vertical-align: middle;\n",
              "    }\n",
              "\n",
              "    .dataframe tbody tr th {\n",
              "        vertical-align: top;\n",
              "    }\n",
              "\n",
              "    .dataframe thead th {\n",
              "        text-align: right;\n",
              "    }\n",
              "</style>\n",
              "<table border=\"1\" class=\"dataframe\">\n",
              "  <thead>\n",
              "    <tr style=\"text-align: right;\">\n",
              "      <th></th>\n",
              "      <th>ID</th>\n",
              "      <th>Day</th>\n",
              "      <th>Time</th>\n",
              "      <th>Região</th>\n",
              "      <th>País</th>\n",
              "      <th>Dealer</th>\n",
              "      <th>Segmento</th>\n",
              "      <th>Modelo</th>\n",
              "      <th>PIN17</th>\n",
              "      <th>Delivery Date</th>\n",
              "      <th>Obs.:</th>\n",
              "      <th>Estado</th>\n",
              "      <th>Região.1</th>\n",
              "    </tr>\n",
              "  </thead>\n",
              "  <tbody>\n",
              "    <tr>\n",
              "      <th>0</th>\n",
              "      <td>A030F720057</td>\n",
              "      <td>2016-12-09</td>\n",
              "      <td>0.00</td>\n",
              "      <td>Brasil</td>\n",
              "      <td>Brasil</td>\n",
              "      <td>Linck</td>\n",
              "      <td>Industry</td>\n",
              "      <td>ART</td>\n",
              "      <td>VCEA030FEG0720057</td>\n",
              "      <td>2019-01-15</td>\n",
              "      <td>NaN</td>\n",
              "      <td>Paraná</td>\n",
              "      <td>Sul</td>\n",
              "    </tr>\n",
              "    <tr>\n",
              "      <th>1</th>\n",
              "      <td>A030F720057</td>\n",
              "      <td>2016-12-10</td>\n",
              "      <td>5.75</td>\n",
              "      <td>Brasil</td>\n",
              "      <td>Brasil</td>\n",
              "      <td>Linck</td>\n",
              "      <td>Industry</td>\n",
              "      <td>ART</td>\n",
              "      <td>VCEA030FEG0720057</td>\n",
              "      <td>2019-01-15</td>\n",
              "      <td>NaN</td>\n",
              "      <td>Paraná</td>\n",
              "      <td>Sul</td>\n",
              "    </tr>\n",
              "    <tr>\n",
              "      <th>2</th>\n",
              "      <td>A030F720057</td>\n",
              "      <td>2016-12-11</td>\n",
              "      <td>8.95</td>\n",
              "      <td>Brasil</td>\n",
              "      <td>Brasil</td>\n",
              "      <td>Linck</td>\n",
              "      <td>Industry</td>\n",
              "      <td>ART</td>\n",
              "      <td>VCEA030FEG0720057</td>\n",
              "      <td>2019-01-15</td>\n",
              "      <td>NaN</td>\n",
              "      <td>Paraná</td>\n",
              "      <td>Sul</td>\n",
              "    </tr>\n",
              "    <tr>\n",
              "      <th>3</th>\n",
              "      <td>A030F720057</td>\n",
              "      <td>2016-12-12</td>\n",
              "      <td>1.60</td>\n",
              "      <td>Brasil</td>\n",
              "      <td>Brasil</td>\n",
              "      <td>Linck</td>\n",
              "      <td>Industry</td>\n",
              "      <td>ART</td>\n",
              "      <td>VCEA030FEG0720057</td>\n",
              "      <td>2019-01-15</td>\n",
              "      <td>NaN</td>\n",
              "      <td>Paraná</td>\n",
              "      <td>Sul</td>\n",
              "    </tr>\n",
              "    <tr>\n",
              "      <th>4</th>\n",
              "      <td>A030F720057</td>\n",
              "      <td>2016-12-13</td>\n",
              "      <td>8.20</td>\n",
              "      <td>Brasil</td>\n",
              "      <td>Brasil</td>\n",
              "      <td>Linck</td>\n",
              "      <td>Industry</td>\n",
              "      <td>ART</td>\n",
              "      <td>VCEA030FEG0720057</td>\n",
              "      <td>2019-01-15</td>\n",
              "      <td>NaN</td>\n",
              "      <td>Paraná</td>\n",
              "      <td>Sul</td>\n",
              "    </tr>\n",
              "  </tbody>\n",
              "</table>\n",
              "</div>\n",
              "      <button class=\"colab-df-convert\" onclick=\"convertToInteractive('df-0e5461c4-9a6e-4920-b875-cafd43af6af5')\"\n",
              "              title=\"Convert this dataframe to an interactive table.\"\n",
              "              style=\"display:none;\">\n",
              "        \n",
              "  <svg xmlns=\"http://www.w3.org/2000/svg\" height=\"24px\"viewBox=\"0 0 24 24\"\n",
              "       width=\"24px\">\n",
              "    <path d=\"M0 0h24v24H0V0z\" fill=\"none\"/>\n",
              "    <path d=\"M18.56 5.44l.94 2.06.94-2.06 2.06-.94-2.06-.94-.94-2.06-.94 2.06-2.06.94zm-11 1L8.5 8.5l.94-2.06 2.06-.94-2.06-.94L8.5 2.5l-.94 2.06-2.06.94zm10 10l.94 2.06.94-2.06 2.06-.94-2.06-.94-.94-2.06-.94 2.06-2.06.94z\"/><path d=\"M17.41 7.96l-1.37-1.37c-.4-.4-.92-.59-1.43-.59-.52 0-1.04.2-1.43.59L10.3 9.45l-7.72 7.72c-.78.78-.78 2.05 0 2.83L4 21.41c.39.39.9.59 1.41.59.51 0 1.02-.2 1.41-.59l7.78-7.78 2.81-2.81c.8-.78.8-2.07 0-2.86zM5.41 20L4 18.59l7.72-7.72 1.47 1.35L5.41 20z\"/>\n",
              "  </svg>\n",
              "      </button>\n",
              "      \n",
              "  <style>\n",
              "    .colab-df-container {\n",
              "      display:flex;\n",
              "      flex-wrap:wrap;\n",
              "      gap: 12px;\n",
              "    }\n",
              "\n",
              "    .colab-df-convert {\n",
              "      background-color: #E8F0FE;\n",
              "      border: none;\n",
              "      border-radius: 50%;\n",
              "      cursor: pointer;\n",
              "      display: none;\n",
              "      fill: #1967D2;\n",
              "      height: 32px;\n",
              "      padding: 0 0 0 0;\n",
              "      width: 32px;\n",
              "    }\n",
              "\n",
              "    .colab-df-convert:hover {\n",
              "      background-color: #E2EBFA;\n",
              "      box-shadow: 0px 1px 2px rgba(60, 64, 67, 0.3), 0px 1px 3px 1px rgba(60, 64, 67, 0.15);\n",
              "      fill: #174EA6;\n",
              "    }\n",
              "\n",
              "    [theme=dark] .colab-df-convert {\n",
              "      background-color: #3B4455;\n",
              "      fill: #D2E3FC;\n",
              "    }\n",
              "\n",
              "    [theme=dark] .colab-df-convert:hover {\n",
              "      background-color: #434B5C;\n",
              "      box-shadow: 0px 1px 3px 1px rgba(0, 0, 0, 0.15);\n",
              "      filter: drop-shadow(0px 1px 2px rgba(0, 0, 0, 0.3));\n",
              "      fill: #FFFFFF;\n",
              "    }\n",
              "  </style>\n",
              "\n",
              "      <script>\n",
              "        const buttonEl =\n",
              "          document.querySelector('#df-0e5461c4-9a6e-4920-b875-cafd43af6af5 button.colab-df-convert');\n",
              "        buttonEl.style.display =\n",
              "          google.colab.kernel.accessAllowed ? 'block' : 'none';\n",
              "\n",
              "        async function convertToInteractive(key) {\n",
              "          const element = document.querySelector('#df-0e5461c4-9a6e-4920-b875-cafd43af6af5');\n",
              "          const dataTable =\n",
              "            await google.colab.kernel.invokeFunction('convertToInteractive',\n",
              "                                                     [key], {});\n",
              "          if (!dataTable) return;\n",
              "\n",
              "          const docLinkHtml = 'Like what you see? Visit the ' +\n",
              "            '<a target=\"_blank\" href=https://colab.research.google.com/notebooks/data_table.ipynb>data table notebook</a>'\n",
              "            + ' to learn more about interactive tables.';\n",
              "          element.innerHTML = '';\n",
              "          dataTable['output_type'] = 'display_data';\n",
              "          await google.colab.output.renderOutput(dataTable, element);\n",
              "          const docLink = document.createElement('div');\n",
              "          docLink.innerHTML = docLinkHtml;\n",
              "          element.appendChild(docLink);\n",
              "        }\n",
              "      </script>\n",
              "    </div>\n",
              "  </div>\n",
              "  "
            ]
          },
          "metadata": {},
          "execution_count": 55
        }
      ]
    },
    {
      "cell_type": "code",
      "source": [
        "# Group by ID and mean of Time\n",
        "table_final_mean_time = table_final.groupby('ID').mean()\n",
        "\n",
        "# Check result\n",
        "print(table_final_mean_time)"
      ],
      "metadata": {
        "colab": {
          "base_uri": "https://localhost:8080/"
        },
        "id": "NLuHrKELstOt",
        "outputId": "9f878830-6ae5-4f42-80d0-a9d4772dec0e"
      },
      "execution_count": 56,
      "outputs": [
        {
          "output_type": "stream",
          "name": "stdout",
          "text": [
            "                  Time\n",
            "ID                    \n",
            "A030F720057   6.418113\n",
            "A040F320538   2.885249\n",
            "A040F320657  14.634921\n",
            "A040F320672   4.596603\n",
            "A30F072791   11.444465\n",
            "...                ...\n",
            "L60F073972   13.970668\n",
            "L60F074089    4.675977\n",
            "L60F074104    4.625585\n",
            "L60F074121    3.002154\n",
            "L60F074213    6.422609\n",
            "\n",
            "[62 rows x 1 columns]\n"
          ]
        },
        {
          "output_type": "stream",
          "name": "stderr",
          "text": [
            "<ipython-input-56-90e9759087da>:2: FutureWarning: The default value of numeric_only in DataFrameGroupBy.mean is deprecated. In a future version, numeric_only will default to False. Either specify numeric_only or select only columns which should be valid for the function.\n",
            "  table_final_mean_time = table_final.groupby('ID').mean()\n"
          ]
        }
      ]
    },
    {
      "cell_type": "code",
      "source": [
        "# Group by Região and count IDs\n",
        "table_final_count_regiao = table_final.groupby('Região')['ID'].nunique()\n",
        "\n",
        "# Check result\n",
        "print(table_final_count_regiao)"
      ],
      "metadata": {
        "colab": {
          "base_uri": "https://localhost:8080/"
        },
        "id": "nvzxO93pvAvJ",
        "outputId": "be3871a8-b559-40da-bd62-d7fe7181f01a"
      },
      "execution_count": 57,
      "outputs": [
        {
          "output_type": "stream",
          "name": "stdout",
          "text": [
            "Região\n",
            "Brasil             44\n",
            "Hispânico Norte     9\n",
            "Hispânico Sul       9\n",
            "Name: ID, dtype: int64\n"
          ]
        }
      ]
    },
    {
      "cell_type": "code",
      "source": [
        "# Group by Pais and count IDs\n",
        "table_final_count_pais = table_final.groupby('País')['ID'].nunique()\n",
        "\n",
        "# Check result\n",
        "print(table_final_count_pais)"
      ],
      "metadata": {
        "colab": {
          "base_uri": "https://localhost:8080/"
        },
        "id": "ZTlukLZ_uzvh",
        "outputId": "a941b0e9-6707-4a8b-c540-a6e137afa391"
      },
      "execution_count": 58,
      "outputs": [
        {
          "output_type": "stream",
          "name": "stdout",
          "text": [
            "País\n",
            "Argentina     9\n",
            "Brasil       44\n",
            "México        9\n",
            "Name: ID, dtype: int64\n"
          ]
        }
      ]
    },
    {
      "cell_type": "code",
      "source": [
        "# Group by Estado and count IDs\n",
        "table_final_count_estado = table_final.groupby('Estado')['ID'].nunique()\n",
        "\n",
        "# Check result\n",
        "print(table_final_count_estado)"
      ],
      "metadata": {
        "colab": {
          "base_uri": "https://localhost:8080/"
        },
        "id": "z3BbptA4vQc5",
        "outputId": "329e0f18-d7b6-4387-8cbc-984c34f5a83a"
      },
      "execution_count": 59,
      "outputs": [
        {
          "output_type": "stream",
          "name": "stdout",
          "text": [
            "Estado\n",
            "0                            3\n",
            "Bahia                        3\n",
            "Catamarca Province           1\n",
            "Coahuila de Zaragoza         1\n",
            "Entre Ríos                   1\n",
            "Estado de México             1\n",
            "Hidalgo                      1\n",
            "Jujuy                        1\n",
            "Mato Grosso                  5\n",
            "Mato Grosso do Sul           3\n",
            "Minas Gerais                 8\n",
            "Misiónes                     1\n",
            "Nuevo León                   2\n",
            "Paraná                       3\n",
            "Pará                         1\n",
            "Pernambuco                   2\n",
            "Provincia de Buenos Aires    1\n",
            "Querétaro                    1\n",
            "Rio Grande do Norte          1\n",
            "Rio Grande do Sul            6\n",
            "Rio de Janeiro               1\n",
            "Rondônia                     4\n",
            "San Juan                     1\n",
            "San Luis                     1\n",
            "Santa Catarina               1\n",
            "Sergipe                      2\n",
            "São Paulo                    4\n",
            "Tabasco                      1\n",
            "Veracruz                     1\n",
            "Name: ID, dtype: int64\n"
          ]
        }
      ]
    },
    {
      "cell_type": "code",
      "source": [
        "# Group by Dealer and count IDs\n",
        "table_final_count_dealer = table_final.groupby('Dealer')['ID'].nunique()\n",
        "\n",
        "# Check result\n",
        "print(table_final_count_dealer)"
      ],
      "metadata": {
        "colab": {
          "base_uri": "https://localhost:8080/"
        },
        "id": "RaI0fYYYvXsn",
        "outputId": "0f4425ba-dfa4-4e76-cd36-795ff078938b"
      },
      "execution_count": 60,
      "outputs": [
        {
          "output_type": "stream",
          "name": "stdout",
          "text": [
            "Dealer\n",
            "Ascendum       9\n",
            "Dinâmica       9\n",
            "EPSA           9\n",
            "Gotemburgo     9\n",
            "Linck          9\n",
            "Tecnoeste     10\n",
            "Tracbel        7\n",
            "Name: ID, dtype: int64\n"
          ]
        }
      ]
    },
    {
      "cell_type": "code",
      "source": [
        "# Group by Segmento and count IDs\n",
        "table_final_count_segmento = table_final.groupby('Segmento')['ID'].nunique()\n",
        "\n",
        "# Check result\n",
        "print(table_final_count_segmento)"
      ],
      "metadata": {
        "colab": {
          "base_uri": "https://localhost:8080/"
        },
        "id": "U1HH6CXMvuei",
        "outputId": "423ca9ea-6eb8-44eb-c423-3b11772e89d3"
      },
      "execution_count": 61,
      "outputs": [
        {
          "output_type": "stream",
          "name": "stdout",
          "text": [
            "Segmento\n",
            "Agriculture     14\n",
            "Construction    18\n",
            "Forestry         2\n",
            "Industry         6\n",
            "Mining          22\n",
            "Name: ID, dtype: int64\n"
          ]
        }
      ]
    },
    {
      "cell_type": "code",
      "source": [
        "# Group by Modelo and count IDs\n",
        "table_final_count_modelo = table_final.groupby('Modelo')['ID'].nunique()\n",
        "\n",
        "# Check result\n",
        "print(table_final_count_modelo)"
      ],
      "metadata": {
        "colab": {
          "base_uri": "https://localhost:8080/"
        },
        "id": "9DrGjOKZv1HL",
        "outputId": "480e5c97-bb3d-4b0b-c1c0-56e6bb139c8d"
      },
      "execution_count": 62,
      "outputs": [
        {
          "output_type": "stream",
          "name": "stdout",
          "text": [
            "Modelo\n",
            "ART    20\n",
            "EXC    21\n",
            "WLO    21\n",
            "Name: ID, dtype: int64\n"
          ]
        }
      ]
    },
    {
      "cell_type": "code",
      "source": [
        "sns.set(style='white', rc={'figure.figsize':(14,5)})\n",
        "\n",
        "# Create boxplot by Modelo\n",
        "table_final.boxplot(by='Modelo', return_type='axes')\n",
        "     "
      ],
      "metadata": {
        "id": "mMfc-1pTwoFI",
        "outputId": "17b2d87a-d520-44f9-dfa6-1f432f7d637b",
        "colab": {
          "base_uri": "https://localhost:8080/",
          "height": 538
        }
      },
      "execution_count": 63,
      "outputs": [
        {
          "output_type": "execute_result",
          "data": {
            "text/plain": [
              "Time    Axes(0.1,0.15;0.8x0.75)\n",
              "dtype: object"
            ]
          },
          "metadata": {},
          "execution_count": 63
        },
        {
          "output_type": "display_data",
          "data": {
            "text/plain": [
              "<Figure size 1400x500 with 1 Axes>"
            ],
            "image/png": "[encoded data removed]"
          },
          "metadata": {}
        }
      ]
    },
    {
      "cell_type": "code",
      "source": [
        "sns.set(style='white', rc={'figure.figsize':(14,5)})\n",
        "\n",
        "# Create boxplot by Região\n",
        "table_final.boxplot(by='Região', return_type='axes')"
      ],
      "metadata": {
        "id": "dnpf4MEzxTOp",
        "outputId": "c95bdf4a-4a61-4987-dae6-c4e3d41833ed",
        "colab": {
          "base_uri": "https://localhost:8080/",
          "height": 539
        }
      },
      "execution_count": 64,
      "outputs": [
        {
          "output_type": "execute_result",
          "data": {
            "text/plain": [
              "Time    Axes(0.1,0.15;0.8x0.75)\n",
              "dtype: object"
            ]
          },
          "metadata": {},
          "execution_count": 64
        },
        {
          "output_type": "display_data",
          "data": {
            "text/plain": [
              "<Figure size 1400x500 with 1 Axes>"
            ],
            "image/png": "[encoded data removed]"
          },
          "metadata": {}
        }
      ]
    },
    {
      "cell_type": "code",
      "source": [
        "sns.set(style='white', rc={'figure.figsize':(14,5)})\n",
        "\n",
        "# Create boxplot by Segmento\n",
        "table_final.boxplot(by='Segmento', return_type='axes')"
      ],
      "metadata": {
        "id": "H0kINO8pxpgS",
        "outputId": "d32e1e0a-b5f3-4390-cd55-cdf52a74b3d1",
        "colab": {
          "base_uri": "https://localhost:8080/",
          "height": 538
        }
      },
      "execution_count": 65,
      "outputs": [
        {
          "output_type": "execute_result",
          "data": {
            "text/plain": [
              "Time    Axes(0.1,0.15;0.8x0.75)\n",
              "dtype: object"
            ]
          },
          "metadata": {},
          "execution_count": 65
        },
        {
          "output_type": "display_data",
          "data": {
            "text/plain": [
              "<Figure size 1400x500 with 1 Axes>"
            ],
            "image/png": "[encoded data removed]"
          },
          "metadata": {}
        }
      ]
    },
    {
      "cell_type": "code",
      "source": [
        "sns.set(style='white', rc={'figure.figsize':(14,5)})\n",
        "\n",
        "# Create boxplot by Dealer\n",
        "table_final.boxplot(by='Dealer', return_type='axes')"
      ],
      "metadata": {
        "id": "hWXyV6qgzAcP",
        "outputId": "5f79cdfb-2d76-4394-bbc8-839ee9ee37c2",
        "colab": {
          "base_uri": "https://localhost:8080/",
          "height": 538
        }
      },
      "execution_count": 66,
      "outputs": [
        {
          "output_type": "execute_result",
          "data": {
            "text/plain": [
              "Time    Axes(0.1,0.15;0.8x0.75)\n",
              "dtype: object"
            ]
          },
          "metadata": {},
          "execution_count": 66
        },
        {
          "output_type": "display_data",
          "data": {
            "text/plain": [
              "<Figure size 1400x500 with 1 Axes>"
            ],
            "image/png": "[encoded data removed]"
          },
          "metadata": {}
        }
      ]
    },
    {
      "cell_type": "code",
      "source": [
        "sns.set(style='white', rc={'figure.figsize':(14,5)})\n",
        "\n",
        "# Create boxplot by ID\n",
        "table_final.boxplot(by='ID', return_type='axes')"
      ],
      "metadata": {
        "id": "Y3pQF59xzScc",
        "outputId": "bec2e4ed-6bf7-49d8-df47-da06c85d0e22",
        "colab": {
          "base_uri": "https://localhost:8080/",
          "height": 538
        }
      },
      "execution_count": 67,
      "outputs": [
        {
          "output_type": "execute_result",
          "data": {
            "text/plain": [
              "Time    Axes(0.1,0.15;0.8x0.75)\n",
              "dtype: object"
            ]
          },
          "metadata": {},
          "execution_count": 67
        },
        {
          "output_type": "display_data",
          "data": {
            "text/plain": [
              "<Figure size 1400x500 with 1 Axes>"
            ],
            "image/png": "[encoded data removed]"
          },
          "metadata": {}
        }
      ]
    },
    {
      "cell_type": "code",
      "source": [
        "# Test Post-hoc with Time and Segmento\n",
        "from statsmodels.stats.multicomp import pairwise_tukeyhsd\n",
        "\n",
        "print(pairwise_tukeyhsd(endog = table_final['Time'],\n",
        "                  groups = table_final['Segmento'],\n",
        "                  alpha = 0.05)\n",
        ")\n"
      ],
      "metadata": {
        "colab": {
          "base_uri": "https://localhost:8080/"
        },
        "id": "CUCwBM2-pGIR",
        "outputId": "390afcd3-b7dc-4b48-8600-9ab8a35f5440"
      },
      "execution_count": 76,
      "outputs": [
        {
          "output_type": "stream",
          "name": "stdout",
          "text": [
            "      Multiple Comparison of Means - Tukey HSD, FWER=0.05      \n",
            "===============================================================\n",
            "   group1       group2    meandiff p-adj  lower   upper  reject\n",
            "---------------------------------------------------------------\n",
            " Agriculture Construction   0.4832   0.0  0.3523  0.6142   True\n",
            " Agriculture     Forestry   3.0591   0.0  2.7635  3.3548   True\n",
            " Agriculture     Industry    1.035   0.0  0.8494  1.2206   True\n",
            " Agriculture       Mining   2.3988   0.0  2.2703  2.5274   True\n",
            "Construction     Forestry   2.5759   0.0  2.2866  2.8652   True\n",
            "Construction     Industry   0.5517   0.0  0.3764  0.7271   True\n",
            "Construction       Mining   1.9156   0.0  1.8023  2.0288   True\n",
            "    Forestry     Industry  -2.0242   0.0  -2.342 -1.7063   True\n",
            "    Forestry       Mining  -0.6603   0.0 -0.9485 -0.3721   True\n",
            "    Industry       Mining   1.3639   0.0  1.1902  1.5375   True\n",
            "---------------------------------------------------------------\n"
          ]
        }
      ]
    },
    {
      "cell_type": "code",
      "source": [
        "# Test Post-hoc with Time and Dealer\n",
        "from statsmodels.stats.multicomp import pairwise_tukeyhsd\n",
        "\n",
        "print(pairwise_tukeyhsd(endog = table_final['Time'],\n",
        "                  groups = table_final['Dealer'],\n",
        "                  alpha = 0.05)\n",
        ")\n"
      ],
      "metadata": {
        "colab": {
          "base_uri": "https://localhost:8080/"
        },
        "id": "rnXQvNaiyjmP",
        "outputId": "30342030-de1a-4fee-84c6-c4d7a6d48b53"
      },
      "execution_count": 77,
      "outputs": [
        {
          "output_type": "stream",
          "name": "stdout",
          "text": [
            "    Multiple Comparison of Means - Tukey HSD, FWER=0.05     \n",
            "============================================================\n",
            "  group1     group2   meandiff p-adj   lower   upper  reject\n",
            "------------------------------------------------------------\n",
            "  Ascendum   Dinâmica  -2.1022    0.0 -2.2923 -1.9122   True\n",
            "  Ascendum       EPSA  -0.7106    0.0 -0.8959 -0.5254   True\n",
            "  Ascendum Gotemburgo  -2.7103    0.0 -2.8879 -2.5328   True\n",
            "  Ascendum      Linck   0.8956    0.0  0.7079  1.0833   True\n",
            "  Ascendum  Tecnoeste  -1.3736    0.0  -1.545 -1.2023   True\n",
            "  Ascendum    Tracbel  -2.1749    0.0 -2.3558 -1.9939   True\n",
            "  Dinâmica       EPSA   1.3916    0.0  1.1899  1.5932   True\n",
            "  Dinâmica Gotemburgo  -0.6081    0.0 -0.8028 -0.4135   True\n",
            "  Dinâmica      Linck   2.9978    0.0  2.7939  3.2017   True\n",
            "  Dinâmica  Tecnoeste   0.7286    0.0  0.5397  0.9175   True\n",
            "  Dinâmica    Tracbel  -0.0727 0.9331 -0.2704  0.1251  False\n",
            "      EPSA Gotemburgo  -1.9997    0.0 -2.1896 -1.8098   True\n",
            "      EPSA      Linck   1.6062    0.0  1.4069  1.8056   True\n",
            "      EPSA  Tecnoeste   -0.663    0.0 -0.8471  -0.479   True\n",
            "      EPSA    Tracbel  -1.4642    0.0 -1.6573 -1.2712   True\n",
            "Gotemburgo      Linck    3.606    0.0  3.4136  3.7983   True\n",
            "Gotemburgo  Tecnoeste   1.3367    0.0  1.1603   1.513   True\n",
            "Gotemburgo    Tracbel   0.5355    0.0  0.3497  0.7212   True\n",
            "     Linck  Tecnoeste  -2.2693    0.0 -2.4558 -2.0827   True\n",
            "     Linck    Tracbel  -3.0705    0.0 -3.2659 -2.8751   True\n",
            " Tecnoeste    Tracbel  -0.8012    0.0  -0.981 -0.6215   True\n",
            "------------------------------------------------------------\n"
          ]
        }
      ]
    },
    {
      "cell_type": "code",
      "source": [
        "# Test Post-hoc with Time and Modelo\n",
        "from statsmodels.stats.multicomp import pairwise_tukeyhsd\n",
        "\n",
        "print(pairwise_tukeyhsd(endog = table_final['Time'],\n",
        "                  groups = table_final['Modelo'],\n",
        "                  alpha = 0.05)\n",
        ")\n"
      ],
      "metadata": {
        "colab": {
          "base_uri": "https://localhost:8080/"
        },
        "id": "onQbwNWDy-6t",
        "outputId": "942c6388-8b6a-40f8-ee0a-e32e365873e9"
      },
      "execution_count": 78,
      "outputs": [
        {
          "output_type": "stream",
          "name": "stdout",
          "text": [
            "Multiple Comparison of Means - Tukey HSD, FWER=0.05\n",
            "===================================================\n",
            "group1 group2 meandiff p-adj  lower   upper  reject\n",
            "---------------------------------------------------\n",
            "   ART    EXC  -3.4198   0.0 -3.5194 -3.3203   True\n",
            "   ART    WLO  -2.6407   0.0 -2.7383  -2.543   True\n",
            "   EXC    WLO   0.7792   0.0  0.6856  0.8728   True\n",
            "---------------------------------------------------\n"
          ]
        }
      ]
    },
    {
      "cell_type": "code",
      "source": [
        "# Test Post-hoc with Time and Região\n",
        "from statsmodels.stats.multicomp import pairwise_tukeyhsd\n",
        "\n",
        "print(pairwise_tukeyhsd(endog = table_final['Time'],\n",
        "                  groups = table_final['Região'],\n",
        "                  alpha = 0.05)\n",
        ")\n"
      ],
      "metadata": {
        "colab": {
          "base_uri": "https://localhost:8080/"
        },
        "id": "icQwEbZmzMfW",
        "outputId": "4311f76c-798c-4bee-b758-7762ced7dc6f"
      },
      "execution_count": 80,
      "outputs": [
        {
          "output_type": "stream",
          "name": "stdout",
          "text": [
            "         Multiple Comparison of Means - Tukey HSD, FWER=0.05         \n",
            "=====================================================================\n",
            "     group1          group2     meandiff p-adj  lower   upper  reject\n",
            "---------------------------------------------------------------------\n",
            "         Brasil Hispânico Norte   1.5439   0.0  1.4343  1.6535   True\n",
            "         Brasil   Hispânico Sul   0.8332   0.0  0.7109  0.9555   True\n",
            "Hispânico Norte   Hispânico Sul  -0.7106   0.0 -0.8601 -0.5612   True\n",
            "---------------------------------------------------------------------\n"
          ]
        }
      ]
    },
    {
      "cell_type": "code",
      "source": [
        "import statsmodels.api as sm\n",
        "\n",
        "# Criar variáveis dummy para as variáveis qualitativas\n",
        "table_final_dummies = pd.get_dummies(table_final[['Segmento', 'Modelo', 'Dealer', 'Região']])\n",
        "\n",
        "# Concatenar as variáveis quantitativas com as variáveis dummy\n",
        "table_final_concat = pd.concat([table_final['Time'], table_final_dummies], axis=1)\n",
        "\n",
        "# Adicionar uma coluna constante para o termo de interceptação\n",
        "table_final_concat = sm.add_constant(table_final_concat)\n",
        "\n",
        "# Realizar a regressão linear múltipla\n",
        "model = sm.OLS(table_final['Time'], table_final_concat)\n",
        "results = model.fit()\n",
        "\n",
        "# Imprimir os resultados da regressão\n",
        "print(results.summary())"
      ],
      "metadata": {
        "colab": {
          "base_uri": "https://localhost:8080/"
        },
        "id": "ACcrfBgpeSEO",
        "outputId": "33868f83-1cc8-42d3-f6af-dae2d5ec74be"
      },
      "execution_count": 82,
      "outputs": [
        {
          "output_type": "stream",
          "name": "stdout",
          "text": [
            "                            OLS Regression Results                            \n",
            "==============================================================================\n",
            "Dep. Variable:                   Time   R-squared:                       1.000\n",
            "Model:                            OLS   Adj. R-squared:                  1.000\n",
            "Method:                 Least Squares   F-statistic:                 4.059e+33\n",
            "Date:                Fri, 09 Jun 2023   Prob (F-statistic):               0.00\n",
            "Time:                        23:28:42   Log-Likelihood:             3.6280e+06\n",
            "No. Observations:              117254   AIC:                        -7.256e+06\n",
            "Df Residuals:                  117240   BIC:                        -7.256e+06\n",
            "Df Model:                          13                                         \n",
            "Covariance Type:            nonrobust                                         \n",
            "==========================================================================================\n",
            "                             coef    std err          t      P>|t|      [0.025      0.975]\n",
            "------------------------------------------------------------------------------------------\n",
            "const                  -1.876e-15   2.38e-17    -78.718      0.000   -1.92e-15   -1.83e-15\n",
            "Time                       1.0000   4.63e-18   2.16e+17      0.000       1.000       1.000\n",
            "Segmento_Agriculture    1.145e-14   8.81e-17    129.974      0.000    1.13e-14    1.16e-14\n",
            "Segmento_Construction  -4.446e-15   5.49e-17    -80.920      0.000   -4.55e-15   -4.34e-15\n",
            "Segmento_Forestry      -1.206e-14   1.46e-16    -82.656      0.000   -1.23e-14   -1.18e-14\n",
            "Segmento_Industry       2.994e-15   9.27e-17     32.308      0.000    2.81e-15    3.18e-15\n",
            "Segmento_Mining         1.047e-15    5.4e-17     19.398      0.000    9.41e-16    1.15e-15\n",
            "Modelo_ART              3.481e-16   4.35e-17      8.001      0.000    2.63e-16    4.33e-16\n",
            "Modelo_EXC             -6.878e-15   3.71e-17   -185.216      0.000   -6.95e-15   -6.81e-15\n",
            "Modelo_WLO                3.8e-15   3.73e-17    102.002      0.000    3.73e-15    3.87e-15\n",
            "Dealer_Ascendum        -1.052e-15   3.11e-17    -33.790      0.000   -1.11e-15   -9.91e-16\n",
            "Dealer_Dinâmica         -1.09e-14   9.72e-17   -112.182      0.000   -1.11e-14   -1.07e-14\n",
            "Dealer_EPSA            -1.793e-15   3.35e-17    -53.513      0.000   -1.86e-15   -1.73e-15\n",
            "Dealer_Gotemburgo       4.516e-15   6.27e-17     71.971      0.000    4.39e-15    4.64e-15\n",
            "Dealer_Linck           -2.665e-15    7.7e-17    -34.606      0.000   -2.82e-15   -2.51e-15\n",
            "Dealer_Tecnoeste        5.205e-15   5.81e-17     89.616      0.000    5.09e-15    5.32e-15\n",
            "Dealer_Tracbel          4.236e-15   6.66e-17     63.585      0.000    4.11e-15    4.37e-15\n",
            "Região_Brasil           5.382e-16    3.1e-17     17.348      0.000    4.77e-16    5.99e-16\n",
            "Região_Hispânico Norte -1.833e-15   3.11e-17    -58.858      0.000   -1.89e-15   -1.77e-15\n",
            "Região_Hispânico Sul   -3.871e-15   3.35e-17   -115.546      0.000   -3.94e-15   -3.81e-15\n",
            "==============================================================================\n",
            "Omnibus:                      964.848   Durbin-Watson:                   0.057\n",
            "Prob(Omnibus):                  0.000   Jarque-Bera (JB):             1251.824\n",
            "Skew:                          -0.134   Prob(JB):                    1.48e-272\n",
            "Kurtosis:                       3.430   Cond. No.                     2.11e+17\n",
            "==============================================================================\n",
            "\n",
            "Notes:\n",
            "[1] Standard Errors assume that the covariance matrix of the errors is correctly specified.\n",
            "[2] The smallest eigenvalue is 1.78e-28. This might indicate that there are\n",
            "strong multicollinearity problems or that the design matrix is singular.\n"
          ]
        }
      ]
    },
    {
      "cell_type": "markdown",
      "metadata": {
        "id": "Edl53pOXrM0-"
      },
      "source": [
        "# Observações / ideias "
      ]
    },
    {
      "cell_type": "markdown",
      "metadata": {
        "id": "s3nsOubcrM0-"
      },
      "source": [
        "* O que fazer com os casos com quantidade de hora trabalhada superior a 24hrs"
      ]
    }
  ],
  "metadata": {
    "kernelspec": {
      "display_name": "base",
      "language": "python",
      "name": "python3"
    },
    "language_info": {
      "codemirror_mode": {
        "name": "ipython",
        "version": 3
      },
      "file_extension": ".py",
      "mimetype": "text/x-python",
      "name": "python",
      "nbconvert_exporter": "python",
      "pygments_lexer": "ipython3",
      "version": "3.10.9"
    },
    "orig_nbformat": 4,
    "colab": {
      "provenance": [],
      "include_colab_link": true
    },
    "widgets": {
      "application/vnd.jupyter.widget-state+json": {
        "c46e44e68ab54ff49e1054258f859062": {
          "model_module": "@jupyter-widgets/controls",
          "model_name": "VBoxModel",
          "model_module_version": "1.5.0",
          "state": {
            "_dom_classes": [
              "widget-interact"
            ],
            "_model_module": "@jupyter-widgets/controls",
            "_model_module_version": "1.5.0",
            "_model_name": "VBoxModel",
            "_view_count": null,
            "_view_module": "@jupyter-widgets/controls",
            "_view_module_version": "1.5.0",
            "_view_name": "VBoxView",
            "box_style": "",
            "children": [
              "IPY_MODEL_896eee62f1ad4893811653146f27c020",
              "IPY_MODEL_df556ec1aac14768921229d4b328c569"
            ],
            "layout": "IPY_MODEL_3829eeff08af448c89dd3e99387ee5ad"
          }
        },
        "896eee62f1ad4893811653146f27c020": {
          "model_module": "@jupyter-widgets/controls",
          "model_name": "DropdownModel",
          "model_module_version": "1.5.0",
          "state": {
            "_dom_classes": [],
            "_model_module": "@jupyter-widgets/controls",
            "_model_module_version": "1.5.0",
            "_model_name": "DropdownModel",
            "_options_labels": [
              "sum",
              "mean",
              "max"
            ],
            "_view_count": null,
            "_view_module": "@jupyter-widgets/controls",
            "_view_module_version": "1.5.0",
            "_view_name": "DropdownView",
            "description": "agg_fun",
            "description_tooltip": null,
            "disabled": false,
            "index": 0,
            "layout": "IPY_MODEL_6579ebe8636c46df8eef71f575221077",
            "style": "IPY_MODEL_5901088c478e47e9bfc0b2f46f7f3c5d"
          }
        },
        "df556ec1aac14768921229d4b328c569": {
          "model_module": "@jupyter-widgets/output",
          "model_name": "OutputModel",
          "model_module_version": "1.0.0",
          "state": {
            "_dom_classes": [],
            "_model_module": "@jupyter-widgets/output",
            "_model_module_version": "1.0.0",
            "_model_name": "OutputModel",
            "_view_count": null,
            "_view_module": "@jupyter-widgets/output",
            "_view_module_version": "1.0.0",
            "_view_name": "OutputView",
            "layout": "IPY_MODEL_2335322cc06c4f3b9fd744e5d6fac5af",
            "msg_id": "",
            "outputs": [
              {
                "output_type": "display_data",
                "data": {
                  "text/plain": "             ID          Time\n4    A30F072791  34866.733302\n5    A30F072792  34114.998207\n2   A040F320657  31374.799993\n10   A30G732008  22328.700000\n52   L60F073176  20759.325003\n8    A30F072960  20031.582174\n50   L60F072957  19716.249997\n51   L60F073082  19024.484009\n29  EC220240605  17361.542157\n11   A30G732028  16391.977772\n42   L60F071852  15644.111229\n45   L60F072447  15060.499988\n48   L60F072664  14808.658335\n13   A30G732035  14321.608705\n41   L60F007228  14232.816662\n49   L60F072903  13962.450017\n57   L60F073972  13187.677268\n6    A30F072882  12641.563738\n28  EC220240485  12562.325004\n54   L60F073325  12434.700000\n0   A030F720057  12366.250015\n27  EC220240477  12132.398330\n47   L60F072640  12056.400011\n35  EC220245244  11410.300011\n30  EC220240814  11028.771619",
                  "text/html": "\n  <div id=\"df-11056917-b9be-4e46-93e5-25531536b0c7\">\n    <div class=\"colab-df-container\">\n      <div>\n<style scoped>\n    .dataframe tbody tr th:only-of-type {\n        vertical-align: middle;\n    }\n\n    .dataframe tbody tr th {\n        vertical-align: top;\n    }\n\n    .dataframe thead th {\n        text-align: right;\n    }\n</style>\n<table border=\"1\" class=\"dataframe\">\n  <thead>\n    <tr style=\"text-align: right;\">\n      <th></th>\n      <th>ID</th>\n      <th>Time</th>\n    </tr>\n  </thead>\n  <tbody>\n    <tr>\n      <th>4</th>\n      <td>A30F072791</td>\n      <td>34866.733302</td>\n    </tr>\n    <tr>\n      <th>5</th>\n      <td>A30F072792</td>\n      <td>34114.998207</td>\n    </tr>\n    <tr>\n      <th>2</th>\n      <td>A040F320657</td>\n      <td>31374.799993</td>\n    </tr>\n    <tr>\n      <th>10</th>\n      <td>A30G732008</td>\n      <td>22328.700000</td>\n    </tr>\n    <tr>\n      <th>52</th>\n      <td>L60F073176</td>\n      <td>20759.325003</td>\n    </tr>\n    <tr>\n      <th>8</th>\n      <td>A30F072960</td>\n      <td>20031.582174</td>\n    </tr>\n    <tr>\n      <th>50</th>\n      <td>L60F072957</td>\n      <td>19716.249997</td>\n    </tr>\n    <tr>\n      <th>51</th>\n      <td>L60F073082</td>\n      <td>19024.484009</td>\n    </tr>\n    <tr>\n      <th>29</th>\n      <td>EC220240605</td>\n      <td>17361.542157</td>\n    </tr>\n    <tr>\n      <th>11</th>\n      <td>A30G732028</td>\n      <td>16391.977772</td>\n    </tr>\n    <tr>\n      <th>42</th>\n      <td>L60F071852</td>\n      <td>15644.111229</td>\n    </tr>\n    <tr>\n      <th>45</th>\n      <td>L60F072447</td>\n      <td>15060.499988</td>\n    </tr>\n    <tr>\n      <th>48</th>\n      <td>L60F072664</td>\n      <td>14808.658335</td>\n    </tr>\n    <tr>\n      <th>13</th>\n      <td>A30G732035</td>\n      <td>14321.608705</td>\n    </tr>\n    <tr>\n      <th>41</th>\n      <td>L60F007228</td>\n      <td>14232.816662</td>\n    </tr>\n    <tr>\n      <th>49</th>\n      <td>L60F072903</td>\n      <td>13962.450017</td>\n    </tr>\n    <tr>\n      <th>57</th>\n      <td>L60F073972</td>\n      <td>13187.677268</td>\n    </tr>\n    <tr>\n      <th>6</th>\n      <td>A30F072882</td>\n      <td>12641.563738</td>\n    </tr>\n    <tr>\n      <th>28</th>\n      <td>EC220240485</td>\n      <td>12562.325004</td>\n    </tr>\n    <tr>\n      <th>54</th>\n      <td>L60F073325</td>\n      <td>12434.700000</td>\n    </tr>\n    <tr>\n      <th>0</th>\n      <td>A030F720057</td>\n      <td>12366.250015</td>\n    </tr>\n    <tr>\n      <th>27</th>\n      <td>EC220240477</td>\n      <td>12132.398330</td>\n    </tr>\n    <tr>\n      <th>47</th>\n      <td>L60F072640</td>\n      <td>12056.400011</td>\n    </tr>\n    <tr>\n      <th>35</th>\n      <td>EC220245244</td>\n      <td>11410.300011</td>\n    </tr>\n    <tr>\n      <th>30</th>\n      <td>EC220240814</td>\n      <td>11028.771619</td>\n    </tr>\n  </tbody>\n</table>\n</div>\n      <button class=\"colab-df-convert\" onclick=\"convertToInteractive('df-11056917-b9be-4e46-93e5-25531536b0c7')\"\n              title=\"Convert this dataframe to an interactive table.\"\n              style=\"display:none;\">\n        \n  <svg xmlns=\"http://www.w3.org/2000/svg\" height=\"24px\"viewBox=\"0 0 24 24\"\n       width=\"24px\">\n    <path d=\"M0 0h24v24H0V0z\" fill=\"none\"/>\n    <path d=\"M18.56 5.44l.94 2.06.94-2.06 2.06-.94-2.06-.94-.94-2.06-.94 2.06-2.06.94zm-11 1L8.5 8.5l.94-2.06 2.06-.94-2.06-.94L8.5 2.5l-.94 2.06-2.06.94zm10 10l.94 2.06.94-2.06 2.06-.94-2.06-.94-.94-2.06-.94 2.06-2.06.94z\"/><path d=\"M17.41 7.96l-1.37-1.37c-.4-.4-.92-.59-1.43-.59-.52 0-1.04.2-1.43.59L10.3 9.45l-7.72 7.72c-.78.78-.78 2.05 0 2.83L4 21.41c.39.39.9.59 1.41.59.51 0 1.02-.2 1.41-.59l7.78-7.78 2.81-2.81c.8-.78.8-2.07 0-2.86zM5.41 20L4 18.59l7.72-7.72 1.47 1.35L5.41 20z\"/>\n  </svg>\n      </button>\n      \n  <style>\n    .colab-df-container {\n      display:flex;\n      flex-wrap:wrap;\n      gap: 12px;\n    }\n\n    .colab-df-convert {\n      background-color: #E8F0FE;\n      border: none;\n      border-radius: 50%;\n      cursor: pointer;\n      display: none;\n      fill: #1967D2;\n      height: 32px;\n      padding: 0 0 0 0;\n      width: 32px;\n    }\n\n    .colab-df-convert:hover {\n      background-color: #E2EBFA;\n      box-shadow: 0px 1px 2px rgba(60, 64, 67, 0.3), 0px 1px 3px 1px rgba(60, 64, 67, 0.15);\n      fill: #174EA6;\n    }\n\n    [theme=dark] .colab-df-convert {\n      background-color: #3B4455;\n      fill: #D2E3FC;\n    }\n\n    [theme=dark] .colab-df-convert:hover {\n      background-color: #434B5C;\n      box-shadow: 0px 1px 3px 1px rgba(0, 0, 0, 0.15);\n      filter: drop-shadow(0px 1px 2px rgba(0, 0, 0, 0.3));\n      fill: #FFFFFF;\n    }\n  </style>\n\n      <script>\n        const buttonEl =\n          document.querySelector('#df-11056917-b9be-4e46-93e5-25531536b0c7 button.colab-df-convert');\n        buttonEl.style.display =\n          google.colab.kernel.accessAllowed ? 'block' : 'none';\n\n        async function convertToInteractive(key) {\n          const element = document.querySelector('#df-11056917-b9be-4e46-93e5-25531536b0c7');\n          const dataTable =\n            await google.colab.kernel.invokeFunction('convertToInteractive',\n                                                     [key], {});\n          if (!dataTable) return;\n\n          const docLinkHtml = 'Like what you see? Visit the ' +\n            '<a target=\"_blank\" href=https://colab.research.google.com/notebooks/data_table.ipynb>data table notebook</a>'\n            + ' to learn more about interactive tables.';\n          element.innerHTML = '';\n          dataTable['output_type'] = 'display_data';\n          await google.colab.output.renderOutput(dataTable, element);\n          const docLink = document.createElement('div');\n          docLink.innerHTML = docLinkHtml;\n          element.appendChild(docLink);\n        }\n      </script>\n    </div>\n  </div>\n  "
                },
                "metadata": {}
              }
            ]
          }
        },
        "3829eeff08af448c89dd3e99387ee5ad": {
          "model_module": "@jupyter-widgets/base",
          "model_name": "LayoutModel",
          "model_module_version": "1.2.0",
          "state": {
            "_model_module": "@jupyter-widgets/base",
            "_model_module_version": "1.2.0",
            "_model_name": "LayoutModel",
            "_view_count": null,
            "_view_module": "@jupyter-widgets/base",
            "_view_module_version": "1.2.0",
            "_view_name": "LayoutView",
            "align_content": null,
            "align_items": null,
            "align_self": null,
            "border": null,
            "bottom": null,
            "display": null,
            "flex": null,
            "flex_flow": null,
            "grid_area": null,
            "grid_auto_columns": null,
            "grid_auto_flow": null,
            "grid_auto_rows": null,
            "grid_column": null,
            "grid_gap": null,
            "grid_row": null,
            "grid_template_areas": null,
            "grid_template_columns": null,
            "grid_template_rows": null,
            "height": null,
            "justify_content": null,
            "justify_items": null,
            "left": null,
            "margin": null,
            "max_height": null,
            "max_width": null,
            "min_height": null,
            "min_width": null,
            "object_fit": null,
            "object_position": null,
            "order": null,
            "overflow": null,
            "overflow_x": null,
            "overflow_y": null,
            "padding": null,
            "right": null,
            "top": null,
            "visibility": null,
            "width": null
          }
        },
        "6579ebe8636c46df8eef71f575221077": {
          "model_module": "@jupyter-widgets/base",
          "model_name": "LayoutModel",
          "model_module_version": "1.2.0",
          "state": {
            "_model_module": "@jupyter-widgets/base",
            "_model_module_version": "1.2.0",
            "_model_name": "LayoutModel",
            "_view_count": null,
            "_view_module": "@jupyter-widgets/base",
            "_view_module_version": "1.2.0",
            "_view_name": "LayoutView",
            "align_content": null,
            "align_items": null,
            "align_self": null,
            "border": null,
            "bottom": null,
            "display": null,
            "flex": null,
            "flex_flow": null,
            "grid_area": null,
            "grid_auto_columns": null,
            "grid_auto_flow": null,
            "grid_auto_rows": null,
            "grid_column": null,
            "grid_gap": null,
            "grid_row": null,
            "grid_template_areas": null,
            "grid_template_columns": null,
            "grid_template_rows": null,
            "height": null,
            "justify_content": null,
            "justify_items": null,
            "left": null,
            "margin": null,
            "max_height": null,
            "max_width": null,
            "min_height": null,
            "min_width": null,
            "object_fit": null,
            "object_position": null,
            "order": null,
            "overflow": null,
            "overflow_x": null,
            "overflow_y": null,
            "padding": null,
            "right": null,
            "top": null,
            "visibility": null,
            "width": null
          }
        },
        "5901088c478e47e9bfc0b2f46f7f3c5d": {
          "model_module": "@jupyter-widgets/controls",
          "model_name": "DescriptionStyleModel",
          "model_module_version": "1.5.0",
          "state": {
            "_model_module": "@jupyter-widgets/controls",
            "_model_module_version": "1.5.0",
            "_model_name": "DescriptionStyleModel",
            "_view_count": null,
            "_view_module": "@jupyter-widgets/base",
            "_view_module_version": "1.2.0",
            "_view_name": "StyleView",
            "description_width": ""
          }
        },
        "2335322cc06c4f3b9fd744e5d6fac5af": {
          "model_module": "@jupyter-widgets/base",
          "model_name": "LayoutModel",
          "model_module_version": "1.2.0",
          "state": {
            "_model_module": "@jupyter-widgets/base",
            "_model_module_version": "1.2.0",
            "_model_name": "LayoutModel",
            "_view_count": null,
            "_view_module": "@jupyter-widgets/base",
            "_view_module_version": "1.2.0",
            "_view_name": "LayoutView",
            "align_content": null,
            "align_items": null,
            "align_self": null,
            "border": null,
            "bottom": null,
            "display": null,
            "flex": null,
            "flex_flow": null,
            "grid_area": null,
            "grid_auto_columns": null,
            "grid_auto_flow": null,
            "grid_auto_rows": null,
            "grid_column": null,
            "grid_gap": null,
            "grid_row": null,
            "grid_template_areas": null,
            "grid_template_columns": null,
            "grid_template_rows": null,
            "height": null,
            "justify_content": null,
            "justify_items": null,
            "left": null,
            "margin": null,
            "max_height": null,
            "max_width": null,
            "min_height": null,
            "min_width": null,
            "object_fit": null,
            "object_position": null,
            "order": null,
            "overflow": null,
            "overflow_x": null,
            "overflow_y": null,
            "padding": null,
            "right": null,
            "top": null,
            "visibility": null,
            "width": null
          }
        },
        "5564df52904844ffb08686b177ab9428": {
          "model_module": "@jupyter-widgets/controls",
          "model_name": "VBoxModel",
          "model_module_version": "1.5.0",
          "state": {
            "_dom_classes": [
              "widget-interact"
            ],
            "_model_module": "@jupyter-widgets/controls",
            "_model_module_version": "1.5.0",
            "_model_name": "VBoxModel",
            "_view_count": null,
            "_view_module": "@jupyter-widgets/controls",
            "_view_module_version": "1.5.0",
            "_view_name": "VBoxView",
            "box_style": "",
            "children": [
              "IPY_MODEL_a05d2246fd1d46dabe4a98d8f51152b6",
              "IPY_MODEL_347b442e5c27444699691131662d305d"
            ],
            "layout": "IPY_MODEL_dd4b5266669e4c61a3e7107f7b8818cc"
          }
        },
        "a05d2246fd1d46dabe4a98d8f51152b6": {
          "model_module": "@jupyter-widgets/controls",
          "model_name": "DropdownModel",
          "model_module_version": "1.5.0",
          "state": {
            "_dom_classes": [],
            "_model_module": "@jupyter-widgets/controls",
            "_model_module_version": "1.5.0",
            "_model_name": "DropdownModel",
            "_options_labels": [
              "A030F720057",
              "A040F320538",
              "A040F320657",
              "A040F320672",
              "A30F072791",
              "A30F072792",
              "A30F072882",
              "A30F072956",
              "A30F072960",
              "A30F072964",
              "A30G732008",
              "A30G732028",
              "A30G732029",
              "A30G732035",
              "A30G732052",
              "A30G732079",
              "A40G341530",
              "A45G332087",
              "A45G332090",
              "A45G332092",
              "EC210240111",
              "EC210282764",
              "EC210282811",
              "EC220240109",
              "EC220240223",
              "EC220240341",
              "EC220240448",
              "EC220240477",
              "EC220240485",
              "EC220240605",
              "EC220240814",
              "EC220245052",
              "EC220245079",
              "EC220245238",
              "EC220245239",
              "EC220245244",
              "EC220245253",
              "EC220245261",
              "EC220245288",
              "EC220245388",
              "EC220245461",
              "L60F007228",
              "L60F071852",
              "L60F072205",
              "L60F072286",
              "L60F072447",
              "L60F072499",
              "L60F072640",
              "L60F072664",
              "L60F072903",
              "L60F072957",
              "L60F073082",
              "L60F073176",
              "L60F073321",
              "L60F073325",
              "L60F073726",
              "L60F073882",
              "L60F073972",
              "L60F074089",
              "L60F074104",
              "L60F074121",
              "L60F074213"
            ],
            "_view_count": null,
            "_view_module": "@jupyter-widgets/controls",
            "_view_module_version": "1.5.0",
            "_view_name": "DropdownView",
            "description": "id",
            "description_tooltip": null,
            "disabled": false,
            "index": 0,
            "layout": "IPY_MODEL_a76162c868674fb7a54834431a674512",
            "style": "IPY_MODEL_a85c9cba2ed54b619bb3eb221698be5f"
          }
        },
        "347b442e5c27444699691131662d305d": {
          "model_module": "@jupyter-widgets/output",
          "model_name": "OutputModel",
          "model_module_version": "1.0.0",
          "state": {
            "_dom_classes": [],
            "_model_module": "@jupyter-widgets/output",
            "_model_module_version": "1.0.0",
            "_model_name": "OutputModel",
            "_view_count": null,
            "_view_module": "@jupyter-widgets/output",
            "_view_module_version": "1.0.0",
            "_view_name": "OutputView",
            "layout": "IPY_MODEL_083855e4226d4132929347947972322c",
            "msg_id": "",
            "outputs": [
              {
                "output_type": "display_data",
                "data": {
                  "text/plain": "<Figure size 1600x300 with 1 Axes>",
                  "image/png": "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\n"
                },
                "metadata": {}
              }
            ]
          }
        },
        "dd4b5266669e4c61a3e7107f7b8818cc": {
          "model_module": "@jupyter-widgets/base",
          "model_name": "LayoutModel",
          "model_module_version": "1.2.0",
          "state": {
            "_model_module": "@jupyter-widgets/base",
            "_model_module_version": "1.2.0",
            "_model_name": "LayoutModel",
            "_view_count": null,
            "_view_module": "@jupyter-widgets/base",
            "_view_module_version": "1.2.0",
            "_view_name": "LayoutView",
            "align_content": null,
            "align_items": null,
            "align_self": null,
            "border": null,
            "bottom": null,
            "display": null,
            "flex": null,
            "flex_flow": null,
            "grid_area": null,
            "grid_auto_columns": null,
            "grid_auto_flow": null,
            "grid_auto_rows": null,
            "grid_column": null,
            "grid_gap": null,
            "grid_row": null,
            "grid_template_areas": null,
            "grid_template_columns": null,
            "grid_template_rows": null,
            "height": null,
            "justify_content": null,
            "justify_items": null,
            "left": null,
            "margin": null,
            "max_height": null,
            "max_width": null,
            "min_height": null,
            "min_width": null,
            "object_fit": null,
            "object_position": null,
            "order": null,
            "overflow": null,
            "overflow_x": null,
            "overflow_y": null,
            "padding": null,
            "right": null,
            "top": null,
            "visibility": null,
            "width": null
          }
        },
        "a76162c868674fb7a54834431a674512": {
          "model_module": "@jupyter-widgets/base",
          "model_name": "LayoutModel",
          "model_module_version": "1.2.0",
          "state": {
            "_model_module": "@jupyter-widgets/base",
            "_model_module_version": "1.2.0",
            "_model_name": "LayoutModel",
            "_view_count": null,
            "_view_module": "@jupyter-widgets/base",
            "_view_module_version": "1.2.0",
            "_view_name": "LayoutView",
            "align_content": null,
            "align_items": null,
            "align_self": null,
            "border": null,
            "bottom": null,
            "display": null,
            "flex": null,
            "flex_flow": null,
            "grid_area": null,
            "grid_auto_columns": null,
            "grid_auto_flow": null,
            "grid_auto_rows": null,
            "grid_column": null,
            "grid_gap": null,
            "grid_row": null,
            "grid_template_areas": null,
            "grid_template_columns": null,
            "grid_template_rows": null,
            "height": null,
            "justify_content": null,
            "justify_items": null,
            "left": null,
            "margin": null,
            "max_height": null,
            "max_width": null,
            "min_height": null,
            "min_width": null,
            "object_fit": null,
            "object_position": null,
            "order": null,
            "overflow": null,
            "overflow_x": null,
            "overflow_y": null,
            "padding": null,
            "right": null,
            "top": null,
            "visibility": null,
            "width": null
          }
        },
        "a85c9cba2ed54b619bb3eb221698be5f": {
          "model_module": "@jupyter-widgets/controls",
          "model_name": "DescriptionStyleModel",
          "model_module_version": "1.5.0",
          "state": {
            "_model_module": "@jupyter-widgets/controls",
            "_model_module_version": "1.5.0",
            "_model_name": "DescriptionStyleModel",
            "_view_count": null,
            "_view_module": "@jupyter-widgets/base",
            "_view_module_version": "1.2.0",
            "_view_name": "StyleView",
            "description_width": ""
          }
        },
        "083855e4226d4132929347947972322c": {
          "model_module": "@jupyter-widgets/base",
          "model_name": "LayoutModel",
          "model_module_version": "1.2.0",
          "state": {
            "_model_module": "@jupyter-widgets/base",
            "_model_module_version": "1.2.0",
            "_model_name": "LayoutModel",
            "_view_count": null,
            "_view_module": "@jupyter-widgets/base",
            "_view_module_version": "1.2.0",
            "_view_name": "LayoutView",
            "align_content": null,
            "align_items": null,
            "align_self": null,
            "border": null,
            "bottom": null,
            "display": null,
            "flex": null,
            "flex_flow": null,
            "grid_area": null,
            "grid_auto_columns": null,
            "grid_auto_flow": null,
            "grid_auto_rows": null,
            "grid_column": null,
            "grid_gap": null,
            "grid_row": null,
            "grid_template_areas": null,
            "grid_template_columns": null,
            "grid_template_rows": null,
            "height": null,
            "justify_content": null,
            "justify_items": null,
            "left": null,
            "margin": null,
            "max_height": null,
            "max_width": null,
            "min_height": null,
            "min_width": null,
            "object_fit": null,
            "object_position": null,
            "order": null,
            "overflow": null,
            "overflow_x": null,
            "overflow_y": null,
            "padding": null,
            "right": null,
            "top": null,
            "visibility": null,
            "width": null
          }
        }
      }
    }
  },
  "nbformat": 4,
  "nbformat_minor": 0
}